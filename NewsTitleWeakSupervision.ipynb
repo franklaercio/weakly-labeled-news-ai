{
 "cells": [
  {
   "cell_type": "markdown",
   "id": "b161576a",
   "metadata": {},
   "source": [
    "# Weakly-Supervised Learning for News Title Classification\n",
    "## PPgTI - Programa de Pós-Graduação em Tecnologia da Informação\n",
    "### Author: Frank Laércio da Costa Santos Júnior"
   ]
  },
  {
   "cell_type": "markdown",
   "id": "b92e06fd",
   "metadata": {},
   "source": [
    "## Abstract\n",
    "\n",
    "This project explores weak supervision techniques for the classification of news headlines using the AG News dataset from Hugging Face. Instead of relying on fully annotated data, this approach leverages programmatic labeling through a set of handcrafted labeling functions (LFs), each capturing different heuristics, patterns, or external cues indicative of a news category (e.g., \"World\", \"Sports\", \"Business\", \"Sci/Tech\").\n",
    "\n",
    "To aggregate noisy and potentially conflicting labels from these functions, the project uses a majority voting strategy to generate high-confidence pseudo-labels. These weak labels are then used to train a supervised classifier based on transformer models such as BERT or DistilBERT.\n",
    "\n",
    "This pipeline enables scalable and cost-effective classification of news titles with minimal human supervision, demonstrating how weak supervision can bridge the gap between unsupervised and fully supervised learning in natural language processing tasks.\n",
    "\n",
    "__Key Points:__\n",
    "- Dataset: [AG News (fancyzhx)](https://huggingface.co/datasets/fancyzhx/ag_news)\n",
    "- Labeling Functions: Heuristic-based and keyword-driven LFs, including domain-specific word lists and pattern-matching rules\n",
    "- Label Aggregation: Simple majority vote across LFs to generate pseudo-labels\n",
    "- Modeling: Fine-tuned transformer models on the weak labels\n",
    "- Evaluation: Performance comparison with a baseline trained on the original labels"
   ]
  },
  {
   "cell_type": "markdown",
   "id": "3ca2734b",
   "metadata": {},
   "source": [
    "### Dataset Overview"
   ]
  },
  {
   "cell_type": "code",
   "execution_count": 1,
   "id": "d4a16f1c",
   "metadata": {},
   "outputs": [
    {
     "name": "stderr",
     "output_type": "stream",
     "text": [
      "/home/franklaercio/.cache/pypoetry/virtualenvs/weakly-labeled-news-ai--KQDVdkK-py3.12/lib/python3.12/site-packages/tqdm/auto.py:21: TqdmWarning: IProgress not found. Please update jupyter and ipywidgets. See https://ipywidgets.readthedocs.io/en/stable/user_install.html\n",
      "  from .autonotebook import tqdm as notebook_tqdm\n"
     ]
    }
   ],
   "source": [
    "import pandas as pd\n",
    "import os\n",
    "\n",
    "from huggingface_hub import login\n",
    "from dotenv import load_dotenv\n",
    "\n",
    "load_dotenv()\n",
    "\n",
    "token = os.getenv(\"HUGGIN_FACE_ACCESS_TOKEN\")\n",
    "\n",
    "if token is None:\n",
    "    raise ValueError(\"Please set the HF_TOKEN environment variable with your Hugging Face token.\")\n",
    "\n",
    "login(token=token)"
   ]
  },
  {
   "cell_type": "code",
   "execution_count": 2,
   "id": "1a1a7c9d",
   "metadata": {},
   "outputs": [
    {
     "data": {
      "text/html": [
       "<div>\n",
       "<style scoped>\n",
       "    .dataframe tbody tr th:only-of-type {\n",
       "        vertical-align: middle;\n",
       "    }\n",
       "\n",
       "    .dataframe tbody tr th {\n",
       "        vertical-align: top;\n",
       "    }\n",
       "\n",
       "    .dataframe thead th {\n",
       "        text-align: right;\n",
       "    }\n",
       "</style>\n",
       "<table border=\"1\" class=\"dataframe\">\n",
       "  <thead>\n",
       "    <tr style=\"text-align: right;\">\n",
       "      <th></th>\n",
       "      <th>text</th>\n",
       "      <th>label</th>\n",
       "      <th>id</th>\n",
       "    </tr>\n",
       "  </thead>\n",
       "  <tbody>\n",
       "    <tr>\n",
       "      <th>0</th>\n",
       "      <td>Wall St. Bears Claw Back Into the Black (Reute...</td>\n",
       "      <td>2</td>\n",
       "      <td>1</td>\n",
       "    </tr>\n",
       "    <tr>\n",
       "      <th>1</th>\n",
       "      <td>Carlyle Looks Toward Commercial Aerospace (Reu...</td>\n",
       "      <td>2</td>\n",
       "      <td>2</td>\n",
       "    </tr>\n",
       "    <tr>\n",
       "      <th>2</th>\n",
       "      <td>Oil and Economy Cloud Stocks' Outlook (Reuters...</td>\n",
       "      <td>2</td>\n",
       "      <td>3</td>\n",
       "    </tr>\n",
       "    <tr>\n",
       "      <th>3</th>\n",
       "      <td>Iraq Halts Oil Exports from Main Southern Pipe...</td>\n",
       "      <td>2</td>\n",
       "      <td>4</td>\n",
       "    </tr>\n",
       "    <tr>\n",
       "      <th>4</th>\n",
       "      <td>Oil prices soar to all-time record, posing new...</td>\n",
       "      <td>2</td>\n",
       "      <td>5</td>\n",
       "    </tr>\n",
       "    <tr>\n",
       "      <th>...</th>\n",
       "      <td>...</td>\n",
       "      <td>...</td>\n",
       "      <td>...</td>\n",
       "    </tr>\n",
       "    <tr>\n",
       "      <th>119995</th>\n",
       "      <td>Pakistan's Musharraf Says Won't Quit as Army C...</td>\n",
       "      <td>0</td>\n",
       "      <td>119996</td>\n",
       "    </tr>\n",
       "    <tr>\n",
       "      <th>119996</th>\n",
       "      <td>Renteria signing a top-shelf deal Red Sox gene...</td>\n",
       "      <td>1</td>\n",
       "      <td>119997</td>\n",
       "    </tr>\n",
       "    <tr>\n",
       "      <th>119997</th>\n",
       "      <td>Saban not going to Dolphins yet The Miami Dolp...</td>\n",
       "      <td>1</td>\n",
       "      <td>119998</td>\n",
       "    </tr>\n",
       "    <tr>\n",
       "      <th>119998</th>\n",
       "      <td>Today's NFL games PITTSBURGH at NY GIANTS Time...</td>\n",
       "      <td>1</td>\n",
       "      <td>119999</td>\n",
       "    </tr>\n",
       "    <tr>\n",
       "      <th>119999</th>\n",
       "      <td>Nets get Carter from Raptors INDIANAPOLIS -- A...</td>\n",
       "      <td>1</td>\n",
       "      <td>120000</td>\n",
       "    </tr>\n",
       "  </tbody>\n",
       "</table>\n",
       "<p>120000 rows × 3 columns</p>\n",
       "</div>"
      ],
      "text/plain": [
       "                                                     text  label      id\n",
       "0       Wall St. Bears Claw Back Into the Black (Reute...      2       1\n",
       "1       Carlyle Looks Toward Commercial Aerospace (Reu...      2       2\n",
       "2       Oil and Economy Cloud Stocks' Outlook (Reuters...      2       3\n",
       "3       Iraq Halts Oil Exports from Main Southern Pipe...      2       4\n",
       "4       Oil prices soar to all-time record, posing new...      2       5\n",
       "...                                                   ...    ...     ...\n",
       "119995  Pakistan's Musharraf Says Won't Quit as Army C...      0  119996\n",
       "119996  Renteria signing a top-shelf deal Red Sox gene...      1  119997\n",
       "119997  Saban not going to Dolphins yet The Miami Dolp...      1  119998\n",
       "119998  Today's NFL games PITTSBURGH at NY GIANTS Time...      1  119999\n",
       "119999  Nets get Carter from Raptors INDIANAPOLIS -- A...      1  120000\n",
       "\n",
       "[120000 rows x 3 columns]"
      ]
     },
     "execution_count": 2,
     "metadata": {},
     "output_type": "execute_result"
    }
   ],
   "source": [
    "# Load the dataset from Hugging Face\n",
    "df_news = pd.read_parquet(\"hf://datasets/fancyzhx/ag_news/data/train-00000-of-00001.parquet\")\n",
    "df_news['id'] = range(1, len(df_news) + 1)\n",
    "df_news"
   ]
  },
  {
   "cell_type": "code",
   "execution_count": 3,
   "id": "6819bfae",
   "metadata": {},
   "outputs": [],
   "source": [
    "# Saving the dataset to a local parquet file\n",
    "df_news.to_parquet(\"data/data_with_labels.parquet\", index=False)"
   ]
  },
  {
   "cell_type": "markdown",
   "id": "47cdaffb",
   "metadata": {},
   "source": [
    "__Labels in the AG News dataset:__\n",
    "- 0: World\n",
    "- 1: Sports\n",
    "- 2: Business\n",
    "- 3: Science/Technology"
   ]
  },
  {
   "cell_type": "code",
   "execution_count": 4,
   "id": "8d8193b0",
   "metadata": {},
   "outputs": [
    {
     "data": {
      "text/plain": [
       "label\n",
       "2    30000\n",
       "3    30000\n",
       "1    30000\n",
       "0    30000\n",
       "Name: count, dtype: int64"
      ]
     },
     "execution_count": 4,
     "metadata": {},
     "output_type": "execute_result"
    }
   ],
   "source": [
    "# Display the first few rows of the dataset\n",
    "df_news[\"label\"].value_counts()"
   ]
  },
  {
   "cell_type": "markdown",
   "id": "164f702b",
   "metadata": {},
   "source": [
    "### Preprocessing"
   ]
  },
  {
   "cell_type": "markdown",
   "id": "7cde9043",
   "metadata": {},
   "source": [
    "In a real-world weak supervision setting, we assume **true labels are unavailable** during training. Therefore, preprocessing is crucial to ensure that the data is clean, consistent, and suitable for programmatic labeling. \n",
    "\n",
    "__Below are the key preprocessing steps applied:__\n",
    "\n",
    "1) Remove Ground-Truth Labels (Simulate Unlabeled Setting)\n",
    "To simulate a realistic weak supervision scenario:\n",
    "- Drop the original labels from the training dataset.\n",
    "- Retain a **small gold-labeled subset** separately for final evaluation purposes.\n",
    "\n",
    "2) Clean and Normalize Text\n",
    "Standardizing text helps labeling functions behave consistently.\n",
    "\n",
    "- Convert all text to **lowercase**.\n",
    "- Remove **special characters** and **punctuation** using regex.\n",
    "- Strip **extra whitespaces** and normalize spacing.\n",
    "\n",
    "3) Remove Duplicate Titles\n",
    "Duplicate headlines can:\n",
    "- Skew label distributions.\n",
    "- Inflate perceived LF accuracy.\n",
    "- Introduce bias in training and evaluation.\n",
    "\n",
    "4) Remove Outliers\n",
    "Outliers may be:\n",
    "- Abnormally short or long headlines.\n",
    "- Garbled or irrelevant text.\n",
    "\n",
    "5) Filtering out outliers improves label quality and model stability:\n",
    "- Remove titles with fewer than 3 words or more than 30 words.\n",
    "- (Optional) Use embedding-based methods to remove semantically anomalous entries.\n",
    "\n",
    "6) Split Dataset into Train and Development Sets\n",
    "We split the cleaned dataset into:\n",
    "- **Training set**: Used for applying labeling functions and model training.\n",
    "- **Development set**: Used to tune labeling function thresholds and estimate label quality.\n",
    "- **Typically**, a 80/20 split is used.\n",
    "\n",
    "7) Create Gold-Labeled Evaluation Set\n",
    "To measure the effectiveness of weak labels and model performance:\n",
    "- Sample a **gold set** (e.g., 1,000 examples) from the original labeled data.\n",
    "- Use only for **final evaluation** — never during training or LF tuning.\n"
   ]
  },
  {
   "cell_type": "code",
   "execution_count": 5,
   "id": "d29deccd",
   "metadata": {},
   "outputs": [
    {
     "data": {
      "text/html": [
       "<div>\n",
       "<style scoped>\n",
       "    .dataframe tbody tr th:only-of-type {\n",
       "        vertical-align: middle;\n",
       "    }\n",
       "\n",
       "    .dataframe tbody tr th {\n",
       "        vertical-align: top;\n",
       "    }\n",
       "\n",
       "    .dataframe thead th {\n",
       "        text-align: right;\n",
       "    }\n",
       "</style>\n",
       "<table border=\"1\" class=\"dataframe\">\n",
       "  <thead>\n",
       "    <tr style=\"text-align: right;\">\n",
       "      <th></th>\n",
       "      <th>text</th>\n",
       "      <th>id</th>\n",
       "    </tr>\n",
       "  </thead>\n",
       "  <tbody>\n",
       "    <tr>\n",
       "      <th>0</th>\n",
       "      <td>Wall St. Bears Claw Back Into the Black (Reute...</td>\n",
       "      <td>1</td>\n",
       "    </tr>\n",
       "    <tr>\n",
       "      <th>1</th>\n",
       "      <td>Carlyle Looks Toward Commercial Aerospace (Reu...</td>\n",
       "      <td>2</td>\n",
       "    </tr>\n",
       "    <tr>\n",
       "      <th>2</th>\n",
       "      <td>Oil and Economy Cloud Stocks' Outlook (Reuters...</td>\n",
       "      <td>3</td>\n",
       "    </tr>\n",
       "    <tr>\n",
       "      <th>3</th>\n",
       "      <td>Iraq Halts Oil Exports from Main Southern Pipe...</td>\n",
       "      <td>4</td>\n",
       "    </tr>\n",
       "    <tr>\n",
       "      <th>4</th>\n",
       "      <td>Oil prices soar to all-time record, posing new...</td>\n",
       "      <td>5</td>\n",
       "    </tr>\n",
       "    <tr>\n",
       "      <th>...</th>\n",
       "      <td>...</td>\n",
       "      <td>...</td>\n",
       "    </tr>\n",
       "    <tr>\n",
       "      <th>119995</th>\n",
       "      <td>Pakistan's Musharraf Says Won't Quit as Army C...</td>\n",
       "      <td>119996</td>\n",
       "    </tr>\n",
       "    <tr>\n",
       "      <th>119996</th>\n",
       "      <td>Renteria signing a top-shelf deal Red Sox gene...</td>\n",
       "      <td>119997</td>\n",
       "    </tr>\n",
       "    <tr>\n",
       "      <th>119997</th>\n",
       "      <td>Saban not going to Dolphins yet The Miami Dolp...</td>\n",
       "      <td>119998</td>\n",
       "    </tr>\n",
       "    <tr>\n",
       "      <th>119998</th>\n",
       "      <td>Today's NFL games PITTSBURGH at NY GIANTS Time...</td>\n",
       "      <td>119999</td>\n",
       "    </tr>\n",
       "    <tr>\n",
       "      <th>119999</th>\n",
       "      <td>Nets get Carter from Raptors INDIANAPOLIS -- A...</td>\n",
       "      <td>120000</td>\n",
       "    </tr>\n",
       "  </tbody>\n",
       "</table>\n",
       "<p>120000 rows × 2 columns</p>\n",
       "</div>"
      ],
      "text/plain": [
       "                                                     text      id\n",
       "0       Wall St. Bears Claw Back Into the Black (Reute...       1\n",
       "1       Carlyle Looks Toward Commercial Aerospace (Reu...       2\n",
       "2       Oil and Economy Cloud Stocks' Outlook (Reuters...       3\n",
       "3       Iraq Halts Oil Exports from Main Southern Pipe...       4\n",
       "4       Oil prices soar to all-time record, posing new...       5\n",
       "...                                                   ...     ...\n",
       "119995  Pakistan's Musharraf Says Won't Quit as Army C...  119996\n",
       "119996  Renteria signing a top-shelf deal Red Sox gene...  119997\n",
       "119997  Saban not going to Dolphins yet The Miami Dolp...  119998\n",
       "119998  Today's NFL games PITTSBURGH at NY GIANTS Time...  119999\n",
       "119999  Nets get Carter from Raptors INDIANAPOLIS -- A...  120000\n",
       "\n",
       "[120000 rows x 2 columns]"
      ]
     },
     "execution_count": 5,
     "metadata": {},
     "output_type": "execute_result"
    }
   ],
   "source": [
    "# Drop the label column and keep the rest of the dataset\n",
    "df = df_news.drop(columns=[\"label\"], axis=1)\n",
    "df"
   ]
  },
  {
   "cell_type": "code",
   "execution_count": 6,
   "id": "aaa33a68",
   "metadata": {},
   "outputs": [
    {
     "name": "stdout",
     "output_type": "stream",
     "text": [
      "108718 - Pound: Jones Should Lose Olympic Medals (AP) AP - Marion Jones should be stripped of her five Olympic medals if allegations that she used banned drugs before the 2000 Sydney Games are true, World Anti-Doping Agency chief Dick Pound said Friday.\n",
      "\n",
      "104784 - Newspaper Publishers Padded Sales Figures Investigations have found that several companies inflated circulation totals and revenue in order to keep advertising rates high.\n",
      "\n",
      "16597 - Ballmer Beats Security Drum BOSTON -- Microsoft CEO Steve Ballmer believes the software industry will create more positive change in the next 10 years than it did in the previous 10 -- provided that security threats are effectively handled.\n",
      "\n",
      "73156 - 78 die after being arrested in Thailand riots TAKBAI, THAILAND - As many as 78 people were crushed in the aftermath of a riot in southern Thailand, officials said on Tuesday. A prominent Thai pathologist told a news conference that most of the victims \n",
      "\n",
      "34023 - Halliburton not notified on contract ban in Nigeria: spokeswoman (AFP) AFP - US company Halliburton said Nigeria has not notified it about its decision to place an embargo on awarding government contracts to the oil services giant's subsidiary in the west African country.\n",
      "\n",
      "2124 - Senate probe needed: Faulkner A SENATE inquiry was needed into claims that the Prime Minister misled the Australian public over the children overboard affair, Labor Senate Leader John Faulkner said. \n",
      "\n",
      "20282 - Notes: Mariners add four more Seattle added Aaron Taylor, Jeremy Reed, Mickey Lopez and Greg Dobbs to the Major League roster prior to the game Monday at Safeco Field.\n",
      "\n",
      "70123 - Latin American presidents wish Castro prompt recovery Presidents of some Latin American countries have sent messages for a prompt recovery to Cuban leader Fidel Castro, who injured a knee and an arm after a fall on Wednesday.\n",
      "\n",
      "85198 - Benfica #39;s Gomes sprains left knee Benfica striker Nuno Gomes sprained his left knee during a league match at the weekend but will not need surgery, the Portuguese league leaders said in a statement onMonday.\n",
      "\n",
      "40925 - Microsoft steps up efforts to nab Unix migrations Hoping to throw some tacks in the road to slow Linux momentum, Microsoft during the next year will redouble its efforts to woo more corporate users migrating from Unix to the open source OS.\n",
      "\n",
      "30076 - Nortel sees slower-than-market growth in Q3 Nortel Networks Corp. expects its revenue in the third quarter to fall below the previous quarter #39;s estimated number and for its full-year 2004 revenue to grow slower than the overall communications equipment \n",
      "\n",
      "50687 - PalmOne, Microsoft Join on Mobile E-Mail Sometimes it pays to befriend an enemy. Longtime foes palmOne Inc. and Microsoft Corp. Tuesday announced a licensing deal that will allow the next generation of palmOne #39;s \n",
      "\n",
      "48154 - Wasteful Valencia held to draw Wasteful Valencia had to settle for a 1-1 draw away to Real Betis on Saturday, while Atletico Madrid missed a chance to move into the Spanish leaguie #39;s top three when they were beaten 1-0 away to Real Sociedad.\n",
      "\n",
      "59273 - Minding the Search Engine Business The UK specific version of Froogle features prices in UK Pounds and AdWords ads from British merchants. The company said it hoped the launch would offer a better online shopping experience both today and during the upcoming holidays.\n",
      "\n",
      "15302 - Ultimate Soccer Mom In addition to driving Freddy to practice, Emelia Adu also holds responsibilities more befitting of a campaign manager than the mother of a teen.\n",
      "\n",
      "77619 - 28 Identity Theft Suspects Arrested in Transatlantic Sting Law enforcement authorities on both sides of the Atlantic have arrested 28 people on suspicion of operating Web sites that were allegedly designed to steal, sell and forge credit cards and identification documents.\n",
      "\n",
      "52690 - Oil price exceeds record mark OIL #39;S RECORD-breaking rally took US crude over US\\$52 a barrel yesterday fuelled by the impact of Hurricane Ivan on US winter inventories.\n",
      "\n",
      "8924 - End of line for Buffalo bakery Interstate Bakeries Corp. said it plans to shut down its bakery operation in Buffalo effective Oct. 23, a closing the Kansas City-based company said will affect approximately 200 employees.\n",
      "\n",
      "76378 - SBC offers \\$19.95 DSL with a catch SBC Communications unveiled a \\$19.95 price for its DSL service, but only if customers buy a wire line phone service for \\$48.95.\n",
      "\n",
      "79123 - China plans five-day space mission China has announced that is to send a second manned mission to space in 2005, signaling a firm commitment to its emerging space programme.\n",
      "\n",
      "114285 - Group: 2 More Detainees Die in Afghanistan (AP) AP - Human Rights Watch said Monday it had uncovered two more cases of prisoners dying in American custody in Afghanistan, and it accused the Bush administration of \"dragging its feet\" on investigations that could have prevented the abuse of prisoners in Iraq.\n",
      "\n",
      "118995 - OSI Pharma Soars on AstraZeneca #39;s Loss Shares in OSI Pharmaceuticals (OSIP :Nasdaq - news - research) and Genentech (DNA :Nasdaq - news - research) jumped Friday after AstraZeneca (AZN :NYSE - news - research) said new medical data showed its lung cancer drug Iressa provided no survival \n",
      "\n",
      "81299 - Scots name Burns temporary manager Assistant manager Tommy Burns has been put in temporary charge of Scotland following the resignation of Berti Vogts, the Scottish FA said on Thursday.\n",
      "\n",
      "66978 - Bleak picture from US airline results Major US airlines yesterday reported heavy third quarter losses, under pressure from record fuel prices and fierce competition with budget carriers.\n",
      "\n",
      "6260 - China college for Internet game industry A college to provide training for the Internet games industry has been opened in Beijing. Xinhua, China #39;s main government-run news agency, reported Saturday that China #39;s Ministry \n",
      "\n",
      "21061 - U.S. to Meet Asian Allies, Chinese on N. Korea  WASHINGTON (Reuters) - The chief U.S. negotiator on North  Korea will hold discussions in Japan and China in the next few  days aimed at organizing a fresh round of six-party talks on  dismantling Pyongyang's nuclear programs, a State Department  official said on Tuesday.\n",
      "\n",
      "89048 - AOL Paddles Into Crowded Travel Pool America Online dipped its toe into the onrushing online travel business Friday with an investment in closely held Kayak. AOL didn #39;t disclose details of the multiyear marketing-and-technology agreement.\n",
      "\n",
      "38952 - UPDATE 3-Roddick hits record serve as US take control Andy Roddick broke his own fastest serve record as he helped the US take a 2-0 lead over Belarus in their Davis Cup semi-final on Friday.\n",
      "\n",
      "108944 - Local manager weighs in on steroid use By the numbers. By Elia Powers. With recent reports stemming from grand jury testimony that link major league baseball sluggers Jason Giambi and Barry Bonds to past steroid use, discussion of the sports tainted image resurfaced this week.\n",
      "\n",
      "52186 - AmerisourceBergen Cites Lowers Outlook Drug-distributor AmerisourceBergen Corp., following in a rival #39;s footsteps, warned that lower-than-expected increases in drug prices will hit earnings for the quarter and fiscal year ended Sept.\n",
      "\n",
      "118629 - Oil futures stabilize above US\\$44 a barrel after jump in prices Oil futures stabilized Thursday after a jump in prices the previous day that reflected a drop in US crude and heating oil stocks even as demand was rising with cold weather spreading across the US Northeast and Midwest.\n",
      "\n",
      "118644 - Hussein Sees Attorney Before Aides' Hearings Saddam Hussein met with a defense attorney Thursday for the first time since the former Iraqi president was captured a year ago and days before several of his top aides are due to appear in court for hearings on alleged war crimes.\n",
      "\n",
      "95308 - W3C highlights Mobile Web Initiative at workshop The World Wide Web Consortium (W3C) is considering a new effort called the \"W3C Mobile Web Initiative,\" that will seek to make Web access from mobile devices such as mobile phones and PDAs (personal digital assistants), as simple, easy and convenient as desktop Web access.\n",
      "\n",
      "48494 - Finance Leaders Tackle Terror Financing (Reuters) Reuters - World finance ministers gathered\\under heavy guard on Sunday to discuss efforts to fight terror\\financing while warning the world must stay focused on the\\economic recovery and fight against poverty.\n",
      "\n",
      "16594 - SCO #39;s Finances Reverse As Legal Fees Mount SCO Group has a plan to keep itself fit enough to continue its legal battles against Linux and to develop its Unix-on-Intel operating systems.\n",
      "\n",
      "22439 - Fighting breaks out in Gaza strip Palestinian gunmen have confronted a column of Israeli armoured vehicles in the Gaza Strip, sparking a fierce firefight which has left at least one dead and five wounded.\n",
      "\n",
      "68262 - Is It Time to Stem Asia Deficits With a Weak Dollar? There is likely to be strong U.S. pressure on much of Asia next year, not just China, to allow a major depreciation of the dollar.\n",
      "\n",
      "8238 - Profit growth fuels change WOOLWORTHS Ltd chief executive Mr Roger Corbett yesterday signalled a shift in the supermarket battlefront away from petrol discounting as the retail group tipped 10-15 per cent profit growth in 2004-2005.\n",
      "\n",
      "3120 - Intuit Posts Wider Loss After Charge  SAN FRANCISCO (Reuters) - Intuit Inc. &lt;A HREF=\"http://www.investor.reuters.com/FullQuote.aspx?ticker=INTU.O target=/stocks/quickinfo/fullquote\"&gt;INTU.O&lt;/A&gt;, maker of  the No. 1 U.S. tax presentation software TurboTax, on Wednesday  posted a wider quarterly loss from a year earlier after taking  a goodwill impairment charge during its seasonally weaker  fourth quarter.\n",
      "\n",
      "35777 - Shell Plan Disappoints Investors  LONDON (Reuters) - Scandal-hit oil giant Royal Dutch/Shell  will invest \\$45 billion over three years to boost reserves and  production but its shares fell on disappointment it did not  extend a stock buyback program.\n",
      "\n",
      "77641 - Chelsea plea to FA over Mutu Chelsea have asked the Football Association to hold on to Adrian Mutu #39;s registration while the club investigate ways of gaining compensation for sacking the player.\n",
      "\n",
      "110940 - Dollar Extends Rebound Against Euro, Yen  TOKYO (Reuters) - The dollar rebounded for a second session  against the yen and the euro on Thursday as traders and  investors took profits on bets against the U.S. currency before  the year draws to a close.\n",
      "\n",
      "119869 - 'Artificial life' comes step closer Researchers at Rockefeller University make small synthetic vesicles that resemble a crude kind of biological cell.\n",
      "\n",
      "59887 - Harvard Wants to Clone Human Embryos (AP) AP - Harvard researchers want to be the first in the United States to produce cloned human embryos for disease research.\n",
      "\n",
      "39015 - NL Wrap: Cubs Maintain Wild-Card Lead with Win  NEW YORK (Reuters) - Derrek Lee's 10th-inning single scored  Mark Grudzielanek with the winning run, clinching the red-hot  Chicago Cubs a 2-1 victory over the host New York Mets in the  National League Friday.\n",
      "\n",
      "102542 - Santos rose from the depths at UNH The story does not begin until the quarterback hits rock bottom. There's a reason Ricky Santos, current big man on the University of New Hampshire campus, one of 16 finalists for the Walter Payton Award (given to the top offensive player in Division 1-AA), record-setting redshirt-freshman wonder, and Atlantic 10 Rookie of the Year does not have his picture in ...\n",
      "\n",
      "48946 - California Goes After Spyware The Golden State passes a law aimed at cracking down on what some feel is the internet's next scourge -- spyware. But critics say it's only a partial step toward protecting consumers.\n",
      "\n",
      "114129 - Google Suggests the way to search Google has launched a new feature that tries to guess what people are looking for as they type queries into a search box. Google Suggest quietly debuted this week on the company #39;s Labs site, which showcases \n",
      "\n",
      "101358 - Yukos board escapes from Russia Fear of arrest has forced all the top executives at Russian oil giant Yukos to flee the country. The entire management board was in London on Thursday, according to the Financial Times.\n",
      "\n",
      "50672 - Peoplesoft may mull Oracle bid A director of business software maker Peoplesoft says the firm may be ready to negotiate with its would-be buyer, Oracle.\n",
      "\n"
     ]
    }
   ],
   "source": [
    "# Display a few rows of the dataset\n",
    "from helpers.dataset import print_random_sample\n",
    "\n",
    "print_random_sample(df, 50, random_state=271828)"
   ]
  },
  {
   "cell_type": "code",
   "execution_count": 7,
   "id": "4a31e903",
   "metadata": {},
   "outputs": [
    {
     "data": {
      "text/html": [
       "<div>\n",
       "<style scoped>\n",
       "    .dataframe tbody tr th:only-of-type {\n",
       "        vertical-align: middle;\n",
       "    }\n",
       "\n",
       "    .dataframe tbody tr th {\n",
       "        vertical-align: top;\n",
       "    }\n",
       "\n",
       "    .dataframe thead th {\n",
       "        text-align: right;\n",
       "    }\n",
       "</style>\n",
       "<table border=\"1\" class=\"dataframe\">\n",
       "  <thead>\n",
       "    <tr style=\"text-align: right;\">\n",
       "      <th></th>\n",
       "      <th>text</th>\n",
       "      <th>id</th>\n",
       "    </tr>\n",
       "  </thead>\n",
       "  <tbody>\n",
       "    <tr>\n",
       "      <th>0</th>\n",
       "      <td>wall st. bears claw back into the black (reute...</td>\n",
       "      <td>1</td>\n",
       "    </tr>\n",
       "    <tr>\n",
       "      <th>1</th>\n",
       "      <td>carlyle looks toward commercial aerospace (reu...</td>\n",
       "      <td>2</td>\n",
       "    </tr>\n",
       "    <tr>\n",
       "      <th>2</th>\n",
       "      <td>oil and economy cloud stocks' outlook (reuters...</td>\n",
       "      <td>3</td>\n",
       "    </tr>\n",
       "    <tr>\n",
       "      <th>3</th>\n",
       "      <td>iraq halts oil exports from main southern pipe...</td>\n",
       "      <td>4</td>\n",
       "    </tr>\n",
       "    <tr>\n",
       "      <th>4</th>\n",
       "      <td>oil prices soar to all-time record, posing new...</td>\n",
       "      <td>5</td>\n",
       "    </tr>\n",
       "    <tr>\n",
       "      <th>...</th>\n",
       "      <td>...</td>\n",
       "      <td>...</td>\n",
       "    </tr>\n",
       "    <tr>\n",
       "      <th>119995</th>\n",
       "      <td>pakistan's musharraf says won't quit as army c...</td>\n",
       "      <td>119996</td>\n",
       "    </tr>\n",
       "    <tr>\n",
       "      <th>119996</th>\n",
       "      <td>renteria signing a top-shelf deal red sox gene...</td>\n",
       "      <td>119997</td>\n",
       "    </tr>\n",
       "    <tr>\n",
       "      <th>119997</th>\n",
       "      <td>saban not going to dolphins yet the miami dolp...</td>\n",
       "      <td>119998</td>\n",
       "    </tr>\n",
       "    <tr>\n",
       "      <th>119998</th>\n",
       "      <td>today's nfl games pittsburgh at ny giants time...</td>\n",
       "      <td>119999</td>\n",
       "    </tr>\n",
       "    <tr>\n",
       "      <th>119999</th>\n",
       "      <td>nets get carter from raptors indianapolis -- a...</td>\n",
       "      <td>120000</td>\n",
       "    </tr>\n",
       "  </tbody>\n",
       "</table>\n",
       "<p>120000 rows × 2 columns</p>\n",
       "</div>"
      ],
      "text/plain": [
       "                                                     text      id\n",
       "0       wall st. bears claw back into the black (reute...       1\n",
       "1       carlyle looks toward commercial aerospace (reu...       2\n",
       "2       oil and economy cloud stocks' outlook (reuters...       3\n",
       "3       iraq halts oil exports from main southern pipe...       4\n",
       "4       oil prices soar to all-time record, posing new...       5\n",
       "...                                                   ...     ...\n",
       "119995  pakistan's musharraf says won't quit as army c...  119996\n",
       "119996  renteria signing a top-shelf deal red sox gene...  119997\n",
       "119997  saban not going to dolphins yet the miami dolp...  119998\n",
       "119998  today's nfl games pittsburgh at ny giants time...  119999\n",
       "119999  nets get carter from raptors indianapolis -- a...  120000\n",
       "\n",
       "[120000 rows x 2 columns]"
      ]
     },
     "execution_count": 7,
     "metadata": {},
     "output_type": "execute_result"
    }
   ],
   "source": [
    "# Using lower() to convert the text for each row to lowercase\n",
    "# This is done to standardize the text data, which can be useful for text processing tasks\n",
    "df[\"text\"] = df[\"text\"].str.lower()\n",
    "df"
   ]
  },
  {
   "cell_type": "code",
   "execution_count": 8,
   "id": "9609a11c",
   "metadata": {},
   "outputs": [
    {
     "data": {
      "text/html": [
       "<div>\n",
       "<style scoped>\n",
       "    .dataframe tbody tr th:only-of-type {\n",
       "        vertical-align: middle;\n",
       "    }\n",
       "\n",
       "    .dataframe tbody tr th {\n",
       "        vertical-align: top;\n",
       "    }\n",
       "\n",
       "    .dataframe thead th {\n",
       "        text-align: right;\n",
       "    }\n",
       "</style>\n",
       "<table border=\"1\" class=\"dataframe\">\n",
       "  <thead>\n",
       "    <tr style=\"text-align: right;\">\n",
       "      <th></th>\n",
       "      <th>text</th>\n",
       "      <th>id</th>\n",
       "    </tr>\n",
       "  </thead>\n",
       "  <tbody>\n",
       "    <tr>\n",
       "      <th>0</th>\n",
       "      <td>wall st  bears claw back into the black  reute...</td>\n",
       "      <td>1</td>\n",
       "    </tr>\n",
       "    <tr>\n",
       "      <th>1</th>\n",
       "      <td>carlyle looks toward commercial aerospace  reu...</td>\n",
       "      <td>2</td>\n",
       "    </tr>\n",
       "    <tr>\n",
       "      <th>2</th>\n",
       "      <td>oil and economy cloud stocks  outlook  reuters...</td>\n",
       "      <td>3</td>\n",
       "    </tr>\n",
       "    <tr>\n",
       "      <th>3</th>\n",
       "      <td>iraq halts oil exports from main southern pipe...</td>\n",
       "      <td>4</td>\n",
       "    </tr>\n",
       "    <tr>\n",
       "      <th>4</th>\n",
       "      <td>oil prices soar to all time record  posing new...</td>\n",
       "      <td>5</td>\n",
       "    </tr>\n",
       "    <tr>\n",
       "      <th>...</th>\n",
       "      <td>...</td>\n",
       "      <td>...</td>\n",
       "    </tr>\n",
       "    <tr>\n",
       "      <th>119995</th>\n",
       "      <td>pakistan s musharraf says won t quit as army c...</td>\n",
       "      <td>119996</td>\n",
       "    </tr>\n",
       "    <tr>\n",
       "      <th>119996</th>\n",
       "      <td>renteria signing a top shelf deal red sox gene...</td>\n",
       "      <td>119997</td>\n",
       "    </tr>\n",
       "    <tr>\n",
       "      <th>119997</th>\n",
       "      <td>saban not going to dolphins yet the miami dolp...</td>\n",
       "      <td>119998</td>\n",
       "    </tr>\n",
       "    <tr>\n",
       "      <th>119998</th>\n",
       "      <td>today s nfl games pittsburgh at ny giants time...</td>\n",
       "      <td>119999</td>\n",
       "    </tr>\n",
       "    <tr>\n",
       "      <th>119999</th>\n",
       "      <td>nets get carter from raptors indianapolis   al...</td>\n",
       "      <td>120000</td>\n",
       "    </tr>\n",
       "  </tbody>\n",
       "</table>\n",
       "<p>120000 rows × 2 columns</p>\n",
       "</div>"
      ],
      "text/plain": [
       "                                                     text      id\n",
       "0       wall st  bears claw back into the black  reute...       1\n",
       "1       carlyle looks toward commercial aerospace  reu...       2\n",
       "2       oil and economy cloud stocks  outlook  reuters...       3\n",
       "3       iraq halts oil exports from main southern pipe...       4\n",
       "4       oil prices soar to all time record  posing new...       5\n",
       "...                                                   ...     ...\n",
       "119995  pakistan s musharraf says won t quit as army c...  119996\n",
       "119996  renteria signing a top shelf deal red sox gene...  119997\n",
       "119997  saban not going to dolphins yet the miami dolp...  119998\n",
       "119998  today s nfl games pittsburgh at ny giants time...  119999\n",
       "119999  nets get carter from raptors indianapolis   al...  120000\n",
       "\n",
       "[120000 rows x 2 columns]"
      ]
     },
     "execution_count": 8,
     "metadata": {},
     "output_type": "execute_result"
    }
   ],
   "source": [
    "from helpers.text import (\n",
    "    remove_accented_characters,\n",
    "    remove_excessive_spaces,\n",
    "    remove_repeated_letters,\n",
    "    remove_repeated_non_word_characters,\n",
    "    remove_numbers_punctuation_from_text\n",
    ")\n",
    "from sklearn.pipeline import Pipeline\n",
    "from sklearn.preprocessing import FunctionTransformer\n",
    "\n",
    "\n",
    "# Pipeline to clean text data\n",
    "# Source: https://github.com/eliasjacob/imd3011-datacentric_ai\n",
    "# Original author: Elias Jacob\n",
    "# License: MIT\n",
    "\n",
    "pipeline_clean_text = Pipeline(\n",
    "    [\n",
    "        (\"remove_accented_characters\", FunctionTransformer(remove_accented_characters)),\n",
    "        (\"remove_excessive_spaces\", FunctionTransformer(remove_excessive_spaces)),\n",
    "        (\"remove_repeated_letters\", FunctionTransformer(remove_repeated_letters)),\n",
    "        (\"remove_repeated_non_word_characters\", FunctionTransformer(remove_repeated_non_word_characters)),\n",
    "        (\"remove_numbers_punctuation_from_text\", FunctionTransformer(remove_numbers_punctuation_from_text))\n",
    "    ]\n",
    ")\n",
    "\n",
    "df[\"text\"] = df[\"text\"].apply(pipeline_clean_text.transform)\n",
    "\n",
    "df"
   ]
  },
  {
   "cell_type": "code",
   "execution_count": 9,
   "id": "795c36de",
   "metadata": {},
   "outputs": [
    {
     "data": {
      "text/plain": [
       "(119749, 2)"
      ]
     },
     "execution_count": 9,
     "metadata": {},
     "output_type": "execute_result"
    }
   ],
   "source": [
    "# Remove duplicates based on the \"text\" column\n",
    "# This is done to ensure that each review is unique in the dataset\n",
    "df.drop_duplicates(subset=[\"text\"], inplace=True)\n",
    "df.shape"
   ]
  },
  {
   "cell_type": "code",
   "execution_count": 10,
   "id": "7a1dfd34",
   "metadata": {},
   "outputs": [
    {
     "name": "stderr",
     "output_type": "stream",
     "text": [
      "Batches: 100%|██████████| 3743/3743 [00:34<00:00, 107.66it/s]\n"
     ]
    }
   ],
   "source": [
    "from sentence_transformers import SentenceTransformer\n",
    "from sklearn.ensemble import IsolationForest\n",
    "\n",
    "# Generate embeddings\n",
    "model = SentenceTransformer('all-MiniLM-L6-v2')\n",
    "embeddings = model.encode(df['text'].tolist(), show_progress_bar=True)\n",
    "\n",
    "# Train outlier detector\n",
    "iso = IsolationForest(contamination=0.01, random_state=42)\n",
    "outlier_preds = iso.fit_predict(embeddings)\n",
    "\n",
    "# Keep only inliers (label = 1)\n",
    "df = df[outlier_preds == 1]\n"
   ]
  },
  {
   "cell_type": "code",
   "execution_count": 11,
   "id": "e9788c07",
   "metadata": {},
   "outputs": [
    {
     "data": {
      "text/plain": [
       "(118551, 2)"
      ]
     },
     "execution_count": 11,
     "metadata": {},
     "output_type": "execute_result"
    }
   ],
   "source": [
    "# Print the shape of the DataFrame after removing outliers\n",
    "df.shape"
   ]
  },
  {
   "cell_type": "code",
   "execution_count": 12,
   "id": "809e2722",
   "metadata": {},
   "outputs": [
    {
     "data": {
      "text/plain": [
       "count    118551.000000\n",
       "mean        235.733752\n",
       "std          65.710099\n",
       "min          96.000000\n",
       "5%          144.000000\n",
       "10%         166.000000\n",
       "25%         196.000000\n",
       "50%         231.000000\n",
       "75%         265.000000\n",
       "80%         274.000000\n",
       "90%         299.000000\n",
       "95%         341.000000\n",
       "98%         406.000000\n",
       "99%         459.000000\n",
       "99.9%       724.900000\n",
       "max        1008.000000\n",
       "Name: text, dtype: float64"
      ]
     },
     "execution_count": 12,
     "metadata": {},
     "output_type": "execute_result"
    }
   ],
   "source": [
    "# Understanding the distribution of text lengths\n",
    "df[\"text\"].str.len().describe([0.05, 0.1, 0.25, 0.5, 0.75, 0.8, 0.9, 0.95, 0.98, 0.99, 0.999])"
   ]
  },
  {
   "cell_type": "code",
   "execution_count": 13,
   "id": "6594b346",
   "metadata": {},
   "outputs": [
    {
     "name": "stdout",
     "output_type": "stream",
     "text": [
      "Train set size: 94840\n",
      "Dev/Test set size: 23711\n"
     ]
    }
   ],
   "source": [
    "from sklearn.model_selection import train_test_split\n",
    "\n",
    "# Split dataset into training and development sets\n",
    "df_train, df_dev = train_test_split(df, test_size=0.2, random_state=42)\n",
    "\n",
    "# Print the size of the training set\n",
    "print(f\"Train set size: {len(df_train)}\")\n",
    "\n",
    "# Print the size of the combined development and test set\n",
    "print(f\"Dev/Test set size: {len(df_dev)}\")"
   ]
  },
  {
   "cell_type": "code",
   "execution_count": 14,
   "id": "d115a5ad",
   "metadata": {},
   "outputs": [
    {
     "data": {
      "text/html": [
       "<div>\n",
       "<style scoped>\n",
       "    .dataframe tbody tr th:only-of-type {\n",
       "        vertical-align: middle;\n",
       "    }\n",
       "\n",
       "    .dataframe tbody tr th {\n",
       "        vertical-align: top;\n",
       "    }\n",
       "\n",
       "    .dataframe thead th {\n",
       "        text-align: right;\n",
       "    }\n",
       "</style>\n",
       "<table border=\"1\" class=\"dataframe\">\n",
       "  <thead>\n",
       "    <tr style=\"text-align: right;\">\n",
       "      <th></th>\n",
       "      <th>text</th>\n",
       "      <th>id</th>\n",
       "    </tr>\n",
       "  </thead>\n",
       "  <tbody>\n",
       "    <tr>\n",
       "      <th>84130</th>\n",
       "      <td>eight ebay sellers ordered to pay nearly      ...</td>\n",
       "      <td>84131</td>\n",
       "    </tr>\n",
       "    <tr>\n",
       "      <th>111468</th>\n",
       "      <td>shaq  mcgrady pace nba best seller list  afp  ...</td>\n",
       "      <td>111469</td>\n",
       "    </tr>\n",
       "    <tr>\n",
       "      <th>6994</th>\n",
       "      <td>four marines killed in anbar province baghdad ...</td>\n",
       "      <td>6995</td>\n",
       "    </tr>\n",
       "    <tr>\n",
       "      <th>58247</th>\n",
       "      <td>chain store sales rise in the oct   week new y...</td>\n",
       "      <td>58248</td>\n",
       "    </tr>\n",
       "    <tr>\n",
       "      <th>40327</th>\n",
       "      <td>u s  are davis cup final underdogs  says roddi...</td>\n",
       "      <td>40328</td>\n",
       "    </tr>\n",
       "    <tr>\n",
       "      <th>...</th>\n",
       "      <td>...</td>\n",
       "      <td>...</td>\n",
       "    </tr>\n",
       "    <tr>\n",
       "      <th>77771</th>\n",
       "      <td>new worm variant spreads  clogging e mail  ap ...</td>\n",
       "      <td>77772</td>\n",
       "    </tr>\n",
       "    <tr>\n",
       "      <th>111605</th>\n",
       "      <td>ibm halts pension plan for new hires ibm  ibm ...</td>\n",
       "      <td>111606</td>\n",
       "    </tr>\n",
       "    <tr>\n",
       "      <th>104962</th>\n",
       "      <td>european shares open modestly firmer london  r...</td>\n",
       "      <td>104963</td>\n",
       "    </tr>\n",
       "    <tr>\n",
       "      <th>873</th>\n",
       "      <td>ride this gem amusement park operators have pr...</td>\n",
       "      <td>874</td>\n",
       "    </tr>\n",
       "    <tr>\n",
       "      <th>16028</th>\n",
       "      <td>thatcher financed coup plot  claims business p...</td>\n",
       "      <td>16029</td>\n",
       "    </tr>\n",
       "  </tbody>\n",
       "</table>\n",
       "<p>94840 rows × 2 columns</p>\n",
       "</div>"
      ],
      "text/plain": [
       "                                                     text      id\n",
       "84130   eight ebay sellers ordered to pay nearly      ...   84131\n",
       "111468  shaq  mcgrady pace nba best seller list  afp  ...  111469\n",
       "6994    four marines killed in anbar province baghdad ...    6995\n",
       "58247   chain store sales rise in the oct   week new y...   58248\n",
       "40327   u s  are davis cup final underdogs  says roddi...   40328\n",
       "...                                                   ...     ...\n",
       "77771   new worm variant spreads  clogging e mail  ap ...   77772\n",
       "111605  ibm halts pension plan for new hires ibm  ibm ...  111606\n",
       "104962  european shares open modestly firmer london  r...  104963\n",
       "873     ride this gem amusement park operators have pr...     874\n",
       "16028   thatcher financed coup plot  claims business p...   16029\n",
       "\n",
       "[94840 rows x 2 columns]"
      ]
     },
     "execution_count": 14,
     "metadata": {},
     "output_type": "execute_result"
    }
   ],
   "source": [
    "df_train"
   ]
  },
  {
   "cell_type": "code",
   "execution_count": 15,
   "id": "d3e8d652",
   "metadata": {},
   "outputs": [],
   "source": [
    "# Saving the datasets to parquet files for further use\n",
    "df_train.to_parquet(\"data/train.parquet\", index=False)\n",
    "df_dev.to_parquet(\"data/dev_test.parquet\", index=False)"
   ]
  },
  {
   "cell_type": "code",
   "execution_count": 16,
   "id": "d00d1447",
   "metadata": {},
   "outputs": [],
   "source": [
    "# Reading the datasets back from parquet files\n",
    "df_train = pd.read_parquet(\"data/train.parquet\")\n",
    "df_dev = pd.read_parquet(\"data/dev_test.parquet\")"
   ]
  },
  {
   "cell_type": "code",
   "execution_count": 17,
   "id": "efc63d2a",
   "metadata": {},
   "outputs": [
    {
     "data": {
      "text/html": [
       "<div>\n",
       "<style scoped>\n",
       "    .dataframe tbody tr th:only-of-type {\n",
       "        vertical-align: middle;\n",
       "    }\n",
       "\n",
       "    .dataframe tbody tr th {\n",
       "        vertical-align: top;\n",
       "    }\n",
       "\n",
       "    .dataframe thead th {\n",
       "        text-align: right;\n",
       "    }\n",
       "</style>\n",
       "<table border=\"1\" class=\"dataframe\">\n",
       "  <thead>\n",
       "    <tr style=\"text-align: right;\">\n",
       "      <th></th>\n",
       "      <th>label</th>\n",
       "      <th>id</th>\n",
       "    </tr>\n",
       "  </thead>\n",
       "  <tbody>\n",
       "    <tr>\n",
       "      <th>0</th>\n",
       "      <td>2</td>\n",
       "      <td>1</td>\n",
       "    </tr>\n",
       "    <tr>\n",
       "      <th>1</th>\n",
       "      <td>2</td>\n",
       "      <td>2</td>\n",
       "    </tr>\n",
       "    <tr>\n",
       "      <th>2</th>\n",
       "      <td>2</td>\n",
       "      <td>3</td>\n",
       "    </tr>\n",
       "    <tr>\n",
       "      <th>3</th>\n",
       "      <td>2</td>\n",
       "      <td>4</td>\n",
       "    </tr>\n",
       "    <tr>\n",
       "      <th>4</th>\n",
       "      <td>2</td>\n",
       "      <td>5</td>\n",
       "    </tr>\n",
       "    <tr>\n",
       "      <th>...</th>\n",
       "      <td>...</td>\n",
       "      <td>...</td>\n",
       "    </tr>\n",
       "    <tr>\n",
       "      <th>119995</th>\n",
       "      <td>0</td>\n",
       "      <td>119996</td>\n",
       "    </tr>\n",
       "    <tr>\n",
       "      <th>119996</th>\n",
       "      <td>1</td>\n",
       "      <td>119997</td>\n",
       "    </tr>\n",
       "    <tr>\n",
       "      <th>119997</th>\n",
       "      <td>1</td>\n",
       "      <td>119998</td>\n",
       "    </tr>\n",
       "    <tr>\n",
       "      <th>119998</th>\n",
       "      <td>1</td>\n",
       "      <td>119999</td>\n",
       "    </tr>\n",
       "    <tr>\n",
       "      <th>119999</th>\n",
       "      <td>1</td>\n",
       "      <td>120000</td>\n",
       "    </tr>\n",
       "  </tbody>\n",
       "</table>\n",
       "<p>120000 rows × 2 columns</p>\n",
       "</div>"
      ],
      "text/plain": [
       "        label      id\n",
       "0           2       1\n",
       "1           2       2\n",
       "2           2       3\n",
       "3           2       4\n",
       "4           2       5\n",
       "...       ...     ...\n",
       "119995      0  119996\n",
       "119996      1  119997\n",
       "119997      1  119998\n",
       "119998      1  119999\n",
       "119999      1  120000\n",
       "\n",
       "[120000 rows x 2 columns]"
      ]
     },
     "execution_count": 17,
     "metadata": {},
     "output_type": "execute_result"
    }
   ],
   "source": [
    "# Create a DataFrame from the labels list\n",
    "df_labels = pd.DataFrame(df_news, columns=[\"label\", \"id\"])\n",
    "\n",
    "# Display the DataFrame to show the labels and review IDs\n",
    "df_labels"
   ]
  },
  {
   "cell_type": "code",
   "execution_count": 18,
   "id": "439297da",
   "metadata": {},
   "outputs": [
    {
     "data": {
      "text/html": [
       "<div>\n",
       "<style scoped>\n",
       "    .dataframe tbody tr th:only-of-type {\n",
       "        vertical-align: middle;\n",
       "    }\n",
       "\n",
       "    .dataframe tbody tr th {\n",
       "        vertical-align: top;\n",
       "    }\n",
       "\n",
       "    .dataframe thead th {\n",
       "        text-align: right;\n",
       "    }\n",
       "</style>\n",
       "<table border=\"1\" class=\"dataframe\">\n",
       "  <thead>\n",
       "    <tr style=\"text-align: right;\">\n",
       "      <th></th>\n",
       "      <th>text</th>\n",
       "      <th>id</th>\n",
       "      <th>label</th>\n",
       "    </tr>\n",
       "  </thead>\n",
       "  <tbody>\n",
       "    <tr>\n",
       "      <th>0</th>\n",
       "      <td>ftc pulls plug on infomercial giant the ftc ha...</td>\n",
       "      <td>21257</td>\n",
       "      <td>2</td>\n",
       "    </tr>\n",
       "    <tr>\n",
       "      <th>1</th>\n",
       "      <td>u n  forces ex soldiers from aristide home u n...</td>\n",
       "      <td>119721</td>\n",
       "      <td>0</td>\n",
       "    </tr>\n",
       "    <tr>\n",
       "      <th>2</th>\n",
       "      <td>kenyan environmentalist wins nobel peace prize...</td>\n",
       "      <td>54202</td>\n",
       "      <td>0</td>\n",
       "    </tr>\n",
       "    <tr>\n",
       "      <th>3</th>\n",
       "      <td>rugby union lomu still hopeful of return to ac...</td>\n",
       "      <td>86939</td>\n",
       "      <td>1</td>\n",
       "    </tr>\n",
       "    <tr>\n",
       "      <th>4</th>\n",
       "      <td>bush announces plan for troop realignment  ap ...</td>\n",
       "      <td>1173</td>\n",
       "      <td>0</td>\n",
       "    </tr>\n",
       "    <tr>\n",
       "      <th>...</th>\n",
       "      <td>...</td>\n",
       "      <td>...</td>\n",
       "      <td>...</td>\n",
       "    </tr>\n",
       "    <tr>\n",
       "      <th>23706</th>\n",
       "      <td>china     s space chief coming to us another p...</td>\n",
       "      <td>100384</td>\n",
       "      <td>3</td>\n",
       "    </tr>\n",
       "    <tr>\n",
       "      <th>23707</th>\n",
       "      <td>beware  bugs can attack net phones they are be...</td>\n",
       "      <td>5959</td>\n",
       "      <td>3</td>\n",
       "    </tr>\n",
       "    <tr>\n",
       "      <th>23708</th>\n",
       "      <td>amd s dual core performance boost though about...</td>\n",
       "      <td>51070</td>\n",
       "      <td>3</td>\n",
       "    </tr>\n",
       "    <tr>\n",
       "      <th>23709</th>\n",
       "      <td>concern over inventories drives up oil price n...</td>\n",
       "      <td>23418</td>\n",
       "      <td>2</td>\n",
       "    </tr>\n",
       "    <tr>\n",
       "      <th>23710</th>\n",
       "      <td>lsu tumbles while auburn rises after close win...</td>\n",
       "      <td>32656</td>\n",
       "      <td>1</td>\n",
       "    </tr>\n",
       "  </tbody>\n",
       "</table>\n",
       "<p>23711 rows × 3 columns</p>\n",
       "</div>"
      ],
      "text/plain": [
       "                                                    text      id  label\n",
       "0      ftc pulls plug on infomercial giant the ftc ha...   21257      2\n",
       "1      u n  forces ex soldiers from aristide home u n...  119721      0\n",
       "2      kenyan environmentalist wins nobel peace prize...   54202      0\n",
       "3      rugby union lomu still hopeful of return to ac...   86939      1\n",
       "4      bush announces plan for troop realignment  ap ...    1173      0\n",
       "...                                                  ...     ...    ...\n",
       "23706  china     s space chief coming to us another p...  100384      3\n",
       "23707  beware  bugs can attack net phones they are be...    5959      3\n",
       "23708  amd s dual core performance boost though about...   51070      3\n",
       "23709  concern over inventories drives up oil price n...   23418      2\n",
       "23710  lsu tumbles while auburn rises after close win...   32656      1\n",
       "\n",
       "[23711 rows x 3 columns]"
      ]
     },
     "execution_count": 18,
     "metadata": {},
     "output_type": "execute_result"
    }
   ],
   "source": [
    "# Merge the development and test set with the labeled data\n",
    "# Source: https://github.com/eliasjacob/imd3011-datacentric_ai\n",
    "# Original author: Elias Jacob\n",
    "# License: MIT\n",
    "\n",
    "# Read the development and test set from a Parquet file\n",
    "df_dev_test_labeled = pd.read_parquet(\"data/dev_test.parquet\")\n",
    "\n",
    "# Merge the development and test set with the labeled data\n",
    "# The labeled data is read from another Parquet file and contains 'review_id' and 'label' columns\n",
    "# The merge operation joins the two DataFrames on the 'review_id' column\n",
    "# how='left' ensures that all rows from df_dev_test_labeled are kept, and matching rows from the labeled data are added\n",
    "df_dev_test_labeled = df_dev_test_labeled.merge(\n",
    "    pd.read_parquet(\"data/data_with_labels.parquet\")[[\"id\", \"label\"]],\n",
    "    on=\"id\",\n",
    "    how=\"left\",\n",
    ")\n",
    "\n",
    "# Drop rows with missing labels\n",
    "# dropna(subset=['label']) removes rows where the 'label' column is NaN\n",
    "# This ensures that only labeled data is kept in the DataFrame\n",
    "df_dev_test_labeled = df_dev_test_labeled.dropna(subset=[\"label\"])\n",
    "\n",
    "df_dev_test_labeled"
   ]
  },
  {
   "cell_type": "code",
   "execution_count": 19,
   "id": "289867b5",
   "metadata": {},
   "outputs": [
    {
     "data": {
      "text/plain": [
       "(23711, 3)"
      ]
     },
     "execution_count": 19,
     "metadata": {},
     "output_type": "execute_result"
    }
   ],
   "source": [
    "df_dev_test_labeled.shape"
   ]
  },
  {
   "cell_type": "code",
   "execution_count": 20,
   "id": "0b04c2e1",
   "metadata": {},
   "outputs": [
    {
     "name": "stdout",
     "output_type": "stream",
     "text": [
      "Test set size: 11855\n",
      "Development set size: 11856\n"
     ]
    }
   ],
   "source": [
    "from sklearn.model_selection import train_test_split\n",
    "\n",
    "# Split the labeled development/test set into separate development and test sets\n",
    "# 'test_size=0.5' means we split the data equally into two halves\n",
    "# 'random_state=271828' ensures reproducibility of the split\n",
    "# 'stratify=df_dev_test_labeled.label' ensures that the split maintains the same proportion of labels in both sets\n",
    "df_test, df_dev = train_test_split(\n",
    "    df_dev_test_labeled,\n",
    "    test_size=0.5,\n",
    "    random_state=271828,\n",
    "    stratify=df_dev_test_labeled.label,\n",
    ")\n",
    "\n",
    "# Print the size of the test set\n",
    "print(f\"Test set size: {len(df_test)}\")\n",
    "\n",
    "# Print the size of the development set\n",
    "print(f\"Development set size: {len(df_dev)}\")"
   ]
  },
  {
   "cell_type": "code",
   "execution_count": 21,
   "id": "0b1a5c14",
   "metadata": {},
   "outputs": [
    {
     "data": {
      "text/plain": [
       "label\n",
       "2    0.252889\n",
       "3    0.249431\n",
       "0    0.248840\n",
       "1    0.248840\n",
       "Name: proportion, dtype: float64"
      ]
     },
     "execution_count": 21,
     "metadata": {},
     "output_type": "execute_result"
    }
   ],
   "source": [
    "df_test.label.value_counts(normalize=True)"
   ]
  },
  {
   "cell_type": "code",
   "execution_count": 22,
   "id": "7de3fdad",
   "metadata": {},
   "outputs": [
    {
     "name": "stdout",
     "output_type": "stream",
     "text": [
      "(94840, 2) (11856, 3) (11855, 3)\n",
      "(94840, 2) (11856, 3) (11855, 3)\n",
      "(94840, 2) (11856, 3) (11855, 3)\n"
     ]
    }
   ],
   "source": [
    "from helpers.dataset import remove_duplicates_and_overlap\n",
    "\n",
    "df_train, df_dev, df_test = remove_duplicates_and_overlap(df_train, df_dev, df_test)"
   ]
  },
  {
   "cell_type": "code",
   "execution_count": 23,
   "id": "c7ff0246",
   "metadata": {},
   "outputs": [
    {
     "data": {
      "text/plain": [
       "((94840, 2), (11855, 3), (11856, 3))"
      ]
     },
     "execution_count": 23,
     "metadata": {},
     "output_type": "execute_result"
    }
   ],
   "source": [
    "# Save all files for later use\n",
    "df_dev.to_parquet(\"data/dev.parquet\", index=False)\n",
    "df_train.to_parquet(\"data/train.parquet\", index=False)\n",
    "df_test.to_parquet(\"data/test.parquet\", index=False)\n",
    "\n",
    "df_train.shape, df_test.shape, df_dev.shape"
   ]
  },
  {
   "cell_type": "code",
   "execution_count": 24,
   "id": "dfb2051d",
   "metadata": {},
   "outputs": [
    {
     "data": {
      "text/plain": [
       "((94840, 2), (11856, 3), (11855, 3))"
      ]
     },
     "execution_count": 24,
     "metadata": {},
     "output_type": "execute_result"
    }
   ],
   "source": [
    "df_train = pd.read_parquet(\"data/train.parquet\")\n",
    "df_dev = pd.read_parquet(\"data/dev.parquet\")\n",
    "df_test = pd.read_parquet(\"data/test.parquet\")\n",
    "\n",
    "df_train.shape, df_dev.shape, df_test.shape"
   ]
  },
  {
   "cell_type": "code",
   "execution_count": 25,
   "id": "c45fe779",
   "metadata": {},
   "outputs": [
    {
     "data": {
      "text/html": [
       "<div>\n",
       "<style scoped>\n",
       "    .dataframe tbody tr th:only-of-type {\n",
       "        vertical-align: middle;\n",
       "    }\n",
       "\n",
       "    .dataframe tbody tr th {\n",
       "        vertical-align: top;\n",
       "    }\n",
       "\n",
       "    .dataframe thead th {\n",
       "        text-align: right;\n",
       "    }\n",
       "</style>\n",
       "<table border=\"1\" class=\"dataframe\">\n",
       "  <thead>\n",
       "    <tr style=\"text-align: right;\">\n",
       "      <th></th>\n",
       "      <th>text</th>\n",
       "      <th>id</th>\n",
       "    </tr>\n",
       "  </thead>\n",
       "  <tbody>\n",
       "    <tr>\n",
       "      <th>0</th>\n",
       "      <td>eight ebay sellers ordered to pay nearly      ...</td>\n",
       "      <td>84131</td>\n",
       "    </tr>\n",
       "    <tr>\n",
       "      <th>1</th>\n",
       "      <td>shaq  mcgrady pace nba best seller list  afp  ...</td>\n",
       "      <td>111469</td>\n",
       "    </tr>\n",
       "    <tr>\n",
       "      <th>2</th>\n",
       "      <td>four marines killed in anbar province baghdad ...</td>\n",
       "      <td>6995</td>\n",
       "    </tr>\n",
       "    <tr>\n",
       "      <th>3</th>\n",
       "      <td>chain store sales rise in the oct   week new y...</td>\n",
       "      <td>58248</td>\n",
       "    </tr>\n",
       "    <tr>\n",
       "      <th>4</th>\n",
       "      <td>u s  are davis cup final underdogs  says roddi...</td>\n",
       "      <td>40328</td>\n",
       "    </tr>\n",
       "  </tbody>\n",
       "</table>\n",
       "</div>"
      ],
      "text/plain": [
       "                                                text      id\n",
       "0  eight ebay sellers ordered to pay nearly      ...   84131\n",
       "1  shaq  mcgrady pace nba best seller list  afp  ...  111469\n",
       "2  four marines killed in anbar province baghdad ...    6995\n",
       "3  chain store sales rise in the oct   week new y...   58248\n",
       "4  u s  are davis cup final underdogs  says roddi...   40328"
      ]
     },
     "execution_count": 25,
     "metadata": {},
     "output_type": "execute_result"
    }
   ],
   "source": [
    "df_train.head()"
   ]
  },
  {
   "cell_type": "code",
   "execution_count": 26,
   "id": "52de654f",
   "metadata": {},
   "outputs": [
    {
     "data": {
      "text/html": [
       "<div>\n",
       "<style scoped>\n",
       "    .dataframe tbody tr th:only-of-type {\n",
       "        vertical-align: middle;\n",
       "    }\n",
       "\n",
       "    .dataframe tbody tr th {\n",
       "        vertical-align: top;\n",
       "    }\n",
       "\n",
       "    .dataframe thead th {\n",
       "        text-align: right;\n",
       "    }\n",
       "</style>\n",
       "<table border=\"1\" class=\"dataframe\">\n",
       "  <thead>\n",
       "    <tr style=\"text-align: right;\">\n",
       "      <th></th>\n",
       "      <th>text</th>\n",
       "      <th>id</th>\n",
       "      <th>label</th>\n",
       "    </tr>\n",
       "  </thead>\n",
       "  <tbody>\n",
       "    <tr>\n",
       "      <th>0</th>\n",
       "      <td>arafat flying to paris for treatment ramallah ...</td>\n",
       "      <td>76779</td>\n",
       "      <td>0</td>\n",
       "    </tr>\n",
       "    <tr>\n",
       "      <th>1</th>\n",
       "      <td>acquisition of grey puts focus on havas london...</td>\n",
       "      <td>26304</td>\n",
       "      <td>2</td>\n",
       "    </tr>\n",
       "    <tr>\n",
       "      <th>2</th>\n",
       "      <td>fusion reactor decision stalled six nations pl...</td>\n",
       "      <td>86192</td>\n",
       "      <td>0</td>\n",
       "    </tr>\n",
       "    <tr>\n",
       "      <th>3</th>\n",
       "      <td>the us team is set for spain for the davis cup...</td>\n",
       "      <td>88197</td>\n",
       "      <td>1</td>\n",
       "    </tr>\n",
       "    <tr>\n",
       "      <th>4</th>\n",
       "      <td>europe lags behind rest of world on it spend i...</td>\n",
       "      <td>79788</td>\n",
       "      <td>3</td>\n",
       "    </tr>\n",
       "  </tbody>\n",
       "</table>\n",
       "</div>"
      ],
      "text/plain": [
       "                                                text     id  label\n",
       "0  arafat flying to paris for treatment ramallah ...  76779      0\n",
       "1  acquisition of grey puts focus on havas london...  26304      2\n",
       "2  fusion reactor decision stalled six nations pl...  86192      0\n",
       "3  the us team is set for spain for the davis cup...  88197      1\n",
       "4  europe lags behind rest of world on it spend i...  79788      3"
      ]
     },
     "execution_count": 26,
     "metadata": {},
     "output_type": "execute_result"
    }
   ],
   "source": [
    "df_dev.head()"
   ]
  },
  {
   "cell_type": "code",
   "execution_count": 27,
   "id": "05b6f692",
   "metadata": {},
   "outputs": [
    {
     "name": "stdout",
     "output_type": "stream",
     "text": [
      "74126 - space station crew does some repair work the two man crew of the international space station went outside again for more repair work  gennady padalka and mike fincke spent five and a half hours plugging in new antennas and replaced a worn out piece of cooling equipment \n",
      "\n",
      "30188 - mcdonald     s ceos display pattern of chronic disease embattled mcdonald     s has lost its second ceo in the past year after charlie bell resigned today to continue his battle with cancer \n",
      "\n",
      "81442 - kmart sells    stores to home depot troy  mich    kmart says the final agreement with the home depot means it     s selling    stores to the home improvement chain for       million \n",
      "\n",
      "51240 - update    tokyo stocks open higher  dollar up tokyo stocks opened higher thursday as investors welcomed wall street     s gains  the dollar was up against the japanese yen  the nikkei stock average of     issues was up    \n",
      "\n",
      "65644 - reports  ca may escape charges in doj deal accounting fraud charges against ca will be dropped if the company meets certain conditions  including paying compensation and appointing an independent overseer of its accounts  according to reports in the new york times and the wall street journal \n",
      "\n",
      "11785 - oil slips below      as iraq flow rises oil prices dipped below      on tuesday  making a third day of falls as a more optimistic iraq export picture unwound some of the supply worries that have lifted the market to historic levels \n",
      "\n",
      "21546 - william at cenotaph for first time prince william took part in his first official remembrance sunday engagement yesterday as the nation paid its respects to britains war dead \n",
      "\n",
      "91349 - reyna injured again the us captain  who had been sidelined since sept      reinjured his left quadriceps saturday during manchester city     s     tie against blackburn rovers \n",
      "\n",
      "28518 - i steal your heritage paperwork bores me  usually i don t fill it out  but in jail  you don t have a choice \n",
      "\n",
      "1792 - anaheim angels team report   september     sports network    the anaheim angels will try to get back on the winning track and break an    inning scoreless drought when they open up a crucial three game set against the seattle mariners tonight at angel stadium \n",
      "\n",
      "13889 - divers find gash in hull of oil tanker a   foot gash has been discovered in the hull of a tanker that leaked        gallons of crude oil into the delaware river friday night  officials said yesterday \n",
      "\n",
      "47978 - agassi masters mirnyi in madrid american andre agassi defeated hard serving max mirnyi of belarus              on tuesday to reach the third round at the     million us madrid masters tennis tournament \n",
      "\n",
      "39831 - more union givebacks unlikely at us airways us airways      unions  defying efforts to win labor concessions to avert a bankruptcy  are unlikely to give up pay and benefits under a threat of cuts imposed by a court  a labor leader and consultants said \n",
      "\n",
      "50964 - news  telenor takes down  massive  botnet a network of more than        zombie pcs has been dismantled after security staff at norwegian telco telenor located and shutdown its controlling server \n",
      "\n",
      "51126 - sport fishing a threat to saltwater species  new research indicates that sport fishermen are taking an unexpectedly big toll on saltwater fish populations  in some cases landing more fish than their commercial counterparts \n",
      "\n",
      "44507 - jetblue profit down    percent  reuters  reuters   low cost carrier jetblue airways corp   on thursday said third quarter earnings fell    percent as it struggled with skyrocketing fuel prices and tough competition \n",
      "\n",
      "42957 - high drama as stars dissolve in tracks of tears athens  seldom have sporting moments of inconceivable pain and delirious joy covered more emotional ground yet been so difficult to distinguish \n",
      "\n",
      "11761 - corporate tax bill nears final approval  ap  ap   supporters of a major rewrite of corporate tax law are optimistic they will be able to complete congressional action this week on legislation needed to end a bitter trade fight with europe and shower         billion in new tax breaks on businesses \n",
      "\n",
      "77232 - ispat to form global steel giant in        bln deal ispat international will buy lnm holdings and international steel group inc   forming the worlds largest steel firm in a deal worth a total of      \n",
      "\n",
      "79903 - stocks close higher  dow above        new york  reuters    u s  stocks ended higher on wednesday  as investors shrugged off record crude oil prices and bought beaten down shares  pushing blue chips to close above        for the first time in   weeks \n",
      "\n",
      "41494 - us through to davis cup final the united states have cemented their berth in the      davis cup final after a doubles victory against belarus on saturday gave them an unbeatable     lead \n",
      "\n",
      "23290 - hughes still has master     s touch bradley hughes returned to huntingdale after a six year hiatus to remind everyone why he was once considered the next big thing of australian golf \n",
      "\n",
      "62293 - crushing blow for bank customers safe boxes from a bank branch were taken away and crushed as scrap metal  leaving customers shocked and angry at the loss of their most valued possessions  executives acknowledged wednesday \n",
      "\n",
      "83675 - philippine catholic leader sin in stable condition after heart attack  afp  afp   the philippines  most influential roman catholic leader  cardinal jaime sin  is in stable condition but remains under intensive care after suffering a heart attack  his church says \n",
      "\n",
      "13259 - numbering system announced for internet phone users the internet is receiving its own batch of phone numbers for voice over broadband  vob  phone services  the uk     s telecom regulating body ofcom announced today \n",
      "\n",
      "23715 - ibm swipes at security with fingerprint reading thinkpad ibm has released a biometric thinkpad   the t   laptop incorporates a fingerprint sensor for managing passwords and controlling access to sensitive documents and data \n",
      "\n",
      "5935 - it s a fitting honor for school s finest he was an unparalleled star of his day  throwing touchdown passes  swatting home runs  and swishing baskets at lynn classical  aristotle george agganis  whose mother called him  ari  and friends dubbed  harry   was recruited in      by football powerhouses including notre dame  but the greek boy from lynn chose to stay close to home at boston university  where he instantly  \n",
      "\n",
      "39910 - seagate sees results above estimates seagate technology  the top us maker of computer hard disc drives  on tuesday forecast quarterly earnings and revenue above wall street estimates amid stronger demand for its products than in the previous quarter \n",
      "\n",
      "9148 - actually  they     re all in the chase the conspiracy theorists are already concocting potential plots  they speculate whether an out of contention driver would sabotage someone in the top     how teamwork might make an\n",
      "\n",
      "61698 - systems     go      in utah helicopter snag of nasa probe two hollywood stunt pilots and a space capsule full of stardust were on track for a historic mid air encounter above the utah desert on wednesday at the end of\n",
      "\n",
      "29397 - bristol myers posts lower profit new york  reuters    bristol myers squibb co   lt a href  http  www investor reuters com fullquote aspx ticker bmy n target  stocks quickinfo fullquote  gt bmy n lt  a gt  on friday reported a lower third quarter profit as u s  sales fell amid competition from rival brands and cheaper generics and the company took a number of special charges \n",
      "\n",
      "10494 - it s a bird  it s a planet  it s the space station when the space station passes across the sun or moon  the scene offers an interesting demonstration of how planet hunter s look for new candidates by measuring the periodic dimming of a parent star \n",
      "\n",
      "10862 - nec  toshiba claim memory breakthrough companies are developing mram  which could be used in portable electronic devices \n",
      "\n",
      "24507 - an  electronic eye  for the blind japanese scientists have built an electronic eye they say could help blind people get around safely \n",
      "\n",
      "58469 - lebanese president names pro syrian politician omar karami as next  lt b gt   lt  b gt  beirut  lebanon   president emile lahoud appointed staunchly pro syrian politician omar karami as prime minister on thursday and asked him to form the next government  replacing billionaire rafik hariri in a move that consolidates syria     s hold on\n",
      "\n",
      "16985 - uk house prices retreat in august uk house prices fell by     in august as recent interest rate rises took hold  the halifax says \n",
      "\n",
      "88352 - typhoon kills   in taiwan typhoon nock ten killed three people and injured several others in taiwan  according to a hong kong radio station on monday  the dead include a male tv reporter and a fireman and another person still remained missing \n",
      "\n",
      "30987 - teenager will play in heady company darren wallace is used to doing things ahead of schedule  he was hitting golf balls in his backyard as an    month old and played his first    holes of golf   albeit on a par three course   on his third birthday \n",
      "\n",
      "30775 - brazilian ace dies brazilian defender serginho today died in hospital after collapsing during a match between his team sao caetano and sao paulo  serginho fell to the ground in the   th minute with the ball at the other end of the pitch \n",
      "\n",
      "85716 - u s  cybersecurity office may relocate  ap  ap   the house will propose moving cybersecurity offices from the department of homeland security to the white house as part of the intelligence reorganization  according to draft legislation obtained wednesday by the associated press  the bill  expected to be introduced thursday  would place cybersecurity into the white house budget office \n",
      "\n",
      "59586 - zambrano leads cubs past brewers      ap  ap   carlos zambrano took a no hit bid into the seventh inning and struck out nine to lead the chicago cubs over the milwaukee brewers     monday night \n",
      "\n",
      "93923 - in storm ravaged philippines  an urgent plea for food  goods real  philippines   helicopters delivered food to famished survivors and picked up casualties as the weather cleared yesterday in villages ravaged by back to back storms that left     people dead and nearly     missing in the northern philippines \n",
      "\n",
      "90212 - monti blasted over abbey comments banking group hbos yesterday criticised european competition commissioner mario monti for appearing to welcome the     billion takeover of abbey national\n",
      "\n",
      "76854 - uk welcomes corncrake s comeback the rare corncrake is starting to return to england  but several other birds are still in serious trouble \n",
      "\n",
      "46452 - icahn  mylan says takeover bid neutralized as perry becomes top  lt b gt   lt  b gt  check or checkmate  carl icahn  attempting to block mylan laboratories  nyse  myl   news   people   in its buyup of king pharmaceuticals  nyse  kg   news   people    made his move  earlier this month  the\n",
      "\n",
      "76762 - marsh to scrap fees spitzer faulted new york  reuters    marsh mclennan cos   lt a href  http  www investor reuters com fullquote aspx ticker mmc n target  stocks quickinfo fullquote  gt mmc n lt  a gt   the world s largest insurance broker  on tuesday said it will reform its business practices and stop accepting fees that new york s attorney general said amounted to bid rigging \n",
      "\n",
      "38035 - more surgery for vikings      bennett cbc sports online   minnesota vikings running back michael bennett is likely sidelined two more games after undergoing arthroscopic knee surgery monday \n",
      "\n",
      "85268 - apple debuts logic express   logic express    a streamlined version of logic  provides a basic set of professional tools for students  educators and advanced hobbyists at an affordable price  sep   \n",
      "\n",
      "39923 - aerospace giants hope to build next craft boeing nasa systems of houston will team with another aerospace giant to bid on building the successor to the space shuttle  a spacecraft that would take explorers to the moon and mars  officials from the two companies announced tuesday \n",
      "\n",
      "78855 - sudan makes progress over darfur  straw the sudanese government has made progress in meeting un demands to end the darfur crisis  britain     s foreign secretary jack straw said tuesday during a trip to the abu shouk refugee camp in northern darfur \n",
      "\n"
     ]
    }
   ],
   "source": [
    "# Display a few rows of the dataset\n",
    "from helpers.dataset import print_random_sample\n",
    "\n",
    "print_random_sample(df_train, 50, random_state=271828)"
   ]
  },
  {
   "cell_type": "markdown",
   "id": "3464600b",
   "metadata": {},
   "source": [
    "### Creating Labels Functions"
   ]
  },
  {
   "cell_type": "markdown",
   "id": "370b8d03",
   "metadata": {},
   "source": [
    "This project uses weak supervision to classify news titles into four categories:\n",
    "- **World/Politics**\n",
    "- **Sports**\n",
    "- **Business/Economy**\n",
    "- **Sci/Tech**\n",
    "\n",
    "__Overview__\n",
    "\n",
    "I created labeling functions (LFs) based on regular expression patterns that capture domain-specific keywords and phrases. These LFs are designed to identify text features typical of each category.\n",
    "\n",
    "__How the Patterns Work__\n",
    "\n",
    "- World/Politics: Detects geopolitical terms, political events, elections, international relations, and social issues.\n",
    "- Sports: Captures sport names, famous teams, player actions, scores, and tournament references.\n",
    "- Business/Economy: Focuses on financial terms, stock market keywords, company activities, and economic indicators.\n",
    "- Sci/Tech: Covers space exploration, biology/environment, computing, technology companies, and emerging tech terms.\n"
   ]
  },
  {
   "cell_type": "code",
   "execution_count": 28,
   "id": "f06fb639",
   "metadata": {},
   "outputs": [],
   "source": [
    "ABSTAIN = -1\n",
    "WORLD = 0\n",
    "SPORTS = 1\n",
    "BUSINESS = 2\n",
    "SCI_TECH = 3"
   ]
  },
  {
   "cell_type": "code",
   "execution_count": 29,
   "id": "91e6ffa3",
   "metadata": {},
   "outputs": [],
   "source": [
    "# Patterns for each category\n",
    "\n",
    "world_patterns = [\n",
    "    # Crime/Legal (for lf_world_crime_legal)\n",
    "    r\"\\b(pleads guilty|charges|sexual assault|indecent assault|court|legal case|trial)\\b\",\n",
    "    r\"\\b(kill(s|ed)?|assassinate(d)?)\\b\",  # With \\b word boundary\n",
    "    # Relationships/Politics (for lf_world_relationships_politics)\n",
    "    r\"\\b(security plan|coastal security|foreign policy|diplomacy|geopolitics|embassy|international relations)\\b\",\n",
    "    r\"\\b(iran|north korea|china|us|russia|eu|u\\.n\\.).*\\b(talks|negotiation|sanctions|treaty|dispute|summit)\\b\",\n",
    "    r\"\\b(australian|new zealand|canadian|brazil|panama|iraq(is)?|egyptian(s)?|syria|afghanistan|ukraine).*\\b(government|election|protest|conflict|crisis|agreement|relations|border|minister|president)\\b\",\n",
    "    # Disasters/Social Issues (for lf_world_disaster_social_issues)\n",
    "    r\"\\b(death toll|humanitarian|refugee|famine|aid|human rights|social issue)\\b\",\n",
    "    r\"\\b(storm|hurricane|earthquake|flood|disaster).*\\b(toll|victims|relief|emergency|crisis)\\b\",\n",
    "    # General (for lf_world_general_keywords and their original patterns)\n",
    "    r\"election(s)?\", r\"\\bvote\\b\", r\"referendum\", r\"poll(s|ing|ster)?\", r\"politician\", r\"politics\", r\"political\",\n",
    "    r\"candidate\", r\"campaign\", r\"\\bdebate\\b\", r\"opposition\", r\"protest\", r\"rebel(s|ion|ions)?\", r\"warfare\",\n",
    "    r\"prime minister\", r\"president\", r\"government\", r\"parliament\", r\"senate\", r\"congress\", r\"legislation\",\n",
    "    r\"\\bdrug(s)?\\b\"  # If related to drug policy/trafficking\n",
    "]\n",
    "\n",
    "sports_patterns = [\n",
    "    # Specific Terms (for lf_sports_specific_terms)\n",
    "    r\"\\b(football|soccer|basketball|volley(?:ball)?|tennis|baseball|cricket|rugby|hockey|golf|olympics?|athletics|swimming|mma|boxing|f1|formula 1|motogp|esports|cycling)\\b\",\n",
    "    r\"\\b(world cup|champions league|super bowl|grand slam|world series|grand prix|tour de france|wimbledon|us open|stanley cup|nba finals|mls cup|brasileirão)\\b\",\n",
    "    r\"\\b(score[ds]?|goals?|touchdown|home run|point[s]? won|match point|game set match|inning|lap|race|tournament|championship|league|playoff[s]?)\\b\",\n",
    "    r\"\\b(athlete[s]?|player[s]?|team|coach|manager|referee|umpire|fans)\\b\",  # \"manager\" may need context\n",
    "    r\"\\b(penalty kick|free kick|corner kick|slam dunk|ace \\(tennis\\)|birdie|bogey|par \\(golf\\))\\b\",\n",
    "    r\"\\b(pitcher|quarterback|striker|goalkeeper|point guard|forward|defender|pro bowl|mvp|doping|transfer window)\\b\",\n",
    "    # Team Names (examples, expand as needed)\n",
    "    r\"\\b(manchester united|real madrid|yankees|red sox|lakers|celtics|chiefs|bucs|clemson|virginia|flamengo|corinthians)\\b\",\n",
    "    # Player/Team Actions (for lf_sports_player_action)\n",
    "    r\"\\b(share[s]? lead|wins|defeats|scores|advances to final|sets record).*\\b(tournament|championship|game|match|race)\\b\",\n",
    "    r\"\\b\\d+\\s*-\\s*\\d+\\b\"  # Generic score (may need more context to avoid false positives)\n",
    "]\n",
    "\n",
    "business_patterns = [\n",
    "    # Company Names + Business Context (for lf_business_company_names - one approach is to list companies, another is more generic)\n",
    "    # For the pattern list approach, it's better to have separate LFs or patterns that combine name AND context.\n",
    "    # Here, we focus on context terms that can accompany company names:\n",
    "    r\"\\b(stock|share[s]?|profit|loss|revenue|earning[s]?|merger|acquisition|ipo|layoff|financial|quarter|results|market|ceo|cfo|board|deal|agreement|growth|down|up|price)\\b\",  # Financial context\n",
    "    # Financial Terms (for lf_business_financial_terms)\n",
    "    r\"\\b(invest(or|ment|ing)?s?|equity|portfolio|dividend[s]?|securities|trading|broker(age)?)\\b\",\n",
    "    r\"\\b(finance[ds]?|economy|economic|gdp|inflation|interest rate[s]?|recession)\\b\",\n",
    "    r\"\\b(takeover|bid|venture capital|funding|valuation)\\b\",\n",
    "    r\"\\b(chairman|executive|shareholder[s]?)\\b\",\n",
    "    r\"\\b(q\\d result[s]?|forecast|outlook \\(business\\))\\b\",  # Qualified \"outlook\"\n",
    "    r\"(\\$|us\\$|€|gbp|jpy|cny|inr|brl|r\\$)\\s?\\d+([.,]?\\d+)*\\s?(million|billion|trillion|k|m|b|t)?\\b\",\n",
    "    r\"\\b(compan(y|ies)|corporation[s]?|firm|enterprise|business|industry|sector|multinational|startup)\\b\",\n",
    "    r\"\\b(job[s]?|employment|unemployment|workforce|hiring|payroll)\\b\",\n",
    "    r\"\\b(fdi|tax cut[s]?|budget|tariff|trade|commerce|consumer spending)\\b\",\n",
    "    r\"\\b(airline|carrier)\\b\",\n",
    "    # Company Actions (for lf_business_company_actions)\n",
    "    r\"\\b(plan|restructuring|strategy|testimony|pressure[s]? unions|accepts deal|announces|reports|expands|cuts jobs|launches)\\b\"  # Usually with company name\n",
    "]\n",
    "\n",
    "sci_tech_patterns = [\n",
    "    # Space/Astronomy (for lf_sci_tech_space_astro)\n",
    "    r\"\\b(nasa|spacex|esa|cnsa|roscosmos|jaxa)\\b\",\n",
    "    r\"\\b(astronaut[s]?|cosmonaut[s]?|spacecraft|rocket|satellite[s]?|probe|space station|iss)\\b\",\n",
    "    r\"\\b(space exploration|space mission|moon landing|mars mission|lunar|martian|interstellar|launch)\\b\",\n",
    "    r\"\\b(astronomy|astronomer[s]?|telescope|hubble|webb|observatory|galaxy|galaxies|cosmos|universe|celestial)\\b\",\n",
    "    r\"\\b(planet[s]?|exoplanet[s]?|star[s]?|comet[s]?|asteroid[s]?|meteor|black hole|nebula|supernova|constellation|orbit)\\b\",\n",
    "    r\"\\b(da vinci project|wildfire rocket)\\b\",\n",
    "    # Biology/Environment (for lf_sci_tech_biology_environment)\n",
    "    r\"\\b(animal[s]?|plant[s]?|species|wildlife|organism|cell|dna|gene|genome|protein|enzyme|bacteria|virus\\(es\\)?)\\b\",\n",
    "    r\"\\b(biology|biologist|evolution|genetics|ecology|ecological|ecosystem|biodiversity|conservation|environment|environmental)\\b\",\n",
    "    r\"\\b(climate change|global warming|pollution|renewable energy|solar power|wind power|emissions|carbon footprint)\\b\",\n",
    "    r\"\\b(fossil[s]?|dinosaur[s]?|paleontology|extinction|habitat|migration)\\b\",\n",
    "    r\"\\b(crocodile|moth|insect|bird-like)\\b\",\n",
    "    # Computing/Internet/Devices (for lf_sci_tech_computing_internet_devices)\n",
    "    r\"\\b(software|hardware|algorithm|code|programming|developer|coding|app[s]?|application[s]?)\\b\",\n",
    "    r\"\\b(internet|online|website|web|cloud computing|data center|server|network|cybersecurity|malware|virus|msblast|phishing|encryption|hacker|hack)\\b\",\n",
    "    r\"\\b(ai|artificial intelligence|machine learning|deep learning|neural network|big data|data science|analytics)\\b\",\n",
    "    r\"\\b(computer[s]?|pc|laptop[s]?|desktop|chip|processor|cpu|gpu|semiconductor|motherboard)\\b\",\n",
    "    r\"\\b(device[s]?|gadget[s]?|wearable[s]?|smartphone[s]?|mobile phone[s]?|iphone|android|ios|tablet|ipad)\\b\",\n",
    "    r\"\\b(ipod|nintendo|playstation|xbox|game console|videogame|gaming|e-sport[s]?)\\b\",\n",
    "    r\"\\b(blu-ray|dvd|hd|high-definition|4k|8k|display|screen|virtual reality|vr|augmented reality|ar)\\b\",\n",
    "    r\"\\b(tech|technology|high-tech|innovation|digital|emerging tech|research and development|r&d)\\b\",\n",
    "    # Tech Company Names (overlap with business is a challenge; context is key)\n",
    "    r\"\\b(google|microsoft|apple|amazon|facebook|meta|intel|nvidia|samsung|ibm|oracle|cisco|dell|hp|qualcomm|huawei|sony|lg|xiaomi|tivo|netflix|portalplayer|idc|sprint|nextel|ntt docomo|vodafone)\\b\",\n",
    "    r\"\\b(it spending|search marketing|source code|sdk|api|platform|operating system|os|linux|windows|macos|unix)\\b\",\n",
    "    r\"\\b(3g|4g|5g|wi-fi|bluetooth|broadband|fiber optic|internet service|isp)\\b\",\n",
    "    r\"\\b(it infrastructure|information technology)\\b\"\n",
    "]\n"
   ]
  },
  {
   "cell_type": "code",
   "execution_count": 30,
   "id": "b3935652",
   "metadata": {},
   "outputs": [
    {
     "data": {
      "text/plain": [
       "[LabelingFunction lf_regex_world_a, Preprocessors: [],\n",
       " LabelingFunction lf_regex_world_b, Preprocessors: [],\n",
       " LabelingFunction lf_regex_world_c, Preprocessors: [],\n",
       " LabelingFunction lf_regex_world_d, Preprocessors: [],\n",
       " LabelingFunction lf_regex_world_e, Preprocessors: [],\n",
       " LabelingFunction lf_regex_world_f, Preprocessors: [],\n",
       " LabelingFunction lf_regex_world_g, Preprocessors: [],\n",
       " LabelingFunction lf_regex_world_h, Preprocessors: [],\n",
       " LabelingFunction lf_regex_world_i, Preprocessors: [],\n",
       " LabelingFunction lf_regex_world_j, Preprocessors: [],\n",
       " LabelingFunction lf_regex_world_k, Preprocessors: [],\n",
       " LabelingFunction lf_regex_world_l, Preprocessors: [],\n",
       " LabelingFunction lf_regex_world_m, Preprocessors: [],\n",
       " LabelingFunction lf_regex_world_n, Preprocessors: [],\n",
       " LabelingFunction lf_regex_world_o, Preprocessors: [],\n",
       " LabelingFunction lf_regex_world_p, Preprocessors: [],\n",
       " LabelingFunction lf_regex_world_q, Preprocessors: [],\n",
       " LabelingFunction lf_regex_world_r, Preprocessors: [],\n",
       " LabelingFunction lf_regex_world_s, Preprocessors: [],\n",
       " LabelingFunction lf_regex_world_t, Preprocessors: [],\n",
       " LabelingFunction lf_regex_world_u, Preprocessors: [],\n",
       " LabelingFunction lf_regex_world_v, Preprocessors: [],\n",
       " LabelingFunction lf_regex_world_w, Preprocessors: [],\n",
       " LabelingFunction lf_regex_world_x, Preprocessors: [],\n",
       " LabelingFunction lf_regex_world_y, Preprocessors: [],\n",
       " LabelingFunction lf_regex_world_z, Preprocessors: [],\n",
       " LabelingFunction lf_regex_world_aa, Preprocessors: [],\n",
       " LabelingFunction lf_regex_world_ab, Preprocessors: [],\n",
       " LabelingFunction lf_regex_world_ac, Preprocessors: [],\n",
       " LabelingFunction lf_regex_sport_a, Preprocessors: [],\n",
       " LabelingFunction lf_regex_sport_b, Preprocessors: [],\n",
       " LabelingFunction lf_regex_sport_c, Preprocessors: [],\n",
       " LabelingFunction lf_regex_sport_d, Preprocessors: [],\n",
       " LabelingFunction lf_regex_sport_e, Preprocessors: [],\n",
       " LabelingFunction lf_regex_sport_f, Preprocessors: [],\n",
       " LabelingFunction lf_regex_sport_g, Preprocessors: [],\n",
       " LabelingFunction lf_regex_sport_h, Preprocessors: [],\n",
       " LabelingFunction lf_regex_sport_i, Preprocessors: [],\n",
       " LabelingFunction lf_regex_business_a, Preprocessors: [],\n",
       " LabelingFunction lf_regex_business_b, Preprocessors: [],\n",
       " LabelingFunction lf_regex_business_c, Preprocessors: [],\n",
       " LabelingFunction lf_regex_business_d, Preprocessors: [],\n",
       " LabelingFunction lf_regex_business_e, Preprocessors: [],\n",
       " LabelingFunction lf_regex_business_f, Preprocessors: [],\n",
       " LabelingFunction lf_regex_business_g, Preprocessors: [],\n",
       " LabelingFunction lf_regex_business_h, Preprocessors: [],\n",
       " LabelingFunction lf_regex_business_i, Preprocessors: [],\n",
       " LabelingFunction lf_regex_business_j, Preprocessors: [],\n",
       " LabelingFunction lf_regex_business_k, Preprocessors: [],\n",
       " LabelingFunction lf_regex_business_l, Preprocessors: [],\n",
       " LabelingFunction lf_regex_sci_tech_a, Preprocessors: [],\n",
       " LabelingFunction lf_regex_sci_tech_b, Preprocessors: [],\n",
       " LabelingFunction lf_regex_sci_tech_c, Preprocessors: [],\n",
       " LabelingFunction lf_regex_sci_tech_d, Preprocessors: [],\n",
       " LabelingFunction lf_regex_sci_tech_e, Preprocessors: [],\n",
       " LabelingFunction lf_regex_sci_tech_f, Preprocessors: [],\n",
       " LabelingFunction lf_regex_sci_tech_g, Preprocessors: [],\n",
       " LabelingFunction lf_regex_sci_tech_h, Preprocessors: [],\n",
       " LabelingFunction lf_regex_sci_tech_i, Preprocessors: [],\n",
       " LabelingFunction lf_regex_sci_tech_j, Preprocessors: [],\n",
       " LabelingFunction lf_regex_sci_tech_k, Preprocessors: [],\n",
       " LabelingFunction lf_regex_sci_tech_l, Preprocessors: [],\n",
       " LabelingFunction lf_regex_sci_tech_m, Preprocessors: [],\n",
       " LabelingFunction lf_regex_sci_tech_n, Preprocessors: [],\n",
       " LabelingFunction lf_regex_sci_tech_o, Preprocessors: [],\n",
       " LabelingFunction lf_regex_sci_tech_p, Preprocessors: [],\n",
       " LabelingFunction lf_regex_sci_tech_q, Preprocessors: [],\n",
       " LabelingFunction lf_regex_sci_tech_r, Preprocessors: [],\n",
       " LabelingFunction lf_regex_sci_tech_s, Preprocessors: [],\n",
       " LabelingFunction lf_regex_sci_tech_t, Preprocessors: [],\n",
       " LabelingFunction lf_regex_sci_tech_u, Preprocessors: [],\n",
       " LabelingFunction lf_regex_sci_tech_v, Preprocessors: [],\n",
       " LabelingFunction lf_regex_sci_tech_w, Preprocessors: []]"
      ]
     },
     "execution_count": 30,
     "metadata": {},
     "output_type": "execute_result"
    }
   ],
   "source": [
    "from helpers.lf import int_to_alphabetic_string, create_labeling_functions_from_regex\n",
    "import re\n",
    "\n",
    "regex_patterns = []\n",
    "\n",
    "for i, pattern in enumerate(world_patterns):\n",
    "    name = f\"world_{int_to_alphabetic_string(i + 1)}\"\n",
    "    regex_patterns.append((re.compile(pattern), name, WORLD, ABSTAIN))\n",
    "\n",
    "for i, pattern in enumerate(sports_patterns):\n",
    "    name = f\"sport_{int_to_alphabetic_string(i + 1)}\"\n",
    "    regex_patterns.append((re.compile(pattern), name, SPORTS, ABSTAIN))\n",
    "\n",
    "for i, pattern in enumerate(business_patterns):\n",
    "    name = f\"business_{int_to_alphabetic_string(i + 1)}\"\n",
    "    regex_patterns.append((re.compile(pattern), name, BUSINESS, ABSTAIN))\n",
    "\n",
    "for i, pattern in enumerate(sci_tech_patterns):\n",
    "    name = f\"sci_tech_{int_to_alphabetic_string(i + 1)}\"\n",
    "    regex_patterns.append((re.compile(pattern), name, SCI_TECH, ABSTAIN))\n",
    "\n",
    "lfs_regex = create_labeling_functions_from_regex(regex_patterns)\n",
    "\n",
    "lfs_regex"
   ]
  },
  {
   "cell_type": "markdown",
   "id": "b26ff588",
   "metadata": {},
   "source": [
    "Enhancing Weak Supervision with Semi-Supervised Learning and BERT Embeddings\n",
    "\n",
    "In many real-world scenarios, obtaining large volumes of labeled data is expensive and time-consuming. **Weak supervision** helps overcome this by combining noisy sources of supervision (e.g., heuristics, pattern matchers, or distant supervision) into training data. However, these labeling functions (LFs) often lack generalization and can leave many examples unlabeled or inconsistently labeled.\n",
    "\n",
    "To address these limitations, we incorporate **semi-supervised learning with BERT embeddings** into the weak supervision pipeline.\n",
    "\n",
    "__Why Use Semi-Supervised Learning?__\n",
    "\n",
    "**Semi-supervised learning (SSL)** uses both labeled and unlabeled data to improve classification performance. It is especially valuable when:\n",
    "\n",
    "- You have a small labeled set (e.g., dev set or gold data).\n",
    "- You have access to a large amount of unlabeled data.\n",
    "- You want to leverage model predictions on unlabeled data to refine weak labels.\n",
    "\n",
    "By training a classifier that starts with labeled data and iteratively pseudo-labels the unlabeled set, SSL helps fill in gaps left by LFs.\n"
   ]
  },
  {
   "cell_type": "code",
   "execution_count": 31,
   "id": "085ea547",
   "metadata": {},
   "outputs": [
    {
     "name": "stdout",
     "output_type": "stream",
     "text": [
      "Using device: cuda\n",
      "Loading tokenizer and model: bert-base-uncased...\n",
      "\n",
      "Shape of X_dev (Transformer embeddings): (11856, 768)\n"
     ]
    }
   ],
   "source": [
    "from transformers import AutoTokenizer, AutoModel\n",
    "\n",
    "import torch\n",
    "import numpy as np\n",
    "\n",
    "# Check if GPU is available and set the device accordingly\n",
    "device = torch.device(\"cuda\" if torch.cuda.is_available() else \"cpu\")\n",
    "print(f\"Using device: {device}\")\n",
    "\n",
    "# Load the pre-trained BERT model and tokenizer\n",
    "model_name = \"bert-base-uncased\"\n",
    "print(f\"Loading tokenizer and model: {model_name}...\")\n",
    "\n",
    "tokenizer = AutoTokenizer.from_pretrained(model_name)\n",
    "model = AutoModel.from_pretrained(model_name).to(device)\n",
    "model.eval()\n",
    "\n",
    "def get_embeddings_batch(texts, batch_size=16):\n",
    "    embeddings_list = []\n",
    "\n",
    "    for i in range(0, len(texts), batch_size):\n",
    "\n",
    "        batch_texts = texts[i : i + batch_size]\n",
    "        inputs = tokenizer(batch_texts, padding=True, truncation=True, return_tensors=\"pt\", max_length=512)\n",
    "        inputs = {k: v.to(device) for k, v in inputs.items()}\n",
    "\n",
    "        with torch.no_grad():\n",
    "            outputs = model(**inputs)\n",
    "            batch_embeddings = outputs.last_hidden_state[:, 0, :].cpu().numpy()\n",
    "            embeddings_list.append(batch_embeddings)\n",
    "\n",
    "    return np.vstack(embeddings_list)\n",
    "\n",
    "# Apply to your dataset\n",
    "X_dev = get_embeddings_batch(df_dev.text.tolist(), batch_size=8)\n",
    "y_dev = df_dev.label.values\n",
    "\n",
    "print(f\"\\nShape of X_dev (Transformer embeddings): {X_dev.shape}\")\n"
   ]
  },
  {
   "cell_type": "markdown",
   "id": "462edbe7",
   "metadata": {},
   "source": [
    "__Why Use BERT Embeddings?__\n",
    "\n",
    "**BERT** provides deep, contextualized representations of text:\n",
    "\n",
    "- Captures rich semantic meaning beyond surface-level features.\n",
    "- Handles variations in phrasing or synonyms that keyword-based LFs may miss.\n",
    "- Embeddings can be used with any classical classifier (e.g., ExtraTrees, Logistic Regression).\n",
    "\n",
    "Compared to traditional feature extraction (e.g., TF-IDF), BERT embeddings improve generalization and performance, especially in low-data regimes."
   ]
  },
  {
   "cell_type": "code",
   "execution_count": 32,
   "id": "67b5f780",
   "metadata": {},
   "outputs": [
    {
     "data": {
      "text/html": [
       "<style>#sk-container-id-1 {\n",
       "  /* Definition of color scheme common for light and dark mode */\n",
       "  --sklearn-color-text: #000;\n",
       "  --sklearn-color-text-muted: #666;\n",
       "  --sklearn-color-line: gray;\n",
       "  /* Definition of color scheme for unfitted estimators */\n",
       "  --sklearn-color-unfitted-level-0: #fff5e6;\n",
       "  --sklearn-color-unfitted-level-1: #f6e4d2;\n",
       "  --sklearn-color-unfitted-level-2: #ffe0b3;\n",
       "  --sklearn-color-unfitted-level-3: chocolate;\n",
       "  /* Definition of color scheme for fitted estimators */\n",
       "  --sklearn-color-fitted-level-0: #f0f8ff;\n",
       "  --sklearn-color-fitted-level-1: #d4ebff;\n",
       "  --sklearn-color-fitted-level-2: #b3dbfd;\n",
       "  --sklearn-color-fitted-level-3: cornflowerblue;\n",
       "\n",
       "  /* Specific color for light theme */\n",
       "  --sklearn-color-text-on-default-background: var(--sg-text-color, var(--theme-code-foreground, var(--jp-content-font-color1, black)));\n",
       "  --sklearn-color-background: var(--sg-background-color, var(--theme-background, var(--jp-layout-color0, white)));\n",
       "  --sklearn-color-border-box: var(--sg-text-color, var(--theme-code-foreground, var(--jp-content-font-color1, black)));\n",
       "  --sklearn-color-icon: #696969;\n",
       "\n",
       "  @media (prefers-color-scheme: dark) {\n",
       "    /* Redefinition of color scheme for dark theme */\n",
       "    --sklearn-color-text-on-default-background: var(--sg-text-color, var(--theme-code-foreground, var(--jp-content-font-color1, white)));\n",
       "    --sklearn-color-background: var(--sg-background-color, var(--theme-background, var(--jp-layout-color0, #111)));\n",
       "    --sklearn-color-border-box: var(--sg-text-color, var(--theme-code-foreground, var(--jp-content-font-color1, white)));\n",
       "    --sklearn-color-icon: #878787;\n",
       "  }\n",
       "}\n",
       "\n",
       "#sk-container-id-1 {\n",
       "  color: var(--sklearn-color-text);\n",
       "}\n",
       "\n",
       "#sk-container-id-1 pre {\n",
       "  padding: 0;\n",
       "}\n",
       "\n",
       "#sk-container-id-1 input.sk-hidden--visually {\n",
       "  border: 0;\n",
       "  clip: rect(1px 1px 1px 1px);\n",
       "  clip: rect(1px, 1px, 1px, 1px);\n",
       "  height: 1px;\n",
       "  margin: -1px;\n",
       "  overflow: hidden;\n",
       "  padding: 0;\n",
       "  position: absolute;\n",
       "  width: 1px;\n",
       "}\n",
       "\n",
       "#sk-container-id-1 div.sk-dashed-wrapped {\n",
       "  border: 1px dashed var(--sklearn-color-line);\n",
       "  margin: 0 0.4em 0.5em 0.4em;\n",
       "  box-sizing: border-box;\n",
       "  padding-bottom: 0.4em;\n",
       "  background-color: var(--sklearn-color-background);\n",
       "}\n",
       "\n",
       "#sk-container-id-1 div.sk-container {\n",
       "  /* jupyter's `normalize.less` sets `[hidden] { display: none; }`\n",
       "     but bootstrap.min.css set `[hidden] { display: none !important; }`\n",
       "     so we also need the `!important` here to be able to override the\n",
       "     default hidden behavior on the sphinx rendered scikit-learn.org.\n",
       "     See: https://github.com/scikit-learn/scikit-learn/issues/21755 */\n",
       "  display: inline-block !important;\n",
       "  position: relative;\n",
       "}\n",
       "\n",
       "#sk-container-id-1 div.sk-text-repr-fallback {\n",
       "  display: none;\n",
       "}\n",
       "\n",
       "div.sk-parallel-item,\n",
       "div.sk-serial,\n",
       "div.sk-item {\n",
       "  /* draw centered vertical line to link estimators */\n",
       "  background-image: linear-gradient(var(--sklearn-color-text-on-default-background), var(--sklearn-color-text-on-default-background));\n",
       "  background-size: 2px 100%;\n",
       "  background-repeat: no-repeat;\n",
       "  background-position: center center;\n",
       "}\n",
       "\n",
       "/* Parallel-specific style estimator block */\n",
       "\n",
       "#sk-container-id-1 div.sk-parallel-item::after {\n",
       "  content: \"\";\n",
       "  width: 100%;\n",
       "  border-bottom: 2px solid var(--sklearn-color-text-on-default-background);\n",
       "  flex-grow: 1;\n",
       "}\n",
       "\n",
       "#sk-container-id-1 div.sk-parallel {\n",
       "  display: flex;\n",
       "  align-items: stretch;\n",
       "  justify-content: center;\n",
       "  background-color: var(--sklearn-color-background);\n",
       "  position: relative;\n",
       "}\n",
       "\n",
       "#sk-container-id-1 div.sk-parallel-item {\n",
       "  display: flex;\n",
       "  flex-direction: column;\n",
       "}\n",
       "\n",
       "#sk-container-id-1 div.sk-parallel-item:first-child::after {\n",
       "  align-self: flex-end;\n",
       "  width: 50%;\n",
       "}\n",
       "\n",
       "#sk-container-id-1 div.sk-parallel-item:last-child::after {\n",
       "  align-self: flex-start;\n",
       "  width: 50%;\n",
       "}\n",
       "\n",
       "#sk-container-id-1 div.sk-parallel-item:only-child::after {\n",
       "  width: 0;\n",
       "}\n",
       "\n",
       "/* Serial-specific style estimator block */\n",
       "\n",
       "#sk-container-id-1 div.sk-serial {\n",
       "  display: flex;\n",
       "  flex-direction: column;\n",
       "  align-items: center;\n",
       "  background-color: var(--sklearn-color-background);\n",
       "  padding-right: 1em;\n",
       "  padding-left: 1em;\n",
       "}\n",
       "\n",
       "\n",
       "/* Toggleable style: style used for estimator/Pipeline/ColumnTransformer box that is\n",
       "clickable and can be expanded/collapsed.\n",
       "- Pipeline and ColumnTransformer use this feature and define the default style\n",
       "- Estimators will overwrite some part of the style using the `sk-estimator` class\n",
       "*/\n",
       "\n",
       "/* Pipeline and ColumnTransformer style (default) */\n",
       "\n",
       "#sk-container-id-1 div.sk-toggleable {\n",
       "  /* Default theme specific background. It is overwritten whether we have a\n",
       "  specific estimator or a Pipeline/ColumnTransformer */\n",
       "  background-color: var(--sklearn-color-background);\n",
       "}\n",
       "\n",
       "/* Toggleable label */\n",
       "#sk-container-id-1 label.sk-toggleable__label {\n",
       "  cursor: pointer;\n",
       "  display: flex;\n",
       "  width: 100%;\n",
       "  margin-bottom: 0;\n",
       "  padding: 0.5em;\n",
       "  box-sizing: border-box;\n",
       "  text-align: center;\n",
       "  align-items: start;\n",
       "  justify-content: space-between;\n",
       "  gap: 0.5em;\n",
       "}\n",
       "\n",
       "#sk-container-id-1 label.sk-toggleable__label .caption {\n",
       "  font-size: 0.6rem;\n",
       "  font-weight: lighter;\n",
       "  color: var(--sklearn-color-text-muted);\n",
       "}\n",
       "\n",
       "#sk-container-id-1 label.sk-toggleable__label-arrow:before {\n",
       "  /* Arrow on the left of the label */\n",
       "  content: \"▸\";\n",
       "  float: left;\n",
       "  margin-right: 0.25em;\n",
       "  color: var(--sklearn-color-icon);\n",
       "}\n",
       "\n",
       "#sk-container-id-1 label.sk-toggleable__label-arrow:hover:before {\n",
       "  color: var(--sklearn-color-text);\n",
       "}\n",
       "\n",
       "/* Toggleable content - dropdown */\n",
       "\n",
       "#sk-container-id-1 div.sk-toggleable__content {\n",
       "  max-height: 0;\n",
       "  max-width: 0;\n",
       "  overflow: hidden;\n",
       "  text-align: left;\n",
       "  /* unfitted */\n",
       "  background-color: var(--sklearn-color-unfitted-level-0);\n",
       "}\n",
       "\n",
       "#sk-container-id-1 div.sk-toggleable__content.fitted {\n",
       "  /* fitted */\n",
       "  background-color: var(--sklearn-color-fitted-level-0);\n",
       "}\n",
       "\n",
       "#sk-container-id-1 div.sk-toggleable__content pre {\n",
       "  margin: 0.2em;\n",
       "  border-radius: 0.25em;\n",
       "  color: var(--sklearn-color-text);\n",
       "  /* unfitted */\n",
       "  background-color: var(--sklearn-color-unfitted-level-0);\n",
       "}\n",
       "\n",
       "#sk-container-id-1 div.sk-toggleable__content.fitted pre {\n",
       "  /* unfitted */\n",
       "  background-color: var(--sklearn-color-fitted-level-0);\n",
       "}\n",
       "\n",
       "#sk-container-id-1 input.sk-toggleable__control:checked~div.sk-toggleable__content {\n",
       "  /* Expand drop-down */\n",
       "  max-height: 200px;\n",
       "  max-width: 100%;\n",
       "  overflow: auto;\n",
       "}\n",
       "\n",
       "#sk-container-id-1 input.sk-toggleable__control:checked~label.sk-toggleable__label-arrow:before {\n",
       "  content: \"▾\";\n",
       "}\n",
       "\n",
       "/* Pipeline/ColumnTransformer-specific style */\n",
       "\n",
       "#sk-container-id-1 div.sk-label input.sk-toggleable__control:checked~label.sk-toggleable__label {\n",
       "  color: var(--sklearn-color-text);\n",
       "  background-color: var(--sklearn-color-unfitted-level-2);\n",
       "}\n",
       "\n",
       "#sk-container-id-1 div.sk-label.fitted input.sk-toggleable__control:checked~label.sk-toggleable__label {\n",
       "  background-color: var(--sklearn-color-fitted-level-2);\n",
       "}\n",
       "\n",
       "/* Estimator-specific style */\n",
       "\n",
       "/* Colorize estimator box */\n",
       "#sk-container-id-1 div.sk-estimator input.sk-toggleable__control:checked~label.sk-toggleable__label {\n",
       "  /* unfitted */\n",
       "  background-color: var(--sklearn-color-unfitted-level-2);\n",
       "}\n",
       "\n",
       "#sk-container-id-1 div.sk-estimator.fitted input.sk-toggleable__control:checked~label.sk-toggleable__label {\n",
       "  /* fitted */\n",
       "  background-color: var(--sklearn-color-fitted-level-2);\n",
       "}\n",
       "\n",
       "#sk-container-id-1 div.sk-label label.sk-toggleable__label,\n",
       "#sk-container-id-1 div.sk-label label {\n",
       "  /* The background is the default theme color */\n",
       "  color: var(--sklearn-color-text-on-default-background);\n",
       "}\n",
       "\n",
       "/* On hover, darken the color of the background */\n",
       "#sk-container-id-1 div.sk-label:hover label.sk-toggleable__label {\n",
       "  color: var(--sklearn-color-text);\n",
       "  background-color: var(--sklearn-color-unfitted-level-2);\n",
       "}\n",
       "\n",
       "/* Label box, darken color on hover, fitted */\n",
       "#sk-container-id-1 div.sk-label.fitted:hover label.sk-toggleable__label.fitted {\n",
       "  color: var(--sklearn-color-text);\n",
       "  background-color: var(--sklearn-color-fitted-level-2);\n",
       "}\n",
       "\n",
       "/* Estimator label */\n",
       "\n",
       "#sk-container-id-1 div.sk-label label {\n",
       "  font-family: monospace;\n",
       "  font-weight: bold;\n",
       "  display: inline-block;\n",
       "  line-height: 1.2em;\n",
       "}\n",
       "\n",
       "#sk-container-id-1 div.sk-label-container {\n",
       "  text-align: center;\n",
       "}\n",
       "\n",
       "/* Estimator-specific */\n",
       "#sk-container-id-1 div.sk-estimator {\n",
       "  font-family: monospace;\n",
       "  border: 1px dotted var(--sklearn-color-border-box);\n",
       "  border-radius: 0.25em;\n",
       "  box-sizing: border-box;\n",
       "  margin-bottom: 0.5em;\n",
       "  /* unfitted */\n",
       "  background-color: var(--sklearn-color-unfitted-level-0);\n",
       "}\n",
       "\n",
       "#sk-container-id-1 div.sk-estimator.fitted {\n",
       "  /* fitted */\n",
       "  background-color: var(--sklearn-color-fitted-level-0);\n",
       "}\n",
       "\n",
       "/* on hover */\n",
       "#sk-container-id-1 div.sk-estimator:hover {\n",
       "  /* unfitted */\n",
       "  background-color: var(--sklearn-color-unfitted-level-2);\n",
       "}\n",
       "\n",
       "#sk-container-id-1 div.sk-estimator.fitted:hover {\n",
       "  /* fitted */\n",
       "  background-color: var(--sklearn-color-fitted-level-2);\n",
       "}\n",
       "\n",
       "/* Specification for estimator info (e.g. \"i\" and \"?\") */\n",
       "\n",
       "/* Common style for \"i\" and \"?\" */\n",
       "\n",
       ".sk-estimator-doc-link,\n",
       "a:link.sk-estimator-doc-link,\n",
       "a:visited.sk-estimator-doc-link {\n",
       "  float: right;\n",
       "  font-size: smaller;\n",
       "  line-height: 1em;\n",
       "  font-family: monospace;\n",
       "  background-color: var(--sklearn-color-background);\n",
       "  border-radius: 1em;\n",
       "  height: 1em;\n",
       "  width: 1em;\n",
       "  text-decoration: none !important;\n",
       "  margin-left: 0.5em;\n",
       "  text-align: center;\n",
       "  /* unfitted */\n",
       "  border: var(--sklearn-color-unfitted-level-1) 1pt solid;\n",
       "  color: var(--sklearn-color-unfitted-level-1);\n",
       "}\n",
       "\n",
       ".sk-estimator-doc-link.fitted,\n",
       "a:link.sk-estimator-doc-link.fitted,\n",
       "a:visited.sk-estimator-doc-link.fitted {\n",
       "  /* fitted */\n",
       "  border: var(--sklearn-color-fitted-level-1) 1pt solid;\n",
       "  color: var(--sklearn-color-fitted-level-1);\n",
       "}\n",
       "\n",
       "/* On hover */\n",
       "div.sk-estimator:hover .sk-estimator-doc-link:hover,\n",
       ".sk-estimator-doc-link:hover,\n",
       "div.sk-label-container:hover .sk-estimator-doc-link:hover,\n",
       ".sk-estimator-doc-link:hover {\n",
       "  /* unfitted */\n",
       "  background-color: var(--sklearn-color-unfitted-level-3);\n",
       "  color: var(--sklearn-color-background);\n",
       "  text-decoration: none;\n",
       "}\n",
       "\n",
       "div.sk-estimator.fitted:hover .sk-estimator-doc-link.fitted:hover,\n",
       ".sk-estimator-doc-link.fitted:hover,\n",
       "div.sk-label-container:hover .sk-estimator-doc-link.fitted:hover,\n",
       ".sk-estimator-doc-link.fitted:hover {\n",
       "  /* fitted */\n",
       "  background-color: var(--sklearn-color-fitted-level-3);\n",
       "  color: var(--sklearn-color-background);\n",
       "  text-decoration: none;\n",
       "}\n",
       "\n",
       "/* Span, style for the box shown on hovering the info icon */\n",
       ".sk-estimator-doc-link span {\n",
       "  display: none;\n",
       "  z-index: 9999;\n",
       "  position: relative;\n",
       "  font-weight: normal;\n",
       "  right: .2ex;\n",
       "  padding: .5ex;\n",
       "  margin: .5ex;\n",
       "  width: min-content;\n",
       "  min-width: 20ex;\n",
       "  max-width: 50ex;\n",
       "  color: var(--sklearn-color-text);\n",
       "  box-shadow: 2pt 2pt 4pt #999;\n",
       "  /* unfitted */\n",
       "  background: var(--sklearn-color-unfitted-level-0);\n",
       "  border: .5pt solid var(--sklearn-color-unfitted-level-3);\n",
       "}\n",
       "\n",
       ".sk-estimator-doc-link.fitted span {\n",
       "  /* fitted */\n",
       "  background: var(--sklearn-color-fitted-level-0);\n",
       "  border: var(--sklearn-color-fitted-level-3);\n",
       "}\n",
       "\n",
       ".sk-estimator-doc-link:hover span {\n",
       "  display: block;\n",
       "}\n",
       "\n",
       "/* \"?\"-specific style due to the `<a>` HTML tag */\n",
       "\n",
       "#sk-container-id-1 a.estimator_doc_link {\n",
       "  float: right;\n",
       "  font-size: 1rem;\n",
       "  line-height: 1em;\n",
       "  font-family: monospace;\n",
       "  background-color: var(--sklearn-color-background);\n",
       "  border-radius: 1rem;\n",
       "  height: 1rem;\n",
       "  width: 1rem;\n",
       "  text-decoration: none;\n",
       "  /* unfitted */\n",
       "  color: var(--sklearn-color-unfitted-level-1);\n",
       "  border: var(--sklearn-color-unfitted-level-1) 1pt solid;\n",
       "}\n",
       "\n",
       "#sk-container-id-1 a.estimator_doc_link.fitted {\n",
       "  /* fitted */\n",
       "  border: var(--sklearn-color-fitted-level-1) 1pt solid;\n",
       "  color: var(--sklearn-color-fitted-level-1);\n",
       "}\n",
       "\n",
       "/* On hover */\n",
       "#sk-container-id-1 a.estimator_doc_link:hover {\n",
       "  /* unfitted */\n",
       "  background-color: var(--sklearn-color-unfitted-level-3);\n",
       "  color: var(--sklearn-color-background);\n",
       "  text-decoration: none;\n",
       "}\n",
       "\n",
       "#sk-container-id-1 a.estimator_doc_link.fitted:hover {\n",
       "  /* fitted */\n",
       "  background-color: var(--sklearn-color-fitted-level-3);\n",
       "}\n",
       "</style><div id=\"sk-container-id-1\" class=\"sk-top-container\"><div class=\"sk-text-repr-fallback\"><pre>SelfTrainingClassifier(estimator=ExtraTreesClassifier(class_weight=&#x27;balanced&#x27;,\n",
       "                                                      n_jobs=-1,\n",
       "                                                      random_state=271828))</pre><b>In a Jupyter environment, please rerun this cell to show the HTML representation or trust the notebook. <br />On GitHub, the HTML representation is unable to render, please try loading this page with nbviewer.org.</b></div><div class=\"sk-container\" hidden><div class=\"sk-item sk-dashed-wrapped\"><div class=\"sk-label-container\"><div class=\"sk-label fitted sk-toggleable\"><input class=\"sk-toggleable__control sk-hidden--visually\" id=\"sk-estimator-id-1\" type=\"checkbox\" ><label for=\"sk-estimator-id-1\" class=\"sk-toggleable__label fitted sk-toggleable__label-arrow\"><div><div>SelfTrainingClassifier</div></div><div><a class=\"sk-estimator-doc-link fitted\" rel=\"noreferrer\" target=\"_blank\" href=\"https://scikit-learn.org/1.6/modules/generated/sklearn.semi_supervised.SelfTrainingClassifier.html\">?<span>Documentation for SelfTrainingClassifier</span></a><span class=\"sk-estimator-doc-link fitted\">i<span>Fitted</span></span></div></label><div class=\"sk-toggleable__content fitted\"><pre>SelfTrainingClassifier(estimator=ExtraTreesClassifier(class_weight=&#x27;balanced&#x27;,\n",
       "                                                      n_jobs=-1,\n",
       "                                                      random_state=271828))</pre></div> </div></div><div class=\"sk-parallel\"><div class=\"sk-parallel-item\"><div class=\"sk-item\"><div class=\"sk-label-container\"><div class=\"sk-label fitted sk-toggleable\"><input class=\"sk-toggleable__control sk-hidden--visually\" id=\"sk-estimator-id-2\" type=\"checkbox\" ><label for=\"sk-estimator-id-2\" class=\"sk-toggleable__label fitted sk-toggleable__label-arrow\"><div><div>estimator: ExtraTreesClassifier</div></div></label><div class=\"sk-toggleable__content fitted\"><pre>ExtraTreesClassifier(class_weight=&#x27;balanced&#x27;, n_jobs=-1, random_state=271828)</pre></div> </div></div><div class=\"sk-serial\"><div class=\"sk-item\"><div class=\"sk-estimator fitted sk-toggleable\"><input class=\"sk-toggleable__control sk-hidden--visually\" id=\"sk-estimator-id-3\" type=\"checkbox\" ><label for=\"sk-estimator-id-3\" class=\"sk-toggleable__label fitted sk-toggleable__label-arrow\"><div><div>ExtraTreesClassifier</div></div><div><a class=\"sk-estimator-doc-link fitted\" rel=\"noreferrer\" target=\"_blank\" href=\"https://scikit-learn.org/1.6/modules/generated/sklearn.ensemble.ExtraTreesClassifier.html\">?<span>Documentation for ExtraTreesClassifier</span></a></div></label><div class=\"sk-toggleable__content fitted\"><pre>ExtraTreesClassifier(class_weight=&#x27;balanced&#x27;, n_jobs=-1, random_state=271828)</pre></div> </div></div></div></div></div></div></div></div></div>"
      ],
      "text/plain": [
       "SelfTrainingClassifier(estimator=ExtraTreesClassifier(class_weight='balanced',\n",
       "                                                      n_jobs=-1,\n",
       "                                                      random_state=271828))"
      ]
     },
     "execution_count": 32,
     "metadata": {},
     "output_type": "execute_result"
    }
   ],
   "source": [
    "from sklearn.semi_supervised import SelfTrainingClassifier\n",
    "from sklearn.ensemble import ExtraTreesClassifier\n",
    "import numpy as np\n",
    "\n",
    "# Get embeddings for the labeled development set\n",
    "X_labeled = get_embeddings_batch(df_dev.text.tolist(), batch_size=8)\n",
    "y_labeled = df_dev.label.values\n",
    "\n",
    "# Get embeddings for the unlabeled training set\n",
    "X_unlabeled = get_embeddings_batch(df_train.text.tolist(), batch_size=8)\n",
    "y_unlabeled = np.array([-1] * len(df_train))\n",
    "\n",
    "# Combine embeddings and labels\n",
    "X_combined = np.vstack([X_labeled, X_unlabeled])\n",
    "y_combined = np.concatenate([y_labeled, y_unlabeled])\n",
    "\n",
    "# Initialize and fit SelfTrainingClassifier\n",
    "base_model = ExtraTreesClassifier(\n",
    "    random_state=271828,\n",
    "    n_jobs=-1,\n",
    "    class_weight=\"balanced\"\n",
    ")\n",
    "model_ssl = SelfTrainingClassifier(base_model)\n",
    "\n",
    "model_ssl.fit(X_combined, y_combined)"
   ]
  },
  {
   "cell_type": "markdown",
   "id": "b567b0b4",
   "metadata": {},
   "source": [
    "__Use Case in Snorkel__\n",
    "\n",
    "In Snorkel, the semi-supervised BERT-based model can be wrapped with a `@preprocessor` and added as an additional source of weak supervision. This transforms the model from a purely post-processing step into a **collaborative labeling agent** in the pipeline."
   ]
  },
  {
   "cell_type": "code",
   "execution_count": 33,
   "id": "8942f60f",
   "metadata": {},
   "outputs": [],
   "source": [
    "from snorkel.preprocess import preprocessor\n",
    "\n",
    "@preprocessor(memoize=True)\n",
    "def semi_superv_classifier(x):\n",
    "    \"\"\"\n",
    "    Preprocess an example by adding a predicted label and score using a semi-supervised model on BERT embeddings.\n",
    "\n",
    "    Args:\n",
    "        x: An object with a 'text' attribute.\n",
    "\n",
    "    Returns:\n",
    "        x: The same object with added 'label_pred_ssl' and 'score_ssl' attributes.\n",
    "    \"\"\"\n",
    "    # Compute BERT embeddings for the single input text\n",
    "    embedding = get_embeddings_batch([x.text])  # Returns shape (1, hidden_size)\n",
    "\n",
    "    # Predict probabilities using the semi-supervised classifier\n",
    "    pred_proba = model_ssl.predict_proba(embedding)\n",
    "\n",
    "    # Predicted class index\n",
    "    pred = np.argmax(pred_proba, axis=1)[0]\n",
    "\n",
    "    # Assign the predicted label (string, not index)\n",
    "    x.label_pred_ssl = WORLD if pred == 0 else (\n",
    "        SPORTS if pred == 1 else (BUSINESS if pred == 2 else SCI_TECH)\n",
    "    )\n",
    "\n",
    "    # Assign the score (confidence)\n",
    "    x.score_ssl = pred_proba[0][pred]\n",
    "\n",
    "    return x"
   ]
  },
  {
   "cell_type": "code",
   "execution_count": 34,
   "id": "c1639969",
   "metadata": {},
   "outputs": [
    {
     "name": "stdout",
     "output_type": "stream",
     "text": [
      "F1 Score: 0.8525\n",
      "Balanced Accuracy: 0.8527\n",
      "Accuracy: 0.8525\n",
      "Matthews Corr Coef: 0.8033\n",
      "Elapsed Time: 16.98s\n",
      "\n",
      "              precision    recall  f1-score   support\n",
      "\n",
      "           0       0.83      0.86      0.85      2950\n",
      "           1       0.94      0.94      0.94      2950\n",
      "           2       0.81      0.80      0.81      2998\n",
      "           3       0.82      0.81      0.82      2958\n",
      "\n",
      "    accuracy                           0.85     11856\n",
      "   macro avg       0.85      0.85      0.85     11856\n",
      "weighted avg       0.85      0.85      0.85     11856\n",
      "\n"
     ]
    }
   ],
   "source": [
    "from helpers.train import train_logistic_regression\n",
    "\n",
    "conf_matrix = train_logistic_regression(X_dev, y_dev)"
   ]
  },
  {
   "cell_type": "code",
   "execution_count": 35,
   "id": "f236b768",
   "metadata": {},
   "outputs": [
    {
     "data": {
      "image/png": "[encoded data removed]",
      "text/plain": [
       "<Figure size 600x400 with 2 Axes>"
      ]
     },
     "metadata": {},
     "output_type": "display_data"
    }
   ],
   "source": [
    "from helpers.plot import plot_confusion_matrix\n",
    "\n",
    "plot_confusion_matrix(conf_matrix)"
   ]
  },
  {
   "cell_type": "code",
   "execution_count": 36,
   "id": "e5dc3736",
   "metadata": {},
   "outputs": [],
   "source": [
    "from snorkel.labeling import labeling_function\n",
    "\n",
    "\n",
    "# Define a labeling function that uses the semi-supervised stacked classifier preprocessor\n",
    "# The @labeling_function decorator indicates that this function is a Snorkel labeling function\n",
    "# The 'pre' parameter specifies a list of preprocessors to apply before the labeling function\n",
    "@labeling_function(pre=[semi_superv_classifier])\n",
    "def lf_ssl(x):\n",
    "    \"\"\"\n",
    "    Labeling function that assigns a label based on the score and predicted label from the semi-supervised stacked classifier.\n",
    "\n",
    "    Args:\n",
    "        x: An object with 'score_ssl' and 'label_pred_ssl' attributes added by the semi_superv_classifier preprocessor.\n",
    "\n",
    "    Returns:\n",
    "        int: The assigned label (WORLD, SPORTS, BUSINESS, SCI_TECH or ABSTAIN).\n",
    "    \"\"\"\n",
    "    # Apply a threshold to the score to filter out low-confidence predictions\n",
    "    # If the score is greater than or equal to 0.95, consider the prediction\n",
    "    if x.score_ssl >= 0.95:\n",
    "        # If the predicted label is 1, return the WORLD label\n",
    "        if x.label_pred_ssl == 0:\n",
    "            return WORLD\n",
    "        # If the predicted label is 0, return the SPORTS label\n",
    "        elif x.label_pred_ssl == 1:\n",
    "            return SPORTS\n",
    "        # If the predicted label is 2, return the BUSINESS label\n",
    "        elif x.label_pred_ssl == 2:\n",
    "            return BUSINESS\n",
    "        # If the predicted label is 3, return the SCI_TECH label\n",
    "        elif x.label_pred_ssl == 3:\n",
    "            return SCI_TECH\n",
    "    # If the score is less than 0.95, return ABSTAIN to indicate no label\n",
    "    else:\n",
    "        return ABSTAIN"
   ]
  },
  {
   "cell_type": "code",
   "execution_count": 37,
   "id": "3edb00ca",
   "metadata": {},
   "outputs": [
    {
     "data": {
      "text/plain": [
       "[LabelingFunction lf_regex_world_a, Preprocessors: [],\n",
       " LabelingFunction lf_regex_world_b, Preprocessors: [],\n",
       " LabelingFunction lf_regex_world_c, Preprocessors: [],\n",
       " LabelingFunction lf_regex_world_d, Preprocessors: [],\n",
       " LabelingFunction lf_regex_world_e, Preprocessors: [],\n",
       " LabelingFunction lf_regex_world_f, Preprocessors: [],\n",
       " LabelingFunction lf_regex_world_g, Preprocessors: [],\n",
       " LabelingFunction lf_regex_world_h, Preprocessors: [],\n",
       " LabelingFunction lf_regex_world_i, Preprocessors: [],\n",
       " LabelingFunction lf_regex_world_j, Preprocessors: [],\n",
       " LabelingFunction lf_regex_world_k, Preprocessors: [],\n",
       " LabelingFunction lf_regex_world_l, Preprocessors: [],\n",
       " LabelingFunction lf_regex_world_m, Preprocessors: [],\n",
       " LabelingFunction lf_regex_world_n, Preprocessors: [],\n",
       " LabelingFunction lf_regex_world_o, Preprocessors: [],\n",
       " LabelingFunction lf_regex_world_p, Preprocessors: [],\n",
       " LabelingFunction lf_regex_world_q, Preprocessors: [],\n",
       " LabelingFunction lf_regex_world_r, Preprocessors: [],\n",
       " LabelingFunction lf_regex_world_s, Preprocessors: [],\n",
       " LabelingFunction lf_regex_world_t, Preprocessors: [],\n",
       " LabelingFunction lf_regex_world_u, Preprocessors: [],\n",
       " LabelingFunction lf_regex_world_v, Preprocessors: [],\n",
       " LabelingFunction lf_regex_world_w, Preprocessors: [],\n",
       " LabelingFunction lf_regex_world_x, Preprocessors: [],\n",
       " LabelingFunction lf_regex_world_y, Preprocessors: [],\n",
       " LabelingFunction lf_regex_world_z, Preprocessors: [],\n",
       " LabelingFunction lf_regex_world_aa, Preprocessors: [],\n",
       " LabelingFunction lf_regex_world_ab, Preprocessors: [],\n",
       " LabelingFunction lf_regex_world_ac, Preprocessors: [],\n",
       " LabelingFunction lf_regex_sport_a, Preprocessors: [],\n",
       " LabelingFunction lf_regex_sport_b, Preprocessors: [],\n",
       " LabelingFunction lf_regex_sport_c, Preprocessors: [],\n",
       " LabelingFunction lf_regex_sport_d, Preprocessors: [],\n",
       " LabelingFunction lf_regex_sport_e, Preprocessors: [],\n",
       " LabelingFunction lf_regex_sport_f, Preprocessors: [],\n",
       " LabelingFunction lf_regex_sport_g, Preprocessors: [],\n",
       " LabelingFunction lf_regex_sport_h, Preprocessors: [],\n",
       " LabelingFunction lf_regex_sport_i, Preprocessors: [],\n",
       " LabelingFunction lf_regex_business_a, Preprocessors: [],\n",
       " LabelingFunction lf_regex_business_b, Preprocessors: [],\n",
       " LabelingFunction lf_regex_business_c, Preprocessors: [],\n",
       " LabelingFunction lf_regex_business_d, Preprocessors: [],\n",
       " LabelingFunction lf_regex_business_e, Preprocessors: [],\n",
       " LabelingFunction lf_regex_business_f, Preprocessors: [],\n",
       " LabelingFunction lf_regex_business_g, Preprocessors: [],\n",
       " LabelingFunction lf_regex_business_h, Preprocessors: [],\n",
       " LabelingFunction lf_regex_business_i, Preprocessors: [],\n",
       " LabelingFunction lf_regex_business_j, Preprocessors: [],\n",
       " LabelingFunction lf_regex_business_k, Preprocessors: [],\n",
       " LabelingFunction lf_regex_business_l, Preprocessors: [],\n",
       " LabelingFunction lf_regex_sci_tech_a, Preprocessors: [],\n",
       " LabelingFunction lf_regex_sci_tech_b, Preprocessors: [],\n",
       " LabelingFunction lf_regex_sci_tech_c, Preprocessors: [],\n",
       " LabelingFunction lf_regex_sci_tech_d, Preprocessors: [],\n",
       " LabelingFunction lf_regex_sci_tech_e, Preprocessors: [],\n",
       " LabelingFunction lf_regex_sci_tech_f, Preprocessors: [],\n",
       " LabelingFunction lf_regex_sci_tech_g, Preprocessors: [],\n",
       " LabelingFunction lf_regex_sci_tech_h, Preprocessors: [],\n",
       " LabelingFunction lf_regex_sci_tech_i, Preprocessors: [],\n",
       " LabelingFunction lf_regex_sci_tech_j, Preprocessors: [],\n",
       " LabelingFunction lf_regex_sci_tech_k, Preprocessors: [],\n",
       " LabelingFunction lf_regex_sci_tech_l, Preprocessors: [],\n",
       " LabelingFunction lf_regex_sci_tech_m, Preprocessors: [],\n",
       " LabelingFunction lf_regex_sci_tech_n, Preprocessors: [],\n",
       " LabelingFunction lf_regex_sci_tech_o, Preprocessors: [],\n",
       " LabelingFunction lf_regex_sci_tech_p, Preprocessors: [],\n",
       " LabelingFunction lf_regex_sci_tech_q, Preprocessors: [],\n",
       " LabelingFunction lf_regex_sci_tech_r, Preprocessors: [],\n",
       " LabelingFunction lf_regex_sci_tech_s, Preprocessors: [],\n",
       " LabelingFunction lf_regex_sci_tech_t, Preprocessors: [],\n",
       " LabelingFunction lf_regex_sci_tech_u, Preprocessors: [],\n",
       " LabelingFunction lf_regex_sci_tech_v, Preprocessors: [],\n",
       " LabelingFunction lf_regex_sci_tech_w, Preprocessors: [],\n",
       " LabelingFunction lf_ssl, Preprocessors: [LambdaMapper semi_superv_classifier, Pre: []]]"
      ]
     },
     "execution_count": 37,
     "metadata": {},
     "output_type": "execute_result"
    }
   ],
   "source": [
    "# Redeclare the list of labeling functions to include the new one\n",
    "lfs = lfs_regex + [lf_ssl]\n",
    "\n",
    "lfs"
   ]
  },
  {
   "cell_type": "markdown",
   "id": "726bf9e8",
   "metadata": {},
   "source": [
    "### Applying Labels and Understanding Labels Coverage"
   ]
  },
  {
   "cell_type": "markdown",
   "id": "22644841",
   "metadata": {},
   "source": [
    "Once labeling functions (LFs) are defined, they are applied to unlabeled data to create a **label matrix**.\n",
    "\n",
    "__Labeling Function Performance Analysis__\n",
    "\n",
    "Analyzing the performance of each labeling function (LF) is a crucial step for refining and improving your weak supervision pipeline. This process includes:\n",
    "\n",
    "- Understanding the coverage of each labeling function  \n",
    "- Minimizing conflicts between labeling functions  \n",
    "- Identifying which functions are making accurate vs. incorrect labels  \n",
    "- Visualizing conflicts across labeling functions  "
   ]
  },
  {
   "cell_type": "code",
   "execution_count": 38,
   "id": "79af1deb",
   "metadata": {},
   "outputs": [
    {
     "name": "stderr",
     "output_type": "stream",
     "text": [
      "100%|██████████| 94840/94840 [32:29<00:00, 48.66it/s]\n"
     ]
    }
   ],
   "source": [
    "from snorkel.labeling import PandasLFApplier\n",
    "\n",
    "# Create the applier\n",
    "applier = PandasLFApplier(lfs=lfs)\n",
    "\n",
    "# Apply labeling functions to the DataFrame\n",
    "L_train = applier.apply(df=df_train)"
   ]
  },
  {
   "cell_type": "code",
   "execution_count": 39,
   "id": "0b3ef0ba",
   "metadata": {},
   "outputs": [
    {
     "data": {
      "text/plain": [
       "array([[-1, -1, -1, ..., -1, -1, -1],\n",
       "       [-1, -1, -1, ..., -1, -1,  1],\n",
       "       [-1,  0, -1, ..., -1, -1,  0],\n",
       "       ...,\n",
       "       [-1, -1, -1, ..., -1, -1,  2],\n",
       "       [-1, -1, -1, ..., -1, -1, -1],\n",
       "       [-1, -1, -1, ..., -1, -1, -1]], shape=(94840, 74))"
      ]
     },
     "execution_count": 39,
     "metadata": {},
     "output_type": "execute_result"
    }
   ],
   "source": [
    "L_train"
   ]
  },
  {
   "cell_type": "code",
   "execution_count": 40,
   "id": "ccd9a706",
   "metadata": {},
   "outputs": [
    {
     "data": {
      "text/plain": [
       "(94840, 74)"
      ]
     },
     "execution_count": 40,
     "metadata": {},
     "output_type": "execute_result"
    }
   ],
   "source": [
    "L_train.shape"
   ]
  },
  {
   "cell_type": "code",
   "execution_count": 41,
   "id": "86bb83ce",
   "metadata": {},
   "outputs": [
    {
     "name": "stdout",
     "output_type": "stream",
     "text": [
      "LF lf_regex_world_a coverage: 3.41 %\n",
      "LF lf_regex_world_b coverage: 2.96 %\n",
      "LF lf_regex_world_c coverage: 0.35 %\n",
      "LF lf_regex_world_d coverage: 0.90 %\n",
      "LF lf_regex_world_e coverage: 2.08 %\n",
      "LF lf_regex_world_f coverage: 1.29 %\n",
      "LF lf_regex_world_g coverage: 0.19 %\n",
      "LF lf_regex_world_h coverage: 2.53 %\n",
      "LF lf_regex_world_i coverage: 0.92 %\n",
      "LF lf_regex_world_j coverage: 0.15 %\n",
      "LF lf_regex_world_k coverage: 0.86 %\n",
      "LF lf_regex_world_l coverage: 0.17 %\n",
      "LF lf_regex_world_m coverage: 0.18 %\n",
      "LF lf_regex_world_n coverage: 0.92 %\n",
      "LF lf_regex_world_o coverage: 0.59 %\n",
      "LF lf_regex_world_p coverage: 1.13 %\n",
      "LF lf_regex_world_q coverage: 0.44 %\n",
      "LF lf_regex_world_r coverage: 0.61 %\n",
      "LF lf_regex_world_s coverage: 0.63 %\n",
      "LF lf_regex_world_t coverage: 1.17 %\n",
      "LF lf_regex_world_u coverage: 0.02 %\n",
      "LF lf_regex_world_v coverage: 1.91 %\n",
      "LF lf_regex_world_w coverage: 5.38 %\n",
      "LF lf_regex_world_x coverage: 3.95 %\n",
      "LF lf_regex_world_y coverage: 0.45 %\n",
      "LF lf_regex_world_z coverage: 0.32 %\n",
      "LF lf_regex_world_aa coverage: 0.56 %\n",
      "LF lf_regex_world_ab coverage: 0.18 %\n",
      "LF lf_regex_world_ac coverage: 1.36 %\n",
      "LF lf_regex_sport_a coverage: 6.53 %\n",
      "LF lf_regex_sport_b coverage: 2.26 %\n",
      "LF lf_regex_sport_c coverage: 7.32 %\n",
      "LF lf_regex_sport_d coverage: 8.04 %\n",
      "LF lf_regex_sport_e coverage: 0.12 %\n",
      "LF lf_regex_sport_f coverage: 2.20 %\n",
      "LF lf_regex_sport_g coverage: 2.95 %\n",
      "LF lf_regex_sport_h coverage: 0.27 %\n",
      "LF lf_regex_sport_i coverage: 0.00 %\n",
      "LF lf_regex_business_a coverage: 26.80 %\n",
      "LF lf_regex_business_b coverage: 4.99 %\n",
      "LF lf_regex_business_c coverage: 3.27 %\n",
      "LF lf_regex_business_d coverage: 2.18 %\n",
      "LF lf_regex_business_e coverage: 2.43 %\n",
      "LF lf_regex_business_f coverage: 0.64 %\n",
      "LF lf_regex_business_g coverage: 0.00 %\n",
      "LF lf_regex_business_h coverage: 13.06 %\n",
      "LF lf_regex_business_i coverage: 2.16 %\n",
      "LF lf_regex_business_j coverage: 2.10 %\n",
      "LF lf_regex_business_k coverage: 0.94 %\n",
      "LF lf_regex_business_l coverage: 4.53 %\n",
      "LF lf_regex_sci_tech_a coverage: 0.84 %\n",
      "LF lf_regex_sci_tech_b coverage: 1.95 %\n",
      "LF lf_regex_sci_tech_c coverage: 1.17 %\n",
      "LF lf_regex_sci_tech_d coverage: 0.38 %\n",
      "LF lf_regex_sci_tech_e coverage: 1.66 %\n",
      "LF lf_regex_sci_tech_f coverage: 0.01 %\n",
      "LF lf_regex_sci_tech_g coverage: 1.79 %\n",
      "LF lf_regex_sci_tech_h coverage: 0.52 %\n",
      "LF lf_regex_sci_tech_i coverage: 0.48 %\n",
      "LF lf_regex_sci_tech_j coverage: 0.26 %\n",
      "LF lf_regex_sci_tech_k coverage: 0.03 %\n",
      "LF lf_regex_sci_tech_l coverage: 4.24 %\n",
      "LF lf_regex_sci_tech_m coverage: 8.48 %\n",
      "LF lf_regex_sci_tech_n coverage: 0.04 %\n",
      "LF lf_regex_sci_tech_o coverage: 4.78 %\n",
      "LF lf_regex_sci_tech_p coverage: 1.78 %\n",
      "LF lf_regex_sci_tech_q coverage: 1.04 %\n",
      "LF lf_regex_sci_tech_r coverage: 0.86 %\n",
      "LF lf_regex_sci_tech_s coverage: 3.87 %\n",
      "LF lf_regex_sci_tech_t coverage: 10.28 %\n",
      "LF lf_regex_sci_tech_u coverage: 2.35 %\n",
      "LF lf_regex_sci_tech_v coverage: 0.58 %\n",
      "LF lf_regex_sci_tech_w coverage: 0.09 %\n",
      "LF lf_ssl coverage: 53.50 %\n"
     ]
    }
   ],
   "source": [
    "# Calculate the coverage of each labeling function\n",
    "# Coverage is the proportion of data points that a labeling function labels (i.e., does not abstain)\n",
    "# (L_train != ABSTAIN) creates a boolean matrix where True indicates a non-abstain label\n",
    "# .mean(axis=0) calculates the mean (coverage) for each labeling function across all data points\n",
    "coverage = (L_train != ABSTAIN).mean(axis=0)\n",
    "\n",
    "# Print the coverage of each labeling function\n",
    "# This helps us understand how often each labeling function is providing a label\n",
    "\n",
    "for i in range(L_train.shape[1]):\n",
    "    print(f\"LF {lfs[i].name} coverage: {coverage[i] * 100:.2f} %\")"
   ]
  },
  {
   "cell_type": "code",
   "execution_count": 42,
   "id": "cc44165c",
   "metadata": {},
   "outputs": [
    {
     "data": {
      "text/html": [
       "<div>\n",
       "<style scoped>\n",
       "    .dataframe tbody tr th:only-of-type {\n",
       "        vertical-align: middle;\n",
       "    }\n",
       "\n",
       "    .dataframe tbody tr th {\n",
       "        vertical-align: top;\n",
       "    }\n",
       "\n",
       "    .dataframe thead th {\n",
       "        text-align: right;\n",
       "    }\n",
       "</style>\n",
       "<table border=\"1\" class=\"dataframe\">\n",
       "  <thead>\n",
       "    <tr style=\"text-align: right;\">\n",
       "      <th></th>\n",
       "      <th>j</th>\n",
       "      <th>Polarity</th>\n",
       "      <th>Coverage</th>\n",
       "      <th>Overlaps</th>\n",
       "      <th>Conflicts</th>\n",
       "    </tr>\n",
       "  </thead>\n",
       "  <tbody>\n",
       "    <tr>\n",
       "      <th>lf_regex_world_a</th>\n",
       "      <td>0</td>\n",
       "      <td>[0]</td>\n",
       "      <td>0.034142</td>\n",
       "      <td>0.028258</td>\n",
       "      <td>0.022016</td>\n",
       "    </tr>\n",
       "    <tr>\n",
       "      <th>lf_regex_world_b</th>\n",
       "      <td>1</td>\n",
       "      <td>[0]</td>\n",
       "      <td>0.029555</td>\n",
       "      <td>0.026898</td>\n",
       "      <td>0.008182</td>\n",
       "    </tr>\n",
       "    <tr>\n",
       "      <th>lf_regex_world_c</th>\n",
       "      <td>2</td>\n",
       "      <td>[0]</td>\n",
       "      <td>0.003501</td>\n",
       "      <td>0.003279</td>\n",
       "      <td>0.001107</td>\n",
       "    </tr>\n",
       "    <tr>\n",
       "      <th>lf_regex_world_d</th>\n",
       "      <td>3</td>\n",
       "      <td>[0]</td>\n",
       "      <td>0.008962</td>\n",
       "      <td>0.008330</td>\n",
       "      <td>0.004597</td>\n",
       "    </tr>\n",
       "    <tr>\n",
       "      <th>lf_regex_world_e</th>\n",
       "      <td>4</td>\n",
       "      <td>[0]</td>\n",
       "      <td>0.020814</td>\n",
       "      <td>0.020561</td>\n",
       "      <td>0.006527</td>\n",
       "    </tr>\n",
       "    <tr>\n",
       "      <th>...</th>\n",
       "      <td>...</td>\n",
       "      <td>...</td>\n",
       "      <td>...</td>\n",
       "      <td>...</td>\n",
       "      <td>...</td>\n",
       "    </tr>\n",
       "    <tr>\n",
       "      <th>lf_regex_sci_tech_t</th>\n",
       "      <td>69</td>\n",
       "      <td>[3]</td>\n",
       "      <td>0.102826</td>\n",
       "      <td>0.099452</td>\n",
       "      <td>0.070603</td>\n",
       "    </tr>\n",
       "    <tr>\n",
       "      <th>lf_regex_sci_tech_u</th>\n",
       "      <td>70</td>\n",
       "      <td>[3]</td>\n",
       "      <td>0.023534</td>\n",
       "      <td>0.023060</td>\n",
       "      <td>0.013043</td>\n",
       "    </tr>\n",
       "    <tr>\n",
       "      <th>lf_regex_sci_tech_v</th>\n",
       "      <td>71</td>\n",
       "      <td>[3]</td>\n",
       "      <td>0.005810</td>\n",
       "      <td>0.005567</td>\n",
       "      <td>0.003827</td>\n",
       "    </tr>\n",
       "    <tr>\n",
       "      <th>lf_regex_sci_tech_w</th>\n",
       "      <td>72</td>\n",
       "      <td>[3]</td>\n",
       "      <td>0.000896</td>\n",
       "      <td>0.000896</td>\n",
       "      <td>0.000801</td>\n",
       "    </tr>\n",
       "    <tr>\n",
       "      <th>lf_ssl</th>\n",
       "      <td>73</td>\n",
       "      <td>[0, 1, 2, 3]</td>\n",
       "      <td>0.535027</td>\n",
       "      <td>0.446120</td>\n",
       "      <td>0.186936</td>\n",
       "    </tr>\n",
       "  </tbody>\n",
       "</table>\n",
       "<p>74 rows × 5 columns</p>\n",
       "</div>"
      ],
      "text/plain": [
       "                      j      Polarity  Coverage  Overlaps  Conflicts\n",
       "lf_regex_world_a      0           [0]  0.034142  0.028258   0.022016\n",
       "lf_regex_world_b      1           [0]  0.029555  0.026898   0.008182\n",
       "lf_regex_world_c      2           [0]  0.003501  0.003279   0.001107\n",
       "lf_regex_world_d      3           [0]  0.008962  0.008330   0.004597\n",
       "lf_regex_world_e      4           [0]  0.020814  0.020561   0.006527\n",
       "...                  ..           ...       ...       ...        ...\n",
       "lf_regex_sci_tech_t  69           [3]  0.102826  0.099452   0.070603\n",
       "lf_regex_sci_tech_u  70           [3]  0.023534  0.023060   0.013043\n",
       "lf_regex_sci_tech_v  71           [3]  0.005810  0.005567   0.003827\n",
       "lf_regex_sci_tech_w  72           [3]  0.000896  0.000896   0.000801\n",
       "lf_ssl               73  [0, 1, 2, 3]  0.535027  0.446120   0.186936\n",
       "\n",
       "[74 rows x 5 columns]"
      ]
     },
     "execution_count": 42,
     "metadata": {},
     "output_type": "execute_result"
    }
   ],
   "source": [
    "from snorkel.labeling import LFAnalysis\n",
    "\n",
    "LFAnalysis(L=L_train, lfs=lfs).lf_summary()"
   ]
  },
  {
   "cell_type": "code",
   "execution_count": 43,
   "id": "041c5470",
   "metadata": {},
   "outputs": [
    {
     "data": {
      "text/plain": [
       "np.float64(0.9162800506115563)"
      ]
     },
     "execution_count": 43,
     "metadata": {},
     "output_type": "execute_result"
    }
   ],
   "source": [
    "LFAnalysis(L=L_train, lfs=lfs).label_coverage()"
   ]
  },
  {
   "cell_type": "code",
   "execution_count": 44,
   "id": "3577134d",
   "metadata": {},
   "outputs": [
    {
     "data": {
      "text/plain": [
       "np.float64(0.3453922395613665)"
      ]
     },
     "execution_count": 44,
     "metadata": {},
     "output_type": "execute_result"
    }
   ],
   "source": [
    "LFAnalysis(L=L_train, lfs=lfs).label_conflict()"
   ]
  },
  {
   "cell_type": "code",
   "execution_count": 45,
   "id": "c63378d2",
   "metadata": {},
   "outputs": [
    {
     "name": "stderr",
     "output_type": "stream",
     "text": [
      "100%|██████████| 11856/11856 [04:03<00:00, 48.70it/s]\n"
     ]
    }
   ],
   "source": [
    "L_dev = applier.apply(df=df_dev)"
   ]
  },
  {
   "cell_type": "code",
   "execution_count": 46,
   "id": "5fbd398c",
   "metadata": {},
   "outputs": [
    {
     "data": {
      "text/plain": [
       "(11856, 74)"
      ]
     },
     "execution_count": 46,
     "metadata": {},
     "output_type": "execute_result"
    }
   ],
   "source": [
    "L_dev.shape  # The label matrix (L_dev) has 400 data points (rows) and 11 labeling functions (columns)."
   ]
  },
  {
   "cell_type": "code",
   "execution_count": 47,
   "id": "a14e7e83",
   "metadata": {},
   "outputs": [
    {
     "data": {
      "text/html": [
       "<div>\n",
       "<style scoped>\n",
       "    .dataframe tbody tr th:only-of-type {\n",
       "        vertical-align: middle;\n",
       "    }\n",
       "\n",
       "    .dataframe tbody tr th {\n",
       "        vertical-align: top;\n",
       "    }\n",
       "\n",
       "    .dataframe thead th {\n",
       "        text-align: right;\n",
       "    }\n",
       "</style>\n",
       "<table border=\"1\" class=\"dataframe\">\n",
       "  <thead>\n",
       "    <tr style=\"text-align: right;\">\n",
       "      <th></th>\n",
       "      <th>Labeling Function</th>\n",
       "      <th>Coverage</th>\n",
       "    </tr>\n",
       "  </thead>\n",
       "  <tbody>\n",
       "    <tr>\n",
       "      <th>0</th>\n",
       "      <td>lf_ssl</td>\n",
       "      <td>0.535027</td>\n",
       "    </tr>\n",
       "    <tr>\n",
       "      <th>1</th>\n",
       "      <td>lf_regex_business_a</td>\n",
       "      <td>0.268041</td>\n",
       "    </tr>\n",
       "    <tr>\n",
       "      <th>2</th>\n",
       "      <td>lf_regex_business_h</td>\n",
       "      <td>0.130631</td>\n",
       "    </tr>\n",
       "    <tr>\n",
       "      <th>3</th>\n",
       "      <td>lf_regex_sci_tech_t</td>\n",
       "      <td>0.102826</td>\n",
       "    </tr>\n",
       "    <tr>\n",
       "      <th>4</th>\n",
       "      <td>lf_regex_sci_tech_m</td>\n",
       "      <td>0.084827</td>\n",
       "    </tr>\n",
       "    <tr>\n",
       "      <th>...</th>\n",
       "      <td>...</td>\n",
       "      <td>...</td>\n",
       "    </tr>\n",
       "    <tr>\n",
       "      <th>69</th>\n",
       "      <td>lf_regex_sci_tech_k</td>\n",
       "      <td>0.000274</td>\n",
       "    </tr>\n",
       "    <tr>\n",
       "      <th>70</th>\n",
       "      <td>lf_regex_world_u</td>\n",
       "      <td>0.000190</td>\n",
       "    </tr>\n",
       "    <tr>\n",
       "      <th>71</th>\n",
       "      <td>lf_regex_sci_tech_f</td>\n",
       "      <td>0.000053</td>\n",
       "    </tr>\n",
       "    <tr>\n",
       "      <th>72</th>\n",
       "      <td>lf_regex_sport_i</td>\n",
       "      <td>0.000000</td>\n",
       "    </tr>\n",
       "    <tr>\n",
       "      <th>73</th>\n",
       "      <td>lf_regex_business_g</td>\n",
       "      <td>0.000000</td>\n",
       "    </tr>\n",
       "  </tbody>\n",
       "</table>\n",
       "<p>74 rows × 2 columns</p>\n",
       "</div>"
      ],
      "text/plain": [
       "      Labeling Function  Coverage\n",
       "0                lf_ssl  0.535027\n",
       "1   lf_regex_business_a  0.268041\n",
       "2   lf_regex_business_h  0.130631\n",
       "3   lf_regex_sci_tech_t  0.102826\n",
       "4   lf_regex_sci_tech_m  0.084827\n",
       "..                  ...       ...\n",
       "69  lf_regex_sci_tech_k  0.000274\n",
       "70     lf_regex_world_u  0.000190\n",
       "71  lf_regex_sci_tech_f  0.000053\n",
       "72     lf_regex_sport_i  0.000000\n",
       "73  lf_regex_business_g  0.000000\n",
       "\n",
       "[74 rows x 2 columns]"
      ]
     },
     "execution_count": 47,
     "metadata": {},
     "output_type": "execute_result"
    }
   ],
   "source": [
    "import helpers.plot\n",
    "\n",
    "# Compute the overlap matrix for the labeling functions and labeled data\n",
    "results = helpers.plot.plot_coverage_overlap(\n",
    "    labeling_functions=lfs,\n",
    "    label_matrix=L_train,\n",
    "    colorscale=\"Reds\",\n",
    "    show_values=True,\n",
    "    sort_by_coverage=True,\n",
    ")\n",
    "\n",
    "results[\"coverage\"]"
   ]
  },
  {
   "cell_type": "code",
   "execution_count": 48,
   "id": "39471a8c",
   "metadata": {},
   "outputs": [
    {
     "data": {
      "text/html": [
       "<div>\n",
       "<style scoped>\n",
       "    .dataframe tbody tr th:only-of-type {\n",
       "        vertical-align: middle;\n",
       "    }\n",
       "\n",
       "    .dataframe tbody tr th {\n",
       "        vertical-align: top;\n",
       "    }\n",
       "\n",
       "    .dataframe thead th {\n",
       "        text-align: right;\n",
       "    }\n",
       "</style>\n",
       "<table border=\"1\" class=\"dataframe\">\n",
       "  <thead>\n",
       "    <tr style=\"text-align: right;\">\n",
       "      <th></th>\n",
       "      <th>j</th>\n",
       "      <th>Polarity</th>\n",
       "      <th>Coverage</th>\n",
       "      <th>Overlaps</th>\n",
       "      <th>Conflicts</th>\n",
       "      <th>Correct</th>\n",
       "      <th>Incorrect</th>\n",
       "      <th>Emp. Acc.</th>\n",
       "    </tr>\n",
       "  </thead>\n",
       "  <tbody>\n",
       "    <tr>\n",
       "      <th>lf_regex_world_a</th>\n",
       "      <td>0</td>\n",
       "      <td>[0]</td>\n",
       "      <td>0.034244</td>\n",
       "      <td>0.034244</td>\n",
       "      <td>0.025978</td>\n",
       "      <td>134</td>\n",
       "      <td>272</td>\n",
       "      <td>0.330049</td>\n",
       "    </tr>\n",
       "    <tr>\n",
       "      <th>lf_regex_world_b</th>\n",
       "      <td>1</td>\n",
       "      <td>[0]</td>\n",
       "      <td>0.029774</td>\n",
       "      <td>0.029774</td>\n",
       "      <td>0.007507</td>\n",
       "      <td>335</td>\n",
       "      <td>18</td>\n",
       "      <td>0.949008</td>\n",
       "    </tr>\n",
       "    <tr>\n",
       "      <th>lf_regex_world_c</th>\n",
       "      <td>2</td>\n",
       "      <td>[0]</td>\n",
       "      <td>0.003458</td>\n",
       "      <td>0.003458</td>\n",
       "      <td>0.000928</td>\n",
       "      <td>38</td>\n",
       "      <td>3</td>\n",
       "      <td>0.926829</td>\n",
       "    </tr>\n",
       "    <tr>\n",
       "      <th>lf_regex_world_d</th>\n",
       "      <td>3</td>\n",
       "      <td>[0]</td>\n",
       "      <td>0.010121</td>\n",
       "      <td>0.010121</td>\n",
       "      <td>0.005989</td>\n",
       "      <td>77</td>\n",
       "      <td>43</td>\n",
       "      <td>0.641667</td>\n",
       "    </tr>\n",
       "    <tr>\n",
       "      <th>lf_regex_world_e</th>\n",
       "      <td>4</td>\n",
       "      <td>[0]</td>\n",
       "      <td>0.020749</td>\n",
       "      <td>0.020749</td>\n",
       "      <td>0.006410</td>\n",
       "      <td>236</td>\n",
       "      <td>10</td>\n",
       "      <td>0.959350</td>\n",
       "    </tr>\n",
       "    <tr>\n",
       "      <th>...</th>\n",
       "      <td>...</td>\n",
       "      <td>...</td>\n",
       "      <td>...</td>\n",
       "      <td>...</td>\n",
       "      <td>...</td>\n",
       "      <td>...</td>\n",
       "      <td>...</td>\n",
       "      <td>...</td>\n",
       "    </tr>\n",
       "    <tr>\n",
       "      <th>lf_regex_sci_tech_t</th>\n",
       "      <td>69</td>\n",
       "      <td>[3]</td>\n",
       "      <td>0.102227</td>\n",
       "      <td>0.102227</td>\n",
       "      <td>0.074140</td>\n",
       "      <td>919</td>\n",
       "      <td>293</td>\n",
       "      <td>0.758251</td>\n",
       "    </tr>\n",
       "    <tr>\n",
       "      <th>lf_regex_sci_tech_u</th>\n",
       "      <td>70</td>\n",
       "      <td>[3]</td>\n",
       "      <td>0.023026</td>\n",
       "      <td>0.023026</td>\n",
       "      <td>0.013074</td>\n",
       "      <td>243</td>\n",
       "      <td>30</td>\n",
       "      <td>0.890110</td>\n",
       "    </tr>\n",
       "    <tr>\n",
       "      <th>lf_regex_sci_tech_v</th>\n",
       "      <td>71</td>\n",
       "      <td>[3]</td>\n",
       "      <td>0.007254</td>\n",
       "      <td>0.007254</td>\n",
       "      <td>0.005145</td>\n",
       "      <td>72</td>\n",
       "      <td>14</td>\n",
       "      <td>0.837209</td>\n",
       "    </tr>\n",
       "    <tr>\n",
       "      <th>lf_regex_sci_tech_w</th>\n",
       "      <td>72</td>\n",
       "      <td>[3]</td>\n",
       "      <td>0.001181</td>\n",
       "      <td>0.001181</td>\n",
       "      <td>0.001012</td>\n",
       "      <td>9</td>\n",
       "      <td>5</td>\n",
       "      <td>0.642857</td>\n",
       "    </tr>\n",
       "    <tr>\n",
       "      <th>lf_ssl</th>\n",
       "      <td>73</td>\n",
       "      <td>[0, 1, 2, 3]</td>\n",
       "      <td>0.999831</td>\n",
       "      <td>0.829960</td>\n",
       "      <td>0.411184</td>\n",
       "      <td>11854</td>\n",
       "      <td>0</td>\n",
       "      <td>1.000000</td>\n",
       "    </tr>\n",
       "  </tbody>\n",
       "</table>\n",
       "<p>74 rows × 8 columns</p>\n",
       "</div>"
      ],
      "text/plain": [
       "                      j      Polarity  Coverage  Overlaps  Conflicts  Correct  \\\n",
       "lf_regex_world_a      0           [0]  0.034244  0.034244   0.025978      134   \n",
       "lf_regex_world_b      1           [0]  0.029774  0.029774   0.007507      335   \n",
       "lf_regex_world_c      2           [0]  0.003458  0.003458   0.000928       38   \n",
       "lf_regex_world_d      3           [0]  0.010121  0.010121   0.005989       77   \n",
       "lf_regex_world_e      4           [0]  0.020749  0.020749   0.006410      236   \n",
       "...                  ..           ...       ...       ...        ...      ...   \n",
       "lf_regex_sci_tech_t  69           [3]  0.102227  0.102227   0.074140      919   \n",
       "lf_regex_sci_tech_u  70           [3]  0.023026  0.023026   0.013074      243   \n",
       "lf_regex_sci_tech_v  71           [3]  0.007254  0.007254   0.005145       72   \n",
       "lf_regex_sci_tech_w  72           [3]  0.001181  0.001181   0.001012        9   \n",
       "lf_ssl               73  [0, 1, 2, 3]  0.999831  0.829960   0.411184    11854   \n",
       "\n",
       "                     Incorrect  Emp. Acc.  \n",
       "lf_regex_world_a           272   0.330049  \n",
       "lf_regex_world_b            18   0.949008  \n",
       "lf_regex_world_c             3   0.926829  \n",
       "lf_regex_world_d            43   0.641667  \n",
       "lf_regex_world_e            10   0.959350  \n",
       "...                        ...        ...  \n",
       "lf_regex_sci_tech_t        293   0.758251  \n",
       "lf_regex_sci_tech_u         30   0.890110  \n",
       "lf_regex_sci_tech_v         14   0.837209  \n",
       "lf_regex_sci_tech_w          5   0.642857  \n",
       "lf_ssl                       0   1.000000  \n",
       "\n",
       "[74 rows x 8 columns]"
      ]
     },
     "execution_count": 48,
     "metadata": {},
     "output_type": "execute_result"
    }
   ],
   "source": [
    "# Perform labeling function analysis using LFAnalysis\n",
    "# LFAnalysis provides metrics such as coverage, accuracy, and conflict for each labeling function\n",
    "# L_dev is the label matrix for the development set\n",
    "# lfs is the list of labeling functions\n",
    "# df_dev.label.values are the true labels for the development set\n",
    "lf_summary = LFAnalysis(L=L_dev, lfs=lfs).lf_summary(Y=df_dev.label.values)\n",
    "\n",
    "# Display the summary of the labeling functions' performance\n",
    "# The summary includes metrics like coverage, accuracy, and conflict\n",
    "lf_summary"
   ]
  },
  {
   "cell_type": "code",
   "execution_count": 49,
   "id": "bcdd3187",
   "metadata": {},
   "outputs": [
    {
     "data": {
      "text/html": [
       "<div>\n",
       "<style scoped>\n",
       "    .dataframe tbody tr th:only-of-type {\n",
       "        vertical-align: middle;\n",
       "    }\n",
       "\n",
       "    .dataframe tbody tr th {\n",
       "        vertical-align: top;\n",
       "    }\n",
       "\n",
       "    .dataframe thead th {\n",
       "        text-align: right;\n",
       "    }\n",
       "</style>\n",
       "<table border=\"1\" class=\"dataframe\">\n",
       "  <thead>\n",
       "    <tr style=\"text-align: right;\">\n",
       "      <th></th>\n",
       "      <th>lf_regex_world_a</th>\n",
       "      <th>lf_regex_world_b</th>\n",
       "      <th>lf_regex_world_c</th>\n",
       "      <th>lf_regex_world_d</th>\n",
       "      <th>lf_regex_world_e</th>\n",
       "      <th>lf_regex_world_f</th>\n",
       "      <th>lf_regex_world_g</th>\n",
       "      <th>lf_regex_world_h</th>\n",
       "      <th>lf_regex_world_i</th>\n",
       "      <th>lf_regex_world_j</th>\n",
       "      <th>...</th>\n",
       "      <th>lf_regex_sci_tech_o</th>\n",
       "      <th>lf_regex_sci_tech_p</th>\n",
       "      <th>lf_regex_sci_tech_q</th>\n",
       "      <th>lf_regex_sci_tech_r</th>\n",
       "      <th>lf_regex_sci_tech_s</th>\n",
       "      <th>lf_regex_sci_tech_t</th>\n",
       "      <th>lf_regex_sci_tech_u</th>\n",
       "      <th>lf_regex_sci_tech_v</th>\n",
       "      <th>lf_regex_sci_tech_w</th>\n",
       "      <th>lf_ssl</th>\n",
       "    </tr>\n",
       "  </thead>\n",
       "  <tbody>\n",
       "    <tr>\n",
       "      <th>lf_regex_world_a</th>\n",
       "      <td>0.000000</td>\n",
       "      <td>0.000000</td>\n",
       "      <td>0.000000</td>\n",
       "      <td>0.000000</td>\n",
       "      <td>0.000000</td>\n",
       "      <td>0.000000</td>\n",
       "      <td>0.000000</td>\n",
       "      <td>0.000000</td>\n",
       "      <td>0.000000</td>\n",
       "      <td>0.000000</td>\n",
       "      <td>...</td>\n",
       "      <td>0.001033</td>\n",
       "      <td>0.000422</td>\n",
       "      <td>0.000063</td>\n",
       "      <td>0.000063</td>\n",
       "      <td>0.000590</td>\n",
       "      <td>0.002604</td>\n",
       "      <td>0.000295</td>\n",
       "      <td>0.000485</td>\n",
       "      <td>0.000000</td>\n",
       "      <td>0.005747</td>\n",
       "    </tr>\n",
       "    <tr>\n",
       "      <th>lf_regex_world_b</th>\n",
       "      <td>0.000000</td>\n",
       "      <td>0.000000</td>\n",
       "      <td>0.000000</td>\n",
       "      <td>0.000000</td>\n",
       "      <td>0.000000</td>\n",
       "      <td>0.000000</td>\n",
       "      <td>0.000000</td>\n",
       "      <td>0.000000</td>\n",
       "      <td>0.000000</td>\n",
       "      <td>0.000000</td>\n",
       "      <td>...</td>\n",
       "      <td>0.000053</td>\n",
       "      <td>0.000105</td>\n",
       "      <td>0.000011</td>\n",
       "      <td>0.000042</td>\n",
       "      <td>0.000021</td>\n",
       "      <td>0.000169</td>\n",
       "      <td>0.000084</td>\n",
       "      <td>0.000011</td>\n",
       "      <td>0.000000</td>\n",
       "      <td>0.000474</td>\n",
       "    </tr>\n",
       "    <tr>\n",
       "      <th>lf_regex_world_c</th>\n",
       "      <td>0.000000</td>\n",
       "      <td>0.000000</td>\n",
       "      <td>0.000000</td>\n",
       "      <td>0.000000</td>\n",
       "      <td>0.000000</td>\n",
       "      <td>0.000000</td>\n",
       "      <td>0.000000</td>\n",
       "      <td>0.000000</td>\n",
       "      <td>0.000000</td>\n",
       "      <td>0.000000</td>\n",
       "      <td>...</td>\n",
       "      <td>0.000000</td>\n",
       "      <td>0.000032</td>\n",
       "      <td>0.000000</td>\n",
       "      <td>0.000000</td>\n",
       "      <td>0.000000</td>\n",
       "      <td>0.000021</td>\n",
       "      <td>0.000074</td>\n",
       "      <td>0.000000</td>\n",
       "      <td>0.000000</td>\n",
       "      <td>0.000042</td>\n",
       "    </tr>\n",
       "    <tr>\n",
       "      <th>lf_regex_world_d</th>\n",
       "      <td>0.000000</td>\n",
       "      <td>0.000000</td>\n",
       "      <td>0.000000</td>\n",
       "      <td>0.000000</td>\n",
       "      <td>0.000000</td>\n",
       "      <td>0.000000</td>\n",
       "      <td>0.000000</td>\n",
       "      <td>0.000000</td>\n",
       "      <td>0.000000</td>\n",
       "      <td>0.000000</td>\n",
       "      <td>...</td>\n",
       "      <td>0.000095</td>\n",
       "      <td>0.000053</td>\n",
       "      <td>0.000011</td>\n",
       "      <td>0.000011</td>\n",
       "      <td>0.000253</td>\n",
       "      <td>0.000401</td>\n",
       "      <td>0.000011</td>\n",
       "      <td>0.000000</td>\n",
       "      <td>0.000021</td>\n",
       "      <td>0.000422</td>\n",
       "    </tr>\n",
       "    <tr>\n",
       "      <th>lf_regex_world_e</th>\n",
       "      <td>0.000000</td>\n",
       "      <td>0.000000</td>\n",
       "      <td>0.000000</td>\n",
       "      <td>0.000000</td>\n",
       "      <td>0.000000</td>\n",
       "      <td>0.000000</td>\n",
       "      <td>0.000000</td>\n",
       "      <td>0.000000</td>\n",
       "      <td>0.000000</td>\n",
       "      <td>0.000000</td>\n",
       "      <td>...</td>\n",
       "      <td>0.000053</td>\n",
       "      <td>0.000032</td>\n",
       "      <td>0.000000</td>\n",
       "      <td>0.000011</td>\n",
       "      <td>0.000063</td>\n",
       "      <td>0.000137</td>\n",
       "      <td>0.000011</td>\n",
       "      <td>0.000011</td>\n",
       "      <td>0.000011</td>\n",
       "      <td>0.000190</td>\n",
       "    </tr>\n",
       "    <tr>\n",
       "      <th>...</th>\n",
       "      <td>...</td>\n",
       "      <td>...</td>\n",
       "      <td>...</td>\n",
       "      <td>...</td>\n",
       "      <td>...</td>\n",
       "      <td>...</td>\n",
       "      <td>...</td>\n",
       "      <td>...</td>\n",
       "      <td>...</td>\n",
       "      <td>...</td>\n",
       "      <td>...</td>\n",
       "      <td>...</td>\n",
       "      <td>...</td>\n",
       "      <td>...</td>\n",
       "      <td>...</td>\n",
       "      <td>...</td>\n",
       "      <td>...</td>\n",
       "      <td>...</td>\n",
       "      <td>...</td>\n",
       "      <td>...</td>\n",
       "      <td>...</td>\n",
       "    </tr>\n",
       "    <tr>\n",
       "      <th>lf_regex_sci_tech_t</th>\n",
       "      <td>0.002604</td>\n",
       "      <td>0.000169</td>\n",
       "      <td>0.000021</td>\n",
       "      <td>0.000401</td>\n",
       "      <td>0.000137</td>\n",
       "      <td>0.000200</td>\n",
       "      <td>0.000011</td>\n",
       "      <td>0.000179</td>\n",
       "      <td>0.000148</td>\n",
       "      <td>0.000000</td>\n",
       "      <td>...</td>\n",
       "      <td>0.000000</td>\n",
       "      <td>0.000000</td>\n",
       "      <td>0.000000</td>\n",
       "      <td>0.000000</td>\n",
       "      <td>0.000000</td>\n",
       "      <td>0.000000</td>\n",
       "      <td>0.000000</td>\n",
       "      <td>0.000000</td>\n",
       "      <td>0.000000</td>\n",
       "      <td>0.009722</td>\n",
       "    </tr>\n",
       "    <tr>\n",
       "      <th>lf_regex_sci_tech_u</th>\n",
       "      <td>0.000295</td>\n",
       "      <td>0.000084</td>\n",
       "      <td>0.000074</td>\n",
       "      <td>0.000011</td>\n",
       "      <td>0.000011</td>\n",
       "      <td>0.000042</td>\n",
       "      <td>0.000000</td>\n",
       "      <td>0.000053</td>\n",
       "      <td>0.000053</td>\n",
       "      <td>0.000000</td>\n",
       "      <td>...</td>\n",
       "      <td>0.000000</td>\n",
       "      <td>0.000000</td>\n",
       "      <td>0.000000</td>\n",
       "      <td>0.000000</td>\n",
       "      <td>0.000000</td>\n",
       "      <td>0.000000</td>\n",
       "      <td>0.000000</td>\n",
       "      <td>0.000000</td>\n",
       "      <td>0.000000</td>\n",
       "      <td>0.000411</td>\n",
       "    </tr>\n",
       "    <tr>\n",
       "      <th>lf_regex_sci_tech_v</th>\n",
       "      <td>0.000485</td>\n",
       "      <td>0.000011</td>\n",
       "      <td>0.000000</td>\n",
       "      <td>0.000000</td>\n",
       "      <td>0.000011</td>\n",
       "      <td>0.000053</td>\n",
       "      <td>0.000000</td>\n",
       "      <td>0.000011</td>\n",
       "      <td>0.000011</td>\n",
       "      <td>0.000000</td>\n",
       "      <td>...</td>\n",
       "      <td>0.000000</td>\n",
       "      <td>0.000000</td>\n",
       "      <td>0.000000</td>\n",
       "      <td>0.000000</td>\n",
       "      <td>0.000000</td>\n",
       "      <td>0.000000</td>\n",
       "      <td>0.000000</td>\n",
       "      <td>0.000000</td>\n",
       "      <td>0.000000</td>\n",
       "      <td>0.000179</td>\n",
       "    </tr>\n",
       "    <tr>\n",
       "      <th>lf_regex_sci_tech_w</th>\n",
       "      <td>0.000000</td>\n",
       "      <td>0.000000</td>\n",
       "      <td>0.000000</td>\n",
       "      <td>0.000021</td>\n",
       "      <td>0.000011</td>\n",
       "      <td>0.000000</td>\n",
       "      <td>0.000000</td>\n",
       "      <td>0.000011</td>\n",
       "      <td>0.000000</td>\n",
       "      <td>0.000000</td>\n",
       "      <td>...</td>\n",
       "      <td>0.000000</td>\n",
       "      <td>0.000000</td>\n",
       "      <td>0.000000</td>\n",
       "      <td>0.000000</td>\n",
       "      <td>0.000000</td>\n",
       "      <td>0.000000</td>\n",
       "      <td>0.000000</td>\n",
       "      <td>0.000000</td>\n",
       "      <td>0.000000</td>\n",
       "      <td>0.000169</td>\n",
       "    </tr>\n",
       "    <tr>\n",
       "      <th>lf_ssl</th>\n",
       "      <td>0.005747</td>\n",
       "      <td>0.000474</td>\n",
       "      <td>0.000042</td>\n",
       "      <td>0.000422</td>\n",
       "      <td>0.000190</td>\n",
       "      <td>0.000559</td>\n",
       "      <td>0.000000</td>\n",
       "      <td>0.001318</td>\n",
       "      <td>0.000517</td>\n",
       "      <td>0.000042</td>\n",
       "      <td>...</td>\n",
       "      <td>0.004850</td>\n",
       "      <td>0.001455</td>\n",
       "      <td>0.000316</td>\n",
       "      <td>0.001086</td>\n",
       "      <td>0.006316</td>\n",
       "      <td>0.009722</td>\n",
       "      <td>0.000411</td>\n",
       "      <td>0.000179</td>\n",
       "      <td>0.000169</td>\n",
       "      <td>0.000000</td>\n",
       "    </tr>\n",
       "  </tbody>\n",
       "</table>\n",
       "<p>74 rows × 74 columns</p>\n",
       "</div>"
      ],
      "text/plain": [
       "                     lf_regex_world_a  lf_regex_world_b  lf_regex_world_c  \\\n",
       "lf_regex_world_a             0.000000          0.000000          0.000000   \n",
       "lf_regex_world_b             0.000000          0.000000          0.000000   \n",
       "lf_regex_world_c             0.000000          0.000000          0.000000   \n",
       "lf_regex_world_d             0.000000          0.000000          0.000000   \n",
       "lf_regex_world_e             0.000000          0.000000          0.000000   \n",
       "...                               ...               ...               ...   \n",
       "lf_regex_sci_tech_t          0.002604          0.000169          0.000021   \n",
       "lf_regex_sci_tech_u          0.000295          0.000084          0.000074   \n",
       "lf_regex_sci_tech_v          0.000485          0.000011          0.000000   \n",
       "lf_regex_sci_tech_w          0.000000          0.000000          0.000000   \n",
       "lf_ssl                       0.005747          0.000474          0.000042   \n",
       "\n",
       "                     lf_regex_world_d  lf_regex_world_e  lf_regex_world_f  \\\n",
       "lf_regex_world_a             0.000000          0.000000          0.000000   \n",
       "lf_regex_world_b             0.000000          0.000000          0.000000   \n",
       "lf_regex_world_c             0.000000          0.000000          0.000000   \n",
       "lf_regex_world_d             0.000000          0.000000          0.000000   \n",
       "lf_regex_world_e             0.000000          0.000000          0.000000   \n",
       "...                               ...               ...               ...   \n",
       "lf_regex_sci_tech_t          0.000401          0.000137          0.000200   \n",
       "lf_regex_sci_tech_u          0.000011          0.000011          0.000042   \n",
       "lf_regex_sci_tech_v          0.000000          0.000011          0.000053   \n",
       "lf_regex_sci_tech_w          0.000021          0.000011          0.000000   \n",
       "lf_ssl                       0.000422          0.000190          0.000559   \n",
       "\n",
       "                     lf_regex_world_g  lf_regex_world_h  lf_regex_world_i  \\\n",
       "lf_regex_world_a             0.000000          0.000000          0.000000   \n",
       "lf_regex_world_b             0.000000          0.000000          0.000000   \n",
       "lf_regex_world_c             0.000000          0.000000          0.000000   \n",
       "lf_regex_world_d             0.000000          0.000000          0.000000   \n",
       "lf_regex_world_e             0.000000          0.000000          0.000000   \n",
       "...                               ...               ...               ...   \n",
       "lf_regex_sci_tech_t          0.000011          0.000179          0.000148   \n",
       "lf_regex_sci_tech_u          0.000000          0.000053          0.000053   \n",
       "lf_regex_sci_tech_v          0.000000          0.000011          0.000011   \n",
       "lf_regex_sci_tech_w          0.000000          0.000011          0.000000   \n",
       "lf_ssl                       0.000000          0.001318          0.000517   \n",
       "\n",
       "                     lf_regex_world_j  ...  lf_regex_sci_tech_o  \\\n",
       "lf_regex_world_a             0.000000  ...             0.001033   \n",
       "lf_regex_world_b             0.000000  ...             0.000053   \n",
       "lf_regex_world_c             0.000000  ...             0.000000   \n",
       "lf_regex_world_d             0.000000  ...             0.000095   \n",
       "lf_regex_world_e             0.000000  ...             0.000053   \n",
       "...                               ...  ...                  ...   \n",
       "lf_regex_sci_tech_t          0.000000  ...             0.000000   \n",
       "lf_regex_sci_tech_u          0.000000  ...             0.000000   \n",
       "lf_regex_sci_tech_v          0.000000  ...             0.000000   \n",
       "lf_regex_sci_tech_w          0.000000  ...             0.000000   \n",
       "lf_ssl                       0.000042  ...             0.004850   \n",
       "\n",
       "                     lf_regex_sci_tech_p  lf_regex_sci_tech_q  \\\n",
       "lf_regex_world_a                0.000422             0.000063   \n",
       "lf_regex_world_b                0.000105             0.000011   \n",
       "lf_regex_world_c                0.000032             0.000000   \n",
       "lf_regex_world_d                0.000053             0.000011   \n",
       "lf_regex_world_e                0.000032             0.000000   \n",
       "...                                  ...                  ...   \n",
       "lf_regex_sci_tech_t             0.000000             0.000000   \n",
       "lf_regex_sci_tech_u             0.000000             0.000000   \n",
       "lf_regex_sci_tech_v             0.000000             0.000000   \n",
       "lf_regex_sci_tech_w             0.000000             0.000000   \n",
       "lf_ssl                          0.001455             0.000316   \n",
       "\n",
       "                     lf_regex_sci_tech_r  lf_regex_sci_tech_s  \\\n",
       "lf_regex_world_a                0.000063             0.000590   \n",
       "lf_regex_world_b                0.000042             0.000021   \n",
       "lf_regex_world_c                0.000000             0.000000   \n",
       "lf_regex_world_d                0.000011             0.000253   \n",
       "lf_regex_world_e                0.000011             0.000063   \n",
       "...                                  ...                  ...   \n",
       "lf_regex_sci_tech_t             0.000000             0.000000   \n",
       "lf_regex_sci_tech_u             0.000000             0.000000   \n",
       "lf_regex_sci_tech_v             0.000000             0.000000   \n",
       "lf_regex_sci_tech_w             0.000000             0.000000   \n",
       "lf_ssl                          0.001086             0.006316   \n",
       "\n",
       "                     lf_regex_sci_tech_t  lf_regex_sci_tech_u  \\\n",
       "lf_regex_world_a                0.002604             0.000295   \n",
       "lf_regex_world_b                0.000169             0.000084   \n",
       "lf_regex_world_c                0.000021             0.000074   \n",
       "lf_regex_world_d                0.000401             0.000011   \n",
       "lf_regex_world_e                0.000137             0.000011   \n",
       "...                                  ...                  ...   \n",
       "lf_regex_sci_tech_t             0.000000             0.000000   \n",
       "lf_regex_sci_tech_u             0.000000             0.000000   \n",
       "lf_regex_sci_tech_v             0.000000             0.000000   \n",
       "lf_regex_sci_tech_w             0.000000             0.000000   \n",
       "lf_ssl                          0.009722             0.000411   \n",
       "\n",
       "                     lf_regex_sci_tech_v  lf_regex_sci_tech_w    lf_ssl  \n",
       "lf_regex_world_a                0.000485             0.000000  0.005747  \n",
       "lf_regex_world_b                0.000011             0.000000  0.000474  \n",
       "lf_regex_world_c                0.000000             0.000000  0.000042  \n",
       "lf_regex_world_d                0.000000             0.000021  0.000422  \n",
       "lf_regex_world_e                0.000011             0.000011  0.000190  \n",
       "...                                  ...                  ...       ...  \n",
       "lf_regex_sci_tech_t             0.000000             0.000000  0.009722  \n",
       "lf_regex_sci_tech_u             0.000000             0.000000  0.000411  \n",
       "lf_regex_sci_tech_v             0.000000             0.000000  0.000179  \n",
       "lf_regex_sci_tech_w             0.000000             0.000000  0.000169  \n",
       "lf_ssl                          0.000179             0.000169  0.000000  \n",
       "\n",
       "[74 rows x 74 columns]"
      ]
     },
     "execution_count": 49,
     "metadata": {},
     "output_type": "execute_result"
    }
   ],
   "source": [
    "import helpers\n",
    "\n",
    "# Compute the conflict matrix for the labeling functions and labeled data\n",
    "# lfs is the list of labeling functions\n",
    "# L_train is the label matrix for the training set\n",
    "conflict_matrix_df = helpers.lf.compute_pairwise_conflict_matrix(labeling_functions=lfs, label_matrix=L_train)\n",
    "\n",
    "# Display the conflict matrix DataFrame\n",
    "conflict_matrix_df"
   ]
  },
  {
   "cell_type": "code",
   "execution_count": 50,
   "id": "9e6e11a0",
   "metadata": {},
   "outputs": [
    {
     "data": {
      "application/vnd.plotly.v1+json": {
       "config": {
        "plotlyServerURL": "https://plot.ly"
       },
       "data": [
        {
         "hovertemplate": "Labeling Function=%{x}<br>Total Conflicts=%{marker.color}<extra></extra>",
         "legendgroup": "",
         "marker": {
          "color": {
           "bdata": "sIXfHwRv1T+A1t1xaQPOP/fQ3SCSH8Y/noZ6Sknivz9AdqTAqUW6PycNsTcDJbI/sHVq4oW4sT8ZLBp8Y6+qPxeVeNCWyKk/BFWxVPK2qD+TimE1KCanPy6LPcITg6Y/591k7641pj8oXfpqerWkP8JX4CX6QKE/tPgNty3VoD8YLxVlGRicP4LkNk4GZJg/xbAaFJMLmD/Q4akrxqmWPycWovIkX5Y/9oOP1tD3lD+x1rYDbKqUP6afMRrNOpM/A0nFsBoUkz/iqSvGqZaRP5ISHFRnAZE/K39RHjzgkD8HuGqunWaQP9hDJqxkFo0/AjNaoTCMjD8avcVVxMSIP/NbQlGj+4U/Kz7vd1JbhT9YnMhqoSOCPxvZJjcaHoI/oXHuwjNtgT9Y4yDj9nmAP6RCbpKNXH4/XpWVvygPfj9+e4ci7+J9P4EJOBOaj3o/rwGummuneT9WgGeJS8p4P5ZrVkIAzHc/XtABlKbCdj/kSb4smLd2Pxix2bHsIXM/vi+ToMxEcj9zwNCzt6twP8Z/LasnPXA/X+xidfwbcD/oZR8O7hBwPxGYIuJoyW8/dUr4CrxEbz/7/iB4K+1nPyFUuNh0E2U/7ScJKJ5cYT8w9OztKgRhP5TdpVFVH1s/fShDBsLpWT++oeKvIZhVPyFUuNh0E1U/TGs5U26FUz8RmCLiaMlPP+9e7GJ1/Es/qOx/ZI5iRD8shUfwp7FDP8sltuOBLzg/eYK6zWf3IT9a7wyHzhwWP1rvDIfOHPY+AAAAAAAAAAAAAAAAAAAAAA==",
           "dtype": "f8"
          },
          "coloraxis": "coloraxis",
          "pattern": {
           "shape": ""
          }
         },
         "name": "",
         "orientation": "v",
         "showlegend": false,
         "textposition": "auto",
         "type": "bar",
         "x": [
          "lf_regex_business_a",
          "lf_ssl",
          "lf_regex_business_h",
          "lf_regex_sci_tech_t",
          "lf_regex_sci_tech_m",
          "lf_regex_sport_d",
          "lf_regex_business_l",
          "lf_regex_sci_tech_o",
          "lf_regex_sci_tech_s",
          "lf_regex_sci_tech_l",
          "lf_regex_world_a",
          "lf_regex_world_x",
          "lf_regex_world_w",
          "lf_regex_sport_c",
          "lf_regex_sport_a",
          "lf_regex_business_b",
          "lf_regex_business_d",
          "lf_regex_business_e",
          "lf_regex_business_j",
          "lf_regex_sci_tech_e",
          "lf_regex_sci_tech_b",
          "lf_regex_business_i",
          "lf_regex_business_c",
          "lf_regex_world_ac",
          "lf_regex_sci_tech_u",
          "lf_regex_sci_tech_p",
          "lf_regex_sport_g",
          "lf_regex_sci_tech_g",
          "lf_regex_world_h",
          "lf_regex_sport_f",
          "lf_regex_world_p",
          "lf_regex_sci_tech_c",
          "lf_regex_sci_tech_q",
          "lf_regex_world_b",
          "lf_regex_world_e",
          "lf_regex_world_v",
          "lf_regex_sci_tech_r",
          "lf_regex_world_k",
          "lf_regex_world_i",
          "lf_regex_sport_b",
          "lf_regex_world_d",
          "lf_regex_world_f",
          "lf_regex_world_aa",
          "lf_regex_sci_tech_v",
          "lf_regex_world_n",
          "lf_regex_sci_tech_i",
          "lf_regex_world_o",
          "lf_regex_business_k",
          "lf_regex_sci_tech_h",
          "lf_regex_world_q",
          "lf_regex_world_s",
          "lf_regex_business_f",
          "lf_regex_world_t",
          "lf_regex_sci_tech_a",
          "lf_regex_world_r",
          "lf_regex_world_z",
          "lf_regex_world_y",
          "lf_regex_sci_tech_d",
          "lf_regex_world_ab",
          "lf_regex_sci_tech_w",
          "lf_regex_sci_tech_j",
          "lf_regex_world_m",
          "lf_regex_world_c",
          "lf_regex_sport_h",
          "lf_regex_world_l",
          "lf_regex_world_j",
          "lf_regex_world_g",
          "lf_regex_sci_tech_n",
          "lf_regex_sport_e",
          "lf_regex_world_u",
          "lf_regex_sci_tech_k",
          "lf_regex_sci_tech_f",
          "lf_regex_sport_i",
          "lf_regex_business_g"
         ],
         "xaxis": "x",
         "y": {
          "bdata": "sIXfHwRv1T+A1t1xaQPOP/fQ3SCSH8Y/noZ6Sknivz9AdqTAqUW6PycNsTcDJbI/sHVq4oW4sT8ZLBp8Y6+qPxeVeNCWyKk/BFWxVPK2qD+TimE1KCanPy6LPcITg6Y/591k7641pj8oXfpqerWkP8JX4CX6QKE/tPgNty3VoD8YLxVlGRicP4LkNk4GZJg/xbAaFJMLmD/Q4akrxqmWPycWovIkX5Y/9oOP1tD3lD+x1rYDbKqUP6afMRrNOpM/A0nFsBoUkz/iqSvGqZaRP5ISHFRnAZE/K39RHjzgkD8HuGqunWaQP9hDJqxkFo0/AjNaoTCMjD8avcVVxMSIP/NbQlGj+4U/Kz7vd1JbhT9YnMhqoSOCPxvZJjcaHoI/oXHuwjNtgT9Y4yDj9nmAP6RCbpKNXH4/XpWVvygPfj9+e4ci7+J9P4EJOBOaj3o/rwGummuneT9WgGeJS8p4P5ZrVkIAzHc/XtABlKbCdj/kSb4smLd2Pxix2bHsIXM/vi+ToMxEcj9zwNCzt6twP8Z/LasnPXA/X+xidfwbcD/oZR8O7hBwPxGYIuJoyW8/dUr4CrxEbz/7/iB4K+1nPyFUuNh0E2U/7ScJKJ5cYT8w9OztKgRhP5TdpVFVH1s/fShDBsLpWT++oeKvIZhVPyFUuNh0E1U/TGs5U26FUz8RmCLiaMlPP+9e7GJ1/Es/qOx/ZI5iRD8shUfwp7FDP8sltuOBLzg/eYK6zWf3IT9a7wyHzhwWP1rvDIfOHPY+AAAAAAAAAAAAAAAAAAAAAA==",
          "dtype": "f8"
         },
         "yaxis": "y"
        }
       ],
       "layout": {
        "barmode": "relative",
        "coloraxis": {
         "colorbar": {
          "title": {
           "text": "Total Conflicts"
          }
         },
         "colorscale": [
          [
           0,
           "rgb(255,245,240)"
          ],
          [
           0.125,
           "rgb(254,224,210)"
          ],
          [
           0.25,
           "rgb(252,187,161)"
          ],
          [
           0.375,
           "rgb(252,146,114)"
          ],
          [
           0.5,
           "rgb(251,106,74)"
          ],
          [
           0.625,
           "rgb(239,59,44)"
          ],
          [
           0.75,
           "rgb(203,24,29)"
          ],
          [
           0.875,
           "rgb(165,15,21)"
          ],
          [
           1,
           "rgb(103,0,13)"
          ]
         ]
        },
        "legend": {
         "tracegroupgap": 0
        },
        "template": {
         "data": {
          "bar": [
           {
            "error_x": {
             "color": "#2a3f5f"
            },
            "error_y": {
             "color": "#2a3f5f"
            },
            "marker": {
             "line": {
              "color": "#E5ECF6",
              "width": 0.5
             },
             "pattern": {
              "fillmode": "overlay",
              "size": 10,
              "solidity": 0.2
             }
            },
            "type": "bar"
           }
          ],
          "barpolar": [
           {
            "marker": {
             "line": {
              "color": "#E5ECF6",
              "width": 0.5
             },
             "pattern": {
              "fillmode": "overlay",
              "size": 10,
              "solidity": 0.2
             }
            },
            "type": "barpolar"
           }
          ],
          "carpet": [
           {
            "aaxis": {
             "endlinecolor": "#2a3f5f",
             "gridcolor": "white",
             "linecolor": "white",
             "minorgridcolor": "white",
             "startlinecolor": "#2a3f5f"
            },
            "baxis": {
             "endlinecolor": "#2a3f5f",
             "gridcolor": "white",
             "linecolor": "white",
             "minorgridcolor": "white",
             "startlinecolor": "#2a3f5f"
            },
            "type": "carpet"
           }
          ],
          "choropleth": [
           {
            "colorbar": {
             "outlinewidth": 0,
             "ticks": ""
            },
            "type": "choropleth"
           }
          ],
          "contour": [
           {
            "colorbar": {
             "outlinewidth": 0,
             "ticks": ""
            },
            "colorscale": [
             [
              0,
              "#0d0887"
             ],
             [
              0.1111111111111111,
              "#46039f"
             ],
             [
              0.2222222222222222,
              "#7201a8"
             ],
             [
              0.3333333333333333,
              "#9c179e"
             ],
             [
              0.4444444444444444,
              "#bd3786"
             ],
             [
              0.5555555555555556,
              "#d8576b"
             ],
             [
              0.6666666666666666,
              "#ed7953"
             ],
             [
              0.7777777777777778,
              "#fb9f3a"
             ],
             [
              0.8888888888888888,
              "#fdca26"
             ],
             [
              1,
              "#f0f921"
             ]
            ],
            "type": "contour"
           }
          ],
          "contourcarpet": [
           {
            "colorbar": {
             "outlinewidth": 0,
             "ticks": ""
            },
            "type": "contourcarpet"
           }
          ],
          "heatmap": [
           {
            "colorbar": {
             "outlinewidth": 0,
             "ticks": ""
            },
            "colorscale": [
             [
              0,
              "#0d0887"
             ],
             [
              0.1111111111111111,
              "#46039f"
             ],
             [
              0.2222222222222222,
              "#7201a8"
             ],
             [
              0.3333333333333333,
              "#9c179e"
             ],
             [
              0.4444444444444444,
              "#bd3786"
             ],
             [
              0.5555555555555556,
              "#d8576b"
             ],
             [
              0.6666666666666666,
              "#ed7953"
             ],
             [
              0.7777777777777778,
              "#fb9f3a"
             ],
             [
              0.8888888888888888,
              "#fdca26"
             ],
             [
              1,
              "#f0f921"
             ]
            ],
            "type": "heatmap"
           }
          ],
          "histogram": [
           {
            "marker": {
             "pattern": {
              "fillmode": "overlay",
              "size": 10,
              "solidity": 0.2
             }
            },
            "type": "histogram"
           }
          ],
          "histogram2d": [
           {
            "colorbar": {
             "outlinewidth": 0,
             "ticks": ""
            },
            "colorscale": [
             [
              0,
              "#0d0887"
             ],
             [
              0.1111111111111111,
              "#46039f"
             ],
             [
              0.2222222222222222,
              "#7201a8"
             ],
             [
              0.3333333333333333,
              "#9c179e"
             ],
             [
              0.4444444444444444,
              "#bd3786"
             ],
             [
              0.5555555555555556,
              "#d8576b"
             ],
             [
              0.6666666666666666,
              "#ed7953"
             ],
             [
              0.7777777777777778,
              "#fb9f3a"
             ],
             [
              0.8888888888888888,
              "#fdca26"
             ],
             [
              1,
              "#f0f921"
             ]
            ],
            "type": "histogram2d"
           }
          ],
          "histogram2dcontour": [
           {
            "colorbar": {
             "outlinewidth": 0,
             "ticks": ""
            },
            "colorscale": [
             [
              0,
              "#0d0887"
             ],
             [
              0.1111111111111111,
              "#46039f"
             ],
             [
              0.2222222222222222,
              "#7201a8"
             ],
             [
              0.3333333333333333,
              "#9c179e"
             ],
             [
              0.4444444444444444,
              "#bd3786"
             ],
             [
              0.5555555555555556,
              "#d8576b"
             ],
             [
              0.6666666666666666,
              "#ed7953"
             ],
             [
              0.7777777777777778,
              "#fb9f3a"
             ],
             [
              0.8888888888888888,
              "#fdca26"
             ],
             [
              1,
              "#f0f921"
             ]
            ],
            "type": "histogram2dcontour"
           }
          ],
          "mesh3d": [
           {
            "colorbar": {
             "outlinewidth": 0,
             "ticks": ""
            },
            "type": "mesh3d"
           }
          ],
          "parcoords": [
           {
            "line": {
             "colorbar": {
              "outlinewidth": 0,
              "ticks": ""
             }
            },
            "type": "parcoords"
           }
          ],
          "pie": [
           {
            "automargin": true,
            "type": "pie"
           }
          ],
          "scatter": [
           {
            "fillpattern": {
             "fillmode": "overlay",
             "size": 10,
             "solidity": 0.2
            },
            "type": "scatter"
           }
          ],
          "scatter3d": [
           {
            "line": {
             "colorbar": {
              "outlinewidth": 0,
              "ticks": ""
             }
            },
            "marker": {
             "colorbar": {
              "outlinewidth": 0,
              "ticks": ""
             }
            },
            "type": "scatter3d"
           }
          ],
          "scattercarpet": [
           {
            "marker": {
             "colorbar": {
              "outlinewidth": 0,
              "ticks": ""
             }
            },
            "type": "scattercarpet"
           }
          ],
          "scattergeo": [
           {
            "marker": {
             "colorbar": {
              "outlinewidth": 0,
              "ticks": ""
             }
            },
            "type": "scattergeo"
           }
          ],
          "scattergl": [
           {
            "marker": {
             "colorbar": {
              "outlinewidth": 0,
              "ticks": ""
             }
            },
            "type": "scattergl"
           }
          ],
          "scattermap": [
           {
            "marker": {
             "colorbar": {
              "outlinewidth": 0,
              "ticks": ""
             }
            },
            "type": "scattermap"
           }
          ],
          "scattermapbox": [
           {
            "marker": {
             "colorbar": {
              "outlinewidth": 0,
              "ticks": ""
             }
            },
            "type": "scattermapbox"
           }
          ],
          "scatterpolar": [
           {
            "marker": {
             "colorbar": {
              "outlinewidth": 0,
              "ticks": ""
             }
            },
            "type": "scatterpolar"
           }
          ],
          "scatterpolargl": [
           {
            "marker": {
             "colorbar": {
              "outlinewidth": 0,
              "ticks": ""
             }
            },
            "type": "scatterpolargl"
           }
          ],
          "scatterternary": [
           {
            "marker": {
             "colorbar": {
              "outlinewidth": 0,
              "ticks": ""
             }
            },
            "type": "scatterternary"
           }
          ],
          "surface": [
           {
            "colorbar": {
             "outlinewidth": 0,
             "ticks": ""
            },
            "colorscale": [
             [
              0,
              "#0d0887"
             ],
             [
              0.1111111111111111,
              "#46039f"
             ],
             [
              0.2222222222222222,
              "#7201a8"
             ],
             [
              0.3333333333333333,
              "#9c179e"
             ],
             [
              0.4444444444444444,
              "#bd3786"
             ],
             [
              0.5555555555555556,
              "#d8576b"
             ],
             [
              0.6666666666666666,
              "#ed7953"
             ],
             [
              0.7777777777777778,
              "#fb9f3a"
             ],
             [
              0.8888888888888888,
              "#fdca26"
             ],
             [
              1,
              "#f0f921"
             ]
            ],
            "type": "surface"
           }
          ],
          "table": [
           {
            "cells": {
             "fill": {
              "color": "#EBF0F8"
             },
             "line": {
              "color": "white"
             }
            },
            "header": {
             "fill": {
              "color": "#C8D4E3"
             },
             "line": {
              "color": "white"
             }
            },
            "type": "table"
           }
          ]
         },
         "layout": {
          "annotationdefaults": {
           "arrowcolor": "#2a3f5f",
           "arrowhead": 0,
           "arrowwidth": 1
          },
          "autotypenumbers": "strict",
          "coloraxis": {
           "colorbar": {
            "outlinewidth": 0,
            "ticks": ""
           }
          },
          "colorscale": {
           "diverging": [
            [
             0,
             "#8e0152"
            ],
            [
             0.1,
             "#c51b7d"
            ],
            [
             0.2,
             "#de77ae"
            ],
            [
             0.3,
             "#f1b6da"
            ],
            [
             0.4,
             "#fde0ef"
            ],
            [
             0.5,
             "#f7f7f7"
            ],
            [
             0.6,
             "#e6f5d0"
            ],
            [
             0.7,
             "#b8e186"
            ],
            [
             0.8,
             "#7fbc41"
            ],
            [
             0.9,
             "#4d9221"
            ],
            [
             1,
             "#276419"
            ]
           ],
           "sequential": [
            [
             0,
             "#0d0887"
            ],
            [
             0.1111111111111111,
             "#46039f"
            ],
            [
             0.2222222222222222,
             "#7201a8"
            ],
            [
             0.3333333333333333,
             "#9c179e"
            ],
            [
             0.4444444444444444,
             "#bd3786"
            ],
            [
             0.5555555555555556,
             "#d8576b"
            ],
            [
             0.6666666666666666,
             "#ed7953"
            ],
            [
             0.7777777777777778,
             "#fb9f3a"
            ],
            [
             0.8888888888888888,
             "#fdca26"
            ],
            [
             1,
             "#f0f921"
            ]
           ],
           "sequentialminus": [
            [
             0,
             "#0d0887"
            ],
            [
             0.1111111111111111,
             "#46039f"
            ],
            [
             0.2222222222222222,
             "#7201a8"
            ],
            [
             0.3333333333333333,
             "#9c179e"
            ],
            [
             0.4444444444444444,
             "#bd3786"
            ],
            [
             0.5555555555555556,
             "#d8576b"
            ],
            [
             0.6666666666666666,
             "#ed7953"
            ],
            [
             0.7777777777777778,
             "#fb9f3a"
            ],
            [
             0.8888888888888888,
             "#fdca26"
            ],
            [
             1,
             "#f0f921"
            ]
           ]
          },
          "colorway": [
           "#636efa",
           "#EF553B",
           "#00cc96",
           "#ab63fa",
           "#FFA15A",
           "#19d3f3",
           "#FF6692",
           "#B6E880",
           "#FF97FF",
           "#FECB52"
          ],
          "font": {
           "color": "#2a3f5f"
          },
          "geo": {
           "bgcolor": "white",
           "lakecolor": "white",
           "landcolor": "#E5ECF6",
           "showlakes": true,
           "showland": true,
           "subunitcolor": "white"
          },
          "hoverlabel": {
           "align": "left"
          },
          "hovermode": "closest",
          "mapbox": {
           "style": "light"
          },
          "paper_bgcolor": "white",
          "plot_bgcolor": "#E5ECF6",
          "polar": {
           "angularaxis": {
            "gridcolor": "white",
            "linecolor": "white",
            "ticks": ""
           },
           "bgcolor": "#E5ECF6",
           "radialaxis": {
            "gridcolor": "white",
            "linecolor": "white",
            "ticks": ""
           }
          },
          "scene": {
           "xaxis": {
            "backgroundcolor": "#E5ECF6",
            "gridcolor": "white",
            "gridwidth": 2,
            "linecolor": "white",
            "showbackground": true,
            "ticks": "",
            "zerolinecolor": "white"
           },
           "yaxis": {
            "backgroundcolor": "#E5ECF6",
            "gridcolor": "white",
            "gridwidth": 2,
            "linecolor": "white",
            "showbackground": true,
            "ticks": "",
            "zerolinecolor": "white"
           },
           "zaxis": {
            "backgroundcolor": "#E5ECF6",
            "gridcolor": "white",
            "gridwidth": 2,
            "linecolor": "white",
            "showbackground": true,
            "ticks": "",
            "zerolinecolor": "white"
           }
          },
          "shapedefaults": {
           "line": {
            "color": "#2a3f5f"
           }
          },
          "ternary": {
           "aaxis": {
            "gridcolor": "white",
            "linecolor": "white",
            "ticks": ""
           },
           "baxis": {
            "gridcolor": "white",
            "linecolor": "white",
            "ticks": ""
           },
           "bgcolor": "#E5ECF6",
           "caxis": {
            "gridcolor": "white",
            "linecolor": "white",
            "ticks": ""
           }
          },
          "title": {
           "x": 0.05
          },
          "xaxis": {
           "automargin": true,
           "gridcolor": "white",
           "linecolor": "white",
           "ticks": "",
           "title": {
            "standoff": 15
           },
           "zerolinecolor": "white",
           "zerolinewidth": 2
          },
          "yaxis": {
           "automargin": true,
           "gridcolor": "white",
           "linecolor": "white",
           "ticks": "",
           "title": {
            "standoff": 15
           },
           "zerolinecolor": "white",
           "zerolinewidth": 2
          }
         }
        },
        "title": {
         "text": "Total Conflicts by Labeling Function"
        },
        "xaxis": {
         "anchor": "y",
         "domain": [
          0,
          1
         ],
         "tickangle": 45,
         "title": {
          "text": "Labeling Functions"
         }
        },
        "yaxis": {
         "anchor": "x",
         "domain": [
          0,
          1
         ],
         "title": {
          "text": "Total Conflict Score"
         }
        }
       }
      }
     },
     "metadata": {},
     "output_type": "display_data"
    }
   ],
   "source": [
    "helpers.plot.plot_conflict_matrix(conflict_matrix_df)[1]"
   ]
  },
  {
   "cell_type": "markdown",
   "id": "fc90c476",
   "metadata": {},
   "source": [
    "### Applying Majority Voting and Label Model"
   ]
  },
  {
   "cell_type": "markdown",
   "id": "98fbd4d5",
   "metadata": {},
   "source": [
    "1) Majority Voting Algorithm\n",
    "\n",
    "    The Majority Voting algorithm is a fundamental technique in weak supervision used to aggregate the outputs of multiple labeling functions (LFs) into a single, consolidated label. It is particularly useful when individual LFs may be noisy or inaccurate.\n",
    "\n",
    "    - Why It Matters\n",
    "        - **Noise Reduction**: By combining multiple weak signals, majority voting helps reduce label noise and increases reliability.\n",
    "        - **Conflict Handling**: In cases where labeling functions disagree, the algorithm chooses the most common label, mitigating the effect of incorrect or noisy LFs.\n",
    "        - **Unsupervised Baseline**: It serves as a simple, unsupervised baseline for evaluating the utility of label functions before introducing more complex probabilistic models.\n",
    "\n",
    "    - Mathematical Definition\n",
    "\n",
    "        Let $m$ labeling functions $\\lambda_1, \\lambda_2, \\dots, \\lambda_m$, each map a data point $x$ to a label in a set $\\mathcal{Y} \\cup \\{ \\emptyset \\}$, where $\\emptyset$ denotes an abstention (no vote).\n",
    "\n",
    "        For a given data point $x$, the **Majority Vote label** $\\hat{y}_{MV}(x)$ is defined as:\n",
    "\n",
    "        $$\n",
    "        \\hat{y}_{MV}(x) = \\arg\\max_{y \\in \\mathcal{Y}} \\sum_{i=1}^{m} \\mathbb{1}[\\lambda_i(x) = y]\n",
    "        $$\n",
    "\n",
    "        where:\n",
    "        - $\\mathbb{1}[\\cdot]$ is the indicator function, equal to 1 if the condition is true, 0 otherwise.\n",
    "        - Ties can be broken randomly or by a predefined rule.\n",
    "\n",
    "    - Practical Notes\n",
    "        - If all LFs abstain on a data point, majority voting returns an undefined result (commonly handled as `None` or skipped).\n",
    "        - This algorithm assumes equal trust in all LFs, which may not hold in practice — that’s where more advanced methods like Snorkel’s label model come in.\n",
    "\n",
    "2) Label Model\n",
    "\n",
    "    The **Label Model**, as implemented in Snorkel, is a probabilistic model that **learns the accuracies and correlations** of labeling functions without ground truth labels. It improves upon majority voting by:\n",
    "\n",
    "    - Why Use the Label Model\n",
    "        - **Weighting LFs by Accuracy**: The model estimates how trustworthy each LF is and weighs their votes accordingly.\n",
    "        - **Modeling Dependencies**: It accounts for correlation between LFs to avoid double-counting similar signals.\n",
    "        - **Probabilistic Labels**: Instead of hard labels, it outputs **label probabilities**, which can be used directly or thresholded for downstream tasks.\n",
    "    - Intuition\n",
    "        The Label Model estimates a generative model P(Λ∣Y) over the observed labels from LFs $ \\Lambda $, conditioned on the latent true label $ Y $. Using this, it infers $ P(Y | \\Lambda) $, the posterior over true labels."
   ]
  },
  {
   "cell_type": "code",
   "execution_count": 51,
   "id": "b4b82e91",
   "metadata": {},
   "outputs": [],
   "source": [
    "from snorkel.labeling.model import MajorityLabelVoter\n",
    "\n",
    "# Create a MajorityLabelVoter model with a specified cardinality (number of classes)\n",
    "# The cardinality is set to 5, which corresponds to the number of classes including abstain\n",
    "majority_model = MajorityLabelVoter(cardinality=5)\n",
    "\n",
    "# Fit the model to the label matrix (L_train) and the true labels (df_train.label.values)\n",
    "preds_train_majority_vote = majority_model.predict(L=L_train, tie_break_policy=\"random\")"
   ]
  },
  {
   "cell_type": "code",
   "execution_count": 52,
   "id": "3d805607",
   "metadata": {},
   "outputs": [
    {
     "data": {
      "text/plain": [
       "array([2, 1, 0, ..., 2, 2, 2], shape=(94840,))"
      ]
     },
     "execution_count": 52,
     "metadata": {},
     "output_type": "execute_result"
    }
   ],
   "source": [
    "# Display the first few rows of the dataset without labels\n",
    "preds_train_majority_vote"
   ]
  },
  {
   "cell_type": "code",
   "execution_count": 53,
   "id": "065eb823",
   "metadata": {},
   "outputs": [
    {
     "name": "stderr",
     "output_type": "stream",
     "text": [
      "INFO:root:Computing O...\n",
      "INFO:root:Estimating \\mu...\n",
      "  0%|          | 0/500 [00:00<?, ?epoch/s]INFO:root:[0 epochs]: TRAIN:[loss=0.055]\n",
      "  8%|▊         | 38/500 [00:00<00:01, 378.00epoch/s]INFO:root:[50 epochs]: TRAIN:[loss=0.008]\n",
      "INFO:root:[100 epochs]: TRAIN:[loss=0.004]\n",
      " 22%|██▏       | 111/500 [00:00<00:00, 584.31epoch/s]INFO:root:[150 epochs]: TRAIN:[loss=0.003]\n",
      " 38%|███▊      | 188/500 [00:00<00:00, 667.99epoch/s]INFO:root:[200 epochs]: TRAIN:[loss=0.003]\n",
      "INFO:root:[250 epochs]: TRAIN:[loss=0.002]\n",
      " 51%|█████     | 255/500 [00:00<00:00, 644.33epoch/s]INFO:root:[300 epochs]: TRAIN:[loss=0.002]\n",
      " 66%|██████▌   | 330/500 [00:00<00:00, 679.75epoch/s]INFO:root:[350 epochs]: TRAIN:[loss=0.002]\n",
      "INFO:root:[400 epochs]: TRAIN:[loss=0.002]\n",
      " 81%|████████▏ | 407/500 [00:00<00:00, 708.49epoch/s]INFO:root:[450 epochs]: TRAIN:[loss=0.002]\n",
      "100%|██████████| 500/500 [00:00<00:00, 681.66epoch/s]\n",
      "INFO:root:Finished Training\n"
     ]
    }
   ],
   "source": [
    "# Import the LabelModel class from Snorkel's labeling model module\n",
    "from snorkel.labeling.model import LabelModel\n",
    "\n",
    "# Calculate the class balance in the development set\n",
    "# np.bincount(y_dev) counts the number of occurrences of each class in y_dev\n",
    "# Dividing by len(y_dev) normalizes the counts to get the proportion of each class\n",
    "class_balance = np.bincount(y_dev) / len(y_dev)\n",
    "\n",
    "# Initialize a LabelModel with a cardinality of 2 (binary classification) and verbose output\n",
    "# cardinality=4 indicates the number of classes in the dataset excluding abstain\n",
    "# verbose=True enables detailed logging during the training process\n",
    "label_model = LabelModel(cardinality=4, verbose=True)\n",
    "\n",
    "# Fit the LabelModel using the label matrix L_train\n",
    "# L_train is a numpy array where each column corresponds to the output of a labeling function\n",
    "# n_epochs=500 specifies the number of training epochs\n",
    "# log_freq=50 specifies the frequency (in epochs) of logging the training progress\n",
    "# seed=271828 ensures reproducibility of the results\n",
    "# class_balance=class_balance provides the class balance information to the model. If not provided, it will assume uniform class distribution (i.e., equal class weights)\n",
    "label_model.fit(L_train=L_train, n_epochs=500, log_freq=50, seed=271828, class_balance=class_balance)"
   ]
  },
  {
   "cell_type": "code",
   "execution_count": 54,
   "id": "a2e03bf2",
   "metadata": {},
   "outputs": [
    {
     "name": "stdout",
     "output_type": "stream",
     "text": [
      "Classification report for majority model: \n",
      "              precision    recall  f1-score   support\n",
      "\n",
      "          -1       0.00      0.00      0.00         0\n",
      "           0       0.97      0.83      0.89      2950\n",
      "           1       0.99      0.88      0.93      2950\n",
      "           2       0.93      0.87      0.90      2998\n",
      "           3       0.97      0.82      0.89      2958\n",
      "\n",
      "    accuracy                           0.85     11856\n",
      "   macro avg       0.77      0.68      0.72     11856\n",
      "weighted avg       0.96      0.85      0.90     11856\n",
      "\n",
      "Number of abstains: 1404\n",
      "\n",
      "\n",
      "\n",
      "Classification report for label model: \n",
      "              precision    recall  f1-score   support\n",
      "\n",
      "           0       0.98      0.90      0.94      2950\n",
      "           1       0.97      0.95      0.96      2950\n",
      "           2       0.94      0.98      0.96      2998\n",
      "           3       0.92      0.97      0.95      2958\n",
      "\n",
      "    accuracy                           0.95     11856\n",
      "   macro avg       0.95      0.95      0.95     11856\n",
      "weighted avg       0.95      0.95      0.95     11856\n",
      "\n",
      "Number of abstains: 0\n"
     ]
    }
   ],
   "source": [
    "from sklearn.metrics import classification_report\n",
    "\n",
    "# Use the majority model to predict labels for the development set\n",
    "# L_dev is the label matrix for the development set\n",
    "# The majority model assigns the most common label among the labeling functions for each example\n",
    "majority_pred = majority_model.predict(L=L_dev)\n",
    "\n",
    "# Use the trained label model to predict labels for the development set\n",
    "# The label model combines the outputs of the labeling functions in a probabilistic manner\n",
    "snorkel_label_model_pred = label_model.predict(L=L_dev)\n",
    "\n",
    "# Print the classification report for the majority model\n",
    "# classification_report computes various metrics (e.g., precision, recall, F1-score) for the predicted labels\n",
    "# df_dev.label.values contains the true labels for the development set\n",
    "print(f\"Classification report for majority model: \\n{classification_report(df_dev.label.values, majority_pred, zero_division=0)}\")\n",
    "\n",
    "# Print the number of abstains (i.e., instances where the majority model did not make a prediction)\n",
    "# np.count_nonzero(majority_pred == -1) counts the number of -1 values in the predicted labels\n",
    "print(f\"Number of abstains: {np.count_nonzero(majority_pred == -1)}\")\n",
    "\n",
    "# Print an empty line for better readability between reports\n",
    "print(\"\\n\\n\")\n",
    "\n",
    "# Print the classification report for the label model\n",
    "# This report shows the performance of the label model on the development set\n",
    "print(f\"Classification report for label model: \\n{classification_report(df_dev.label.values, snorkel_label_model_pred)}\")\n",
    "\n",
    "# Print the number of abstains for the label model\n",
    "# This shows how often the label model did not make a prediction\n",
    "print(f\"Number of abstains: {np.count_nonzero(snorkel_label_model_pred == -1)}\")"
   ]
  },
  {
   "cell_type": "code",
   "execution_count": 55,
   "id": "d0261b87",
   "metadata": {},
   "outputs": [
    {
     "name": "stdout",
     "output_type": "stream",
     "text": [
      "lf_regex_world_a: 34.50%\n",
      "lf_regex_world_b: 100.00%\n",
      "lf_regex_world_c: 100.00%\n",
      "lf_regex_world_d: 85.79%\n",
      "lf_regex_world_e: 100.00%\n",
      "lf_regex_world_f: 94.07%\n",
      "lf_regex_world_g: 73.46%\n",
      "lf_regex_world_h: 93.06%\n",
      "lf_regex_world_i: 92.31%\n",
      "lf_regex_world_j: 100.00%\n",
      "lf_regex_world_k: 75.76%\n",
      "lf_regex_world_l: 87.32%\n",
      "lf_regex_world_m: 60.77%\n",
      "lf_regex_world_n: 79.12%\n",
      "lf_regex_world_o: 71.54%\n",
      "lf_regex_world_p: 51.82%\n",
      "lf_regex_world_q: 53.24%\n",
      "lf_regex_world_r: 100.00%\n",
      "lf_regex_world_s: 90.01%\n",
      "lf_regex_world_t: 100.00%\n",
      "lf_regex_world_u: 57.10%\n",
      "lf_regex_world_v: 100.00%\n",
      "lf_regex_world_w: 74.53%\n",
      "lf_regex_world_x: 69.94%\n",
      "lf_regex_world_y: 100.00%\n",
      "lf_regex_world_z: 39.68%\n",
      "lf_regex_world_aa: 44.74%\n",
      "lf_regex_world_ab: 46.91%\n",
      "lf_regex_world_ac: 22.66%\n",
      "lf_regex_sport_a: 83.12%\n",
      "lf_regex_sport_b: 100.00%\n",
      "lf_regex_sport_c: 97.98%\n",
      "lf_regex_sport_d: 78.79%\n",
      "lf_regex_sport_e: 100.00%\n",
      "lf_regex_sport_f: 88.47%\n",
      "lf_regex_sport_g: 96.02%\n",
      "lf_regex_sport_h: 100.00%\n",
      "lf_regex_sport_i: 100.00%\n",
      "lf_regex_business_a: 63.69%\n",
      "lf_regex_business_b: 100.00%\n",
      "lf_regex_business_c: 82.62%\n",
      "lf_regex_business_d: 49.91%\n",
      "lf_regex_business_e: 62.93%\n",
      "lf_regex_business_f: 100.00%\n",
      "lf_regex_business_g: 100.00%\n",
      "lf_regex_business_h: 54.61%\n",
      "lf_regex_business_i: 59.99%\n",
      "lf_regex_business_j: 48.27%\n",
      "lf_regex_business_k: 69.23%\n",
      "lf_regex_business_l: 35.98%\n",
      "lf_regex_sci_tech_a: 25.47%\n",
      "lf_regex_sci_tech_b: 19.54%\n",
      "lf_regex_sci_tech_c: 60.78%\n",
      "lf_regex_sci_tech_d: 32.68%\n",
      "lf_regex_sci_tech_e: 17.84%\n",
      "lf_regex_sci_tech_f: 40.07%\n",
      "lf_regex_sci_tech_g: 39.81%\n",
      "lf_regex_sci_tech_h: 30.82%\n",
      "lf_regex_sci_tech_i: 18.30%\n",
      "lf_regex_sci_tech_j: 33.61%\n",
      "lf_regex_sci_tech_k: 32.16%\n",
      "lf_regex_sci_tech_l: 100.00%\n",
      "lf_regex_sci_tech_m: 68.09%\n",
      "lf_regex_sci_tech_n: 87.51%\n",
      "lf_regex_sci_tech_o: 95.33%\n",
      "lf_regex_sci_tech_p: 83.22%\n",
      "lf_regex_sci_tech_q: 95.37%\n",
      "lf_regex_sci_tech_r: 77.03%\n",
      "lf_regex_sci_tech_s: 75.72%\n",
      "lf_regex_sci_tech_t: 93.73%\n",
      "lf_regex_sci_tech_u: 100.00%\n",
      "lf_regex_sci_tech_v: 80.60%\n",
      "lf_regex_sci_tech_w: 55.04%\n",
      "lf_ssl: 96.67%\n"
     ]
    },
    {
     "name": "stderr",
     "output_type": "stream",
     "text": [
      "/home/franklaercio/.cache/pypoetry/virtualenvs/weakly-labeled-news-ai--KQDVdkK-py3.12/lib/python3.12/site-packages/snorkel/labeling/model/label_model.py:387: RuntimeWarning:\n",
      "\n",
      "divide by zero encountered in divide\n",
      "\n"
     ]
    }
   ],
   "source": [
    "# Iterate over the labeling functions and their corresponding weights in the label model\n",
    "# This code is useful for understanding the contribution of each labeling function to the label model\n",
    "# It can be used to identify labeling functions that are particularly informative or noisy\n",
    "for name, weight in zip([lf.name for lf in lfs], label_model.get_weights()):\n",
    "    # Print the name of the labeling function and its weight as a percentage\n",
    "    # The weight indicates the importance of the labeling function in the label model\n",
    "    print(f\"{name}: {weight * 100:.2f}%\")"
   ]
  },
  {
   "cell_type": "code",
   "execution_count": 56,
   "id": "85b7fc3e",
   "metadata": {},
   "outputs": [
    {
     "name": "stdout",
     "output_type": "stream",
     "text": [
      "\n",
      "--- Analysis for Majority Model ---\n",
      "Number of abstains by Majority Model: 1404\n",
      "Number of correct predictions by Majority Model: 10076 / 11856\n",
      "Number of incorrect predictions by Majority Model: 1780 / 11856\n",
      "\n",
      "Details of incorrect predictions by Majority Model:\n",
      "\n",
      "Index: 0\n",
      "Predicted (Majority Model): -1, True: 0\n",
      "Text: arafat flying to paris for treatment ramallah  west bank   a medical team was flying palestinian leader yasser arafat to france early today for emergency treatment in the clearest sign yet that he is suffering from a severe but still unconfirmed illness that palestinian officials said yesterday could be life threatening \n",
      "------------------------------\n",
      "\n",
      "Index: 14\n",
      "Predicted (Majority Model): 3, True: 1\n",
      "Text: birdstone retires after injury elmont  ny  sports network    belmont stakes winner birdstone has been retired because of a bone chip in his left front ankle  the announcement was made on wednesday by the husband of owner marylou whitney \n",
      "------------------------------\n",
      "\n",
      "Index: 21\n",
      "Predicted (Majority Model): -1, True: 3\n",
      "Text: mpaa starts suing today the mpaa  motion picture association of america  announced today that it had filed an unspecified amount of lawsuits against people who trade movies using p p  peer to peer  programs \n",
      "------------------------------\n",
      "\n",
      "Index: 26\n",
      "Predicted (Majority Model): -1, True: 2\n",
      "Text: tivo  netflix team to deliver internet video on demand tivo and netflix said thursday that they plan to challenge cable operators and video retailers by launching a video on demand service in      that will deliver movies to consumers via the internet \n",
      "------------------------------\n",
      "\n",
      "Index: 33\n",
      "Predicted (Majority Model): -1, True: 2\n",
      "Text: merck chief is asked to testify a top republican lawmaker called wednesday for merck amp  company to answer questions about its withdrawn drug vioxx on nov     at the first congressional hearing to address the drug     s safety problems \n",
      "------------------------------\n",
      "\n",
      "Index: 37\n",
      "Predicted (Majority Model): -1, True: 1\n",
      "Text: auburn s tailback duo share spotlight  ap  ap   auburn tailbacks carnell williams and ronnie brown haven t joined in the rush to the heisman trophy \n",
      "------------------------------\n",
      "\n",
      "Index: 39\n",
      "Predicted (Majority Model): -1, True: 3\n",
      "Text: ancient mask   olympic  ring found in thracian tomb  reuters  reuters   a bulgarian archaeologist has unearthed an ancient gold mask and a ring featuring an  olympic  rower in what he called an unrivalled find in the study of classical antiquity \n",
      "------------------------------\n",
      "\n",
      "Index: 41\n",
      "Predicted (Majority Model): 2, True: 3\n",
      "Text: brief  ca expects loss on restructuring  settlement charges although computer associates met its sales forecast for its second quarter  it will post a loss for the period as it absorbs restructuring charges and the       million it agreed to pay in compensation for its accounting violations \n",
      "------------------------------\n",
      "\n",
      "Index: 46\n",
      "Predicted (Majority Model): -1, True: 3\n",
      "Text: ibm to pay      m to partially settle pension case ibm will take a       million charge this quarter to settle some claims and cap its liability on others in a long running class action fight over changes made to its pension plan in the     s \n",
      "------------------------------\n",
      "\n",
      "Index: 56\n",
      "Predicted (Majority Model): -1, True: 0\n",
      "Text: senegal draws up locust battle plan for west africa only a military style operation with bases across west africa can stop the worst locust invasion for    years destroying vital food supplies  senegal     s president abdoulaye wade said tuesday \n",
      "------------------------------\n",
      "... and 1770 more incorrect predictions not shown.\n"
     ]
    }
   ],
   "source": [
    "from helpers.plot import analyze_model_predictions\n",
    "\n",
    "analyze_model_predictions(\n",
    "    predictions=majority_pred,\n",
    "    true_labels=df_dev.label.values,\n",
    "    texts=df_dev.text.values,\n",
    "    model_name=\"Majority Model\"\n",
    ")"
   ]
  },
  {
   "cell_type": "code",
   "execution_count": 57,
   "id": "a6406734",
   "metadata": {},
   "outputs": [
    {
     "name": "stdout",
     "output_type": "stream",
     "text": [
      "\n",
      "--- Analysis for Snorkel Label Model ---\n",
      "Number of abstains by Snorkel Label Model: 0\n",
      "Number of correct predictions by Snorkel Label Model: 11297 / 11856\n",
      "Number of incorrect predictions by Snorkel Label Model: 559 / 11856\n",
      "\n",
      "Details of incorrect predictions by Snorkel Label Model:\n",
      "\n",
      "Index: 0\n",
      "Predicted (Snorkel Label Model): 1, True: 0\n",
      "Text: arafat flying to paris for treatment ramallah  west bank   a medical team was flying palestinian leader yasser arafat to france early today for emergency treatment in the clearest sign yet that he is suffering from a severe but still unconfirmed illness that palestinian officials said yesterday could be life threatening \n",
      "------------------------------\n",
      "\n",
      "Index: 14\n",
      "Predicted (Snorkel Label Model): 3, True: 1\n",
      "Text: birdstone retires after injury elmont  ny  sports network    belmont stakes winner birdstone has been retired because of a bone chip in his left front ankle  the announcement was made on wednesday by the husband of owner marylou whitney \n",
      "------------------------------\n",
      "\n",
      "Index: 40\n",
      "Predicted (Snorkel Label Model): 1, True: 0\n",
      "Text: harkin calls cheney comments  cowardly   ap  ap   sen  tom harkin pushed the name calling in the presidential race to a new level  calling vice president dick cheney a coward for not serving in vietnam and cowardly for his criticism of john kerry \n",
      "------------------------------\n",
      "\n",
      "Index: 41\n",
      "Predicted (Snorkel Label Model): 2, True: 3\n",
      "Text: brief  ca expects loss on restructuring  settlement charges although computer associates met its sales forecast for its second quarter  it will post a loss for the period as it absorbs restructuring charges and the       million it agreed to pay in compensation for its accounting violations \n",
      "------------------------------\n",
      "\n",
      "Index: 54\n",
      "Predicted (Snorkel Label Model): 3, True: 1\n",
      "Text: earnhardt wins extended race in phoenix avondale  arizona  ticker    amid darkness  rain and a series of late crashes  dale earnhardt jr  recorded an overtime victory in sunday     s nascar nextel cup checker auto parts     \n",
      "------------------------------\n",
      "\n",
      "Index: 68\n",
      "Predicted (Snorkel Label Model): 3, True: 0\n",
      "Text: fraudster jailed for      m net scam an australian man whose international email scam stripped a    million         million  from his victims has been jailed in a continuing global war against nigerian internet frauds \n",
      "------------------------------\n",
      "\n",
      "Index: 88\n",
      "Predicted (Snorkel Label Model): 3, True: 1\n",
      "Text: blair office condemns racist chanting amid calls for spain to play  lt b gt   lt  b gt  the british government led the condemnation thursday of the racist abuse directed by spanish fans at england     s black soccer players \n",
      "------------------------------\n",
      "\n",
      "Index: 100\n",
      "Predicted (Snorkel Label Model): 3, True: 0\n",
      "Text: kuwait firm says its truckers held in iraq freed kuwait  reuters    a kuwaiti company with seven truck drivers held captive in iraq said wednesday that they have been freed by their captors \n",
      "------------------------------\n",
      "\n",
      "Index: 128\n",
      "Predicted (Snorkel Label Model): 2, True: 0\n",
      "Text: uk troops on way to baghdad  japan rejects militants      threat basra  oct     hundreds of british soldiers left southern iraq on a risky mission closer to baghdad on wednesday to free up us forces for a possible assault on fallujah   as tokyo stood firm after militants threatened to behead a japanese hostage \n",
      "------------------------------\n",
      "\n",
      "Index: 156\n",
      "Predicted (Snorkel Label Model): 3, True: 0\n",
      "Text: british defence contractor bae agrees to buy digitalnet for         million us  canadian press  canadian press   london  ap    british defence contractor bae systems plc said monday it is buying digitalnet holdings inc   a u s  maker of secure computer networks and a leading information technology supplier to the pentagon \n",
      "------------------------------\n",
      "... and 549 more incorrect predictions not shown.\n"
     ]
    }
   ],
   "source": [
    "from helpers.plot import analyze_model_predictions\n",
    "\n",
    "analyze_model_predictions(\n",
    "    predictions=snorkel_label_model_pred,\n",
    "    true_labels=df_dev.label.values,\n",
    "    texts=df_dev.text.values,\n",
    "    model_name=\"Snorkel Label Model\"\n",
    ")"
   ]
  },
  {
   "cell_type": "markdown",
   "id": "2cf7a763",
   "metadata": {},
   "source": [
    "__Key Observations:__\n",
    "\n",
    "1) Accuracy Advantage:\n",
    "    The Snorkel Label Model outperforms Majority Voting with a ~10% improvement in accuracy (95.3% vs. 85.0%). This suggests that the probabilistic modeling of labeling function accuracies and correlations provides a substantial boost in label quality.\n",
    "\n",
    "2) No Abstentions:\n",
    "    The Label Model produces a prediction for every data point, while Majority Voting abstains on ~11.8% of examples (1,404/11,856), likely due to ties or unanimous abstentions from LFs. This makes the Label Model more suitable for full dataset labeling.\n",
    "\n",
    "3) Error Reduction:\n",
    "    The Label Model reduces the number of incorrect predictions by over 3× (559 vs. 1,780), which demonstrates its ability to filter out noise and model LF reliability more effectively."
   ]
  },
  {
   "cell_type": "markdown",
   "id": "2a5a8882",
   "metadata": {},
   "source": [
    "### Conclusion\n",
    "\n",
    "This project demonstrates the power of weak supervision in natural language processing. By leveraging handcrafted labeling functions (LFs) and advanced techniques, we can effectively classify news titles with minimal human intervention.\n",
    "\n",
    "A key aspect of this approach involves aggregating the outputs of multiple, potentially noisy, labeling functions. We observed that while a Majority Voting approach provides a straightforward baseline for consolidating these weak labels, the Snorkel Label Model offers a more sophisticated and typically more effective solution. By learning the accuracies and correlations among different LFs, the Label Model generally produces higher-quality probabilistic training labels. This, in turn, can lead to improved performance for downstream models trained on these aggregated labels, underscoring its advantage in harnessing the collective intelligence of the LFs more effectively than a simple majority vote. The results from this project likely highlight this improvement, showcasing the Label Model's ability to better discern signal from noise.\n",
    "\n",
    "__Future Work__\n",
    "\n",
    "- Expansion to Datasets with More Classes: Applying this weak supervision framework to datasets with a larger number of categories would test its scalability and the robustness of the LF design. This would likely require more nuanced LFs to distinguish between a greater variety of topics and could reveal new challenges in managing LF conflicts and coverage across a more complex label space.\n",
    "\n",
    "- Cross-lingual Application (e.g., Portuguese): Adapting and evaluating the system on news titles in other languages, such as Portuguese, would be a valuable next step. This would involve:\n",
    "    - Revisiting and potentially redesigning LFs to capture linguistic nuances, keywords, and syntactic structures specific to Portuguese.\n",
    "    - Ensuring that any underlying models (like BERT) are suitable for or fine-tuned on Portuguese text.\n",
    "    - A key point of curiosity would be to observe if the \"activation\" patterns of LFs (i.e., their coverage, precision, and how they trigger on relevant text) translate effectively or if significant re-engineering is required. This would provide insights into the cross-lingual generalizability of the weak supervision strategies employed.\n",
    "- Refinement of Labeling Functions: Continuous iteration on LFs by analyzing their performance (e.g., conflicts, low coverage on certain classes) can further improve the quality of the weak labels.\n",
    "- Exploring More Advanced LF Combination Techniques: Investigating newer or alternative algorithms for combining LF outputs beyond the current Label Model could yield further improvements.\n",
    "\n"
   ]
  },
  {
   "cell_type": "markdown",
   "id": "5a93f36a",
   "metadata": {},
   "source": [
    "### References\n",
    "\n",
    "- DEVLIN, Jacob et al. BERT: Pre-training of Deep Bidirectional Transformers for Language Understanding. In: CONFERENCE OF THE NORTH AMERICAN CHAPTER OF THE ASSOCIATION FOR COMPUTATIONAL LINGUISTICS: HUMAN LANGUAGE TECHNOLOGIES (NAACL-HLT), 2019, Minneapolis, Minnesota. **Proceedings of the 2019 Conference of the North American Chapter of the Association for Computational Linguistics: Human Language Technologies, Volume 1 (Long and Short Papers)**. Minneapolis, Minnesota: Association for Computational Linguistics, 2019. p. 4171-4186. Disponível em: https://aclanthology.org/N19-1423/. Acesso em: 25 maio 2025.\n",
    "\n",
    "- EISENSTEIN, Jacob. **Introduction to Natural Language Processing**. Cambridge, MA: The MIT Press, 2019.\n",
    "\n",
    "- JACOB, Elias. **imd3011-datacentric_ai**. 2023. Repositório GitHub. Disponível em: https://github.com/eliasjacob/imd3011-datacentric_ai. Acesso em: 25 maio 2025.\n",
    "\n",
    "- JURAFSKY, Dan; MARTIN, James H. **Speech and Language Processing. 3. ed. draft. Stanford: Stanford University, 2023**. Disponível em: https://web.stanford.edu/~jurafsky/slp3/. Acesso em: 25 maio 2025.\n",
    "\n",
    "- MASSACHUSETTS INSTITUTE OF TECHNOLOGY. Computer Science and Artificial Intelligence Laboratory. **Data-Centric AI**. Cambridge, MA: MIT CSAIL, 2024. Disponível em: https://dcai.csail.mit.edu/2024/. Acesso em: 25 maio 2025.\n",
    "\n",
    "- MENG, Lingyao et al. WECLASS: **Weakly Supervised Text Classification of Short Texts**. IEEE Access, v. 8, p. 184337-184347, 2020. DOI: 10.1109/ACCESS.2020.3029005. Disponível em: https://ieeexplore.ieee.org/document/9206080. Acesso em: 25 maio 2025.\n",
    "\n",
    "- RATNER, Alexander J. et al. **Data Programming: Creating Large Training Sets, Quickly. In: CONFERENCE ON NEURAL INFORMATION PROCESSING SYSTEMS (NIPS)**, 30., 2016, Barcelona. Proceedings [...]. Red Hook, NY: Curran Associates, Inc., 2016. p. 3567-3575.\n",
    "\n",
    "- ZHANG, Jieyu; SONG, Linxin; RATNER, Alexander. Leveraging Instance Features for Label Aggregation in Programmatic Weak Supervision. arXiv preprint arXiv:2201.11663, 2022. Disponível em: https://arxiv.org/abs/2201.11663. Acesso em: 25 maio 2025."
   ]
  }
 ],
 "metadata": {
  "kernelspec": {
   "display_name": "weakly-labeled-news-ai--KQDVdkK-py3.12",
   "language": "python",
   "name": "python3"
  },
  "language_info": {
   "codemirror_mode": {
    "name": "ipython",
    "version": 3
   },
   "file_extension": ".py",
   "mimetype": "text/x-python",
   "name": "python",
   "nbconvert_exporter": "python",
   "pygments_lexer": "ipython3",
   "version": "3.12.9"
  }
 },
 "nbformat": 4,
 "nbformat_minor": 5
}
